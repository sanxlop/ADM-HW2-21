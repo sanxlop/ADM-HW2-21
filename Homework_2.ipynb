{
 "cells": [
  {
   "cell_type": "markdown",
   "metadata": {},
   "source": [
    "# RQ1"
   ]
  },
  {
   "cell_type": "markdown",
   "metadata": {},
   "source": [
    "[RQ1] In what period of the year Taxis are used more? Create a plot that, for each month, shows the average \n",
    "number of trips recorded each day. Due to the differences among New York zones, we want to visualize the same \n",
    "information for each boroughs. Do you notice any difference among them? Provide comments and plausible explanations \n",
    "about what you observe (e.g.: what is the month with the highest daily average?)."
   ]
  },
  {
   "cell_type": "markdown",
   "metadata": {},
   "source": [
    "#### First Part"
   ]
  },
  {
   "cell_type": "code",
   "execution_count": 1,
   "metadata": {},
   "outputs": [
    {
     "name": "stdout",
     "output_type": "stream",
     "text": [
      "      Month Mean_Trips\n",
      "1   January     272273\n",
      "2  February     303263\n",
      "3     March     294960\n",
      "4     April     310167\n",
      "5       May     287362\n",
      "6      June     290443\n"
     ]
    }
   ],
   "source": [
    "\"\"\"IMPORTING THINGS\"\"\"\n",
    "import pandas as pd\n",
    "import matplotlib.pyplot as plt\n",
    "import datetime \n",
    "import numpy as np\n",
    "\n",
    "\"\"\"LOADING CSV FILES\"\"\"\n",
    "months = ['', 'January', 'February', 'March', 'April', 'May', 'June']\n",
    "numberOfDays = [0, 31, 28, 31, 30, 31, 30]\n",
    "\n",
    "##Making our dataframe\n",
    "df_rq1 = pd.DataFrame(columns=['Month', 'Mean_Trips'])\n",
    "\n",
    "for i in range(1,7):\n",
    "    \n",
    "    taxi_data = pd.read_csv('C:/Users/sanch/Desktop/Taxi Data/yellow_tripdata_2018-0'+str(i)+'.csv', sep=',', encoding='latin1', usecols=['tpep_pickup_datetime'])\n",
    "\n",
    "    \"\"\"RQ1\"\"\"\n",
    "    ##We start filtering by dates because there is some extra information\n",
    "    rq1 = taxi_data[(taxi_data['tpep_pickup_datetime'] >= '2018-0'+str(i)+'-01') & (taxi_data['tpep_pickup_datetime'] <= '2018-0'+str(i)+'-31')]\n",
    "\n",
    "    name = \"\".join(months[i])\n",
    "    mean = int( len(rq1) / numberOfDays[i] )\n",
    "    df_rq1.loc[i] = [name, mean]\n",
    "    \n",
    "print(df_rq1)\n",
    "\n"
   ]
  },
  {
   "cell_type": "code",
   "execution_count": 2,
   "metadata": {
    "scrolled": true
   },
   "outputs": [
    {
     "data": {
      "text/plain": [
       "<BarContainer object of 6 artists>"
      ]
     },
     "execution_count": 2,
     "metadata": {},
     "output_type": "execute_result"
    },
    {
     "data": {
      "image/png": "[encoded data removed]",
      "text/plain": [
       "<Figure size 720x360 with 1 Axes>"
      ]
     },
     "metadata": {},
     "output_type": "display_data"
    }
   ],
   "source": [
    "plt.figure(figsize=(10,5))\n",
    "y1 = df_rq1['Month']\n",
    "y2 = df_rq1['Mean_Trips']\n",
    "plt.bar(y1,y2)"
   ]
  },
  {
   "cell_type": "markdown",
   "metadata": {},
   "source": [
    "This plot shows the difference between the mean of trips for each month. We can see that the higher values are in February and April and the lowest value it takes place on January."
   ]
  },
  {
   "cell_type": "markdown",
   "metadata": {},
   "source": [
    "#### Second Part"
   ]
  },
  {
   "cell_type": "code",
   "execution_count": 11,
   "metadata": {},
   "outputs": [],
   "source": [
    "\"\"\"IMPORTING THINGS\"\"\"\n",
    "import pandas as pd\n",
    "import matplotlib.pyplot as plt\n",
    "import datetime \n",
    "import numpy as np\n",
    "\n",
    "\"\"\"LOADING CSV FILES\"\"\"\n",
    "months = ['', 'January', 'February', 'March', 'April', 'May', 'June']\n",
    "numberOfDays = [0, 31, 28, 31, 30, 31, 30]\n",
    "listOfBoroughs = []\n",
    "\n",
    "for i in range(1,7):\n",
    "    \n",
    "    taxi_data = pd.read_csv('C:/Users/sanch/Desktop/Taxi Data/yellow_tripdata_2018-0'+str(i)+'.csv', sep=',', encoding='latin1', usecols=['tpep_pickup_datetime', 'PULocationID'])\n",
    "    taxi_zone_lookup = pd.read_csv('C:/Users/sanch/Desktop/Taxi Data/taxi_zone_lookup.csv', sep=',', encoding='latin1', usecols=['LocationID', 'Borough'])\n",
    "\n",
    "    \"\"\"MERGING YELLOW TAXI WITH ZONES\"\"\"\n",
    "    taxi_merge = pd.merge(taxi_data, taxi_zone_lookup, how=\"inner\", left_on=\"PULocationID\", right_on=\"LocationID\")\n",
    "\n",
    "    \"\"\"RQ1\"\"\"\n",
    "    ##We start filtering by dates because there is some extra information\n",
    "    rq1 = taxi_merge[(taxi_merge['tpep_pickup_datetime'] >= '2018-0'+str(i)+'-01') & (taxi_merge['tpep_pickup_datetime'] <= '2018-0'+str(i)+'-31')]\n",
    "\n",
    "    ##Getting boroughs names:\n",
    "    if(i ==1):\n",
    "        listOfBoroughs = taxi_merge.loc[:, ['Borough']].drop_duplicates().values.tolist()\n",
    "        ##Making our dataframe\n",
    "        df_rq1_byZones = pd.DataFrame(columns=['Borough'])\n",
    "        x=0\n",
    "        for name in listOfBoroughs:\n",
    "            df_rq1_byZones.loc[x] = [\"\".join(name)]\n",
    "            x += 1\n",
    "\n",
    "    j=0\n",
    "    listOfMeans = []\n",
    "    for nameB in listOfBoroughs:\n",
    "        name = \"\".join(nameB)\n",
    "        mean = int( len(rq1.loc[rq1['Borough'] == name]) / numberOfDays[i] )\n",
    "        listOfMeans.append(mean)\n",
    "        j += 1\n",
    "    \n",
    "    meansDf = pd.DataFrame({months[i]: listOfMeans})\n",
    "    df_rq1_byZones = df_rq1_byZones.join(meansDf)\n",
    "    \n",
    "df_rq1_byZones = df_rq1_byZones.drop([4])\n",
    "df_rq1_byZones = df_rq1_byZones.reset_index(drop=True)"
   ]
  },
  {
   "cell_type": "code",
   "execution_count": 12,
   "metadata": {},
   "outputs": [
    {
     "data": {
      "text/html": [
       "<div>\n",
       "<style scoped>\n",
       "    .dataframe tbody tr th:only-of-type {\n",
       "        vertical-align: middle;\n",
       "    }\n",
       "\n",
       "    .dataframe tbody tr th {\n",
       "        vertical-align: top;\n",
       "    }\n",
       "\n",
       "    .dataframe thead th {\n",
       "        text-align: right;\n",
       "    }\n",
       "</style>\n",
       "<table border=\"1\" class=\"dataframe\">\n",
       "  <thead>\n",
       "    <tr style=\"text-align: right;\">\n",
       "      <th></th>\n",
       "      <th>Borough</th>\n",
       "      <th>January</th>\n",
       "      <th>February</th>\n",
       "      <th>March</th>\n",
       "      <th>April</th>\n",
       "      <th>May</th>\n",
       "      <th>June</th>\n",
       "    </tr>\n",
       "  </thead>\n",
       "  <tbody>\n",
       "    <tr>\n",
       "      <th>0</th>\n",
       "      <td>Manhattan</td>\n",
       "      <td>247484</td>\n",
       "      <td>277401</td>\n",
       "      <td>267899</td>\n",
       "      <td>280945</td>\n",
       "      <td>260033</td>\n",
       "      <td>262610</td>\n",
       "    </tr>\n",
       "    <tr>\n",
       "      <th>1</th>\n",
       "      <td>Queens</td>\n",
       "      <td>16489</td>\n",
       "      <td>17303</td>\n",
       "      <td>17797</td>\n",
       "      <td>19876</td>\n",
       "      <td>19098</td>\n",
       "      <td>19157</td>\n",
       "    </tr>\n",
       "    <tr>\n",
       "      <th>2</th>\n",
       "      <td>Bronx</td>\n",
       "      <td>232</td>\n",
       "      <td>234</td>\n",
       "      <td>320</td>\n",
       "      <td>347</td>\n",
       "      <td>341</td>\n",
       "      <td>340</td>\n",
       "    </tr>\n",
       "    <tr>\n",
       "      <th>3</th>\n",
       "      <td>Brooklyn</td>\n",
       "      <td>3130</td>\n",
       "      <td>3396</td>\n",
       "      <td>3815</td>\n",
       "      <td>3968</td>\n",
       "      <td>3850</td>\n",
       "      <td>4098</td>\n",
       "    </tr>\n",
       "    <tr>\n",
       "      <th>4</th>\n",
       "      <td>Staten Island</td>\n",
       "      <td>4</td>\n",
       "      <td>3</td>\n",
       "      <td>4</td>\n",
       "      <td>4</td>\n",
       "      <td>4</td>\n",
       "      <td>5</td>\n",
       "    </tr>\n",
       "    <tr>\n",
       "      <th>5</th>\n",
       "      <td>EWR</td>\n",
       "      <td>17</td>\n",
       "      <td>17</td>\n",
       "      <td>20</td>\n",
       "      <td>23</td>\n",
       "      <td>23</td>\n",
       "      <td>22</td>\n",
       "    </tr>\n",
       "  </tbody>\n",
       "</table>\n",
       "</div>"
      ],
      "text/plain": [
       "         Borough  January  February   March   April     May    June\n",
       "0      Manhattan   247484    277401  267899  280945  260033  262610\n",
       "1         Queens    16489     17303   17797   19876   19098   19157\n",
       "2          Bronx      232       234     320     347     341     340\n",
       "3       Brooklyn     3130      3396    3815    3968    3850    4098\n",
       "4  Staten Island        4         3       4       4       4       5\n",
       "5            EWR       17        17      20      23      23      22"
      ]
     },
     "execution_count": 12,
     "metadata": {},
     "output_type": "execute_result"
    }
   ],
   "source": [
    "df_rq1_byZones"
   ]
  },
  {
   "cell_type": "code",
   "execution_count": 14,
   "metadata": {
    "scrolled": false
   },
   "outputs": [
    {
     "data": {
      "image/png": "[encoded data removed]",
      "text/plain": [
       "<Figure size 720x360 with 1 Axes>"
      ]
     },
     "metadata": {},
     "output_type": "display_data"
    },
    {
     "data": {
      "image/png": "[encoded data removed]",
      "text/plain": [
       "<Figure size 720x360 with 1 Axes>"
      ]
     },
     "metadata": {},
     "output_type": "display_data"
    },
    {
     "data": {
      "image/png": "[encoded data removed]",
      "text/plain": [
       "<Figure size 720x360 with 1 Axes>"
      ]
     },
     "metadata": {},
     "output_type": "display_data"
    },
    {
     "data": {
      "image/png": "[encoded data removed]",
      "text/plain": [
       "<Figure size 720x360 with 1 Axes>"
      ]
     },
     "metadata": {},
     "output_type": "display_data"
    },
    {
     "data": {
      "image/png": "[encoded data removed]",
      "text/plain": [
       "<Figure size 720x360 with 1 Axes>"
      ]
     },
     "metadata": {},
     "output_type": "display_data"
    },
    {
     "data": {
      "image/png": "[encoded data removed]",
      "text/plain": [
       "<Figure size 720x360 with 1 Axes>"
      ]
     },
     "metadata": {},
     "output_type": "display_data"
    }
   ],
   "source": [
    "months = ['Borough', 'January', 'February', 'March', 'April', 'May', 'June']\n",
    "listOfPrint = [0,1,2,3,4,5]\n",
    "for z in listOfPrint:\n",
    "    oneplot = df_rq1_byZones.loc[z:z, months]\n",
    "    \n",
    "    ax = oneplot[months[1:7]].plot(kind='bar',  figsize=(10, 5), legend=True, fontsize=12, title=\"\".join(df_rq1_byZones.loc[z:z, 'Borough']))\n",
    "    ax.set_xlabel(\"Months\", fontsize=12)\n",
    "    ax.set_ylabel(\"Mean\", fontsize=12)\n",
    "    plt.show()"
   ]
  },
  {
   "cell_type": "markdown",
   "metadata": {},
   "source": [
    "This plots show the difference between the mean of trips for each month and borough. \n",
    "- In Manhattan we can observe that the mean of trips increments each months having the maximum on April as in NYC\n",
    "- In Queens and Bronx happen almost the same, but in Bronx they have the maximum on June\n",
    "- In Brooklyn on May and June they use less the taxis in comparison with the other months.\n",
    "- In Staten Island have the maximum of mean trips on April May and June."
   ]
  },
  {
   "cell_type": "markdown",
   "metadata": {},
   "source": [
    "# RQ2"
   ]
  },
  {
   "cell_type": "markdown",
   "metadata": {},
   "source": [
    "[RQ2] _What are the time slots with more passengers?_ Set your own time slots and discover which are those when Taxis drive the highest number of passengers overall New York and repeat the analysis for each borough. Provide the results through a visualization and comment them."
   ]
  },
  {
   "cell_type": "markdown",
   "metadata": {},
   "source": [
    "### DATA PREPARATION\n",
    "For every we want to analyze (the months from January until June), we repeat the following operations to prepare the data:\n",
    "- Import the colums \"pickup date and time\" and \"pickup location ID\" from the CSV\n",
    "- Remove all the data that isn't part of the month\n",
    "- Create a new column containing a variable timezone derived from the pickup time\n",
    "- Append the result data to a temporary array\n",
    "\n",
    "After we collected and cleaned all the data, we merge it into the *taxi data* variable."
   ]
  },
  {
   "cell_type": "code",
   "execution_count": 1,
   "metadata": {},
   "outputs": [
    {
     "data": {
      "text/html": [
       "<div>\n",
       "<style scoped>\n",
       "    .dataframe tbody tr th:only-of-type {\n",
       "        vertical-align: middle;\n",
       "    }\n",
       "\n",
       "    .dataframe tbody tr th {\n",
       "        vertical-align: top;\n",
       "    }\n",
       "\n",
       "    .dataframe thead th {\n",
       "        text-align: right;\n",
       "    }\n",
       "</style>\n",
       "<table border=\"1\" class=\"dataframe\">\n",
       "  <thead>\n",
       "    <tr style=\"text-align: right;\">\n",
       "      <th></th>\n",
       "      <th>tpep_pickup_datetime</th>\n",
       "      <th>PULocationID</th>\n",
       "      <th>time_zone</th>\n",
       "    </tr>\n",
       "  </thead>\n",
       "  <tbody>\n",
       "    <tr>\n",
       "      <th>0</th>\n",
       "      <td>2018-01-01 00:21:05</td>\n",
       "      <td>41</td>\n",
       "      <td>00</td>\n",
       "    </tr>\n",
       "    <tr>\n",
       "      <th>1</th>\n",
       "      <td>2018-01-01 00:44:55</td>\n",
       "      <td>239</td>\n",
       "      <td>00</td>\n",
       "    </tr>\n",
       "    <tr>\n",
       "      <th>2</th>\n",
       "      <td>2018-01-01 00:08:26</td>\n",
       "      <td>262</td>\n",
       "      <td>00</td>\n",
       "    </tr>\n",
       "    <tr>\n",
       "      <th>3</th>\n",
       "      <td>2018-01-01 00:20:22</td>\n",
       "      <td>140</td>\n",
       "      <td>00</td>\n",
       "    </tr>\n",
       "    <tr>\n",
       "      <th>4</th>\n",
       "      <td>2018-01-01 00:09:18</td>\n",
       "      <td>246</td>\n",
       "      <td>00</td>\n",
       "    </tr>\n",
       "  </tbody>\n",
       "</table>\n",
       "</div>"
      ],
      "text/plain": [
       "  tpep_pickup_datetime  PULocationID time_zone\n",
       "0  2018-01-01 00:21:05            41        00\n",
       "1  2018-01-01 00:44:55           239        00\n",
       "2  2018-01-01 00:08:26           262        00\n",
       "3  2018-01-01 00:20:22           140        00\n",
       "4  2018-01-01 00:09:18           246        00"
      ]
     },
     "execution_count": 1,
     "metadata": {},
     "output_type": "execute_result"
    }
   ],
   "source": [
    "# IMPORTS\n",
    "import pandas as pd\n",
    "import matplotlib.pyplot as plt\n",
    "import datetime \n",
    "import numpy as np\n",
    "from matplotlib.ticker import FuncFormatter\n",
    "import numpy as np\n",
    "\n",
    "pd.options.mode.chained_assignment = None\n",
    "\n",
    "timestamps = [\"00\", \"01\", \"02\", \"03\", \"04\", \"05\", \"06\", \"07\", \"08\", \"09\", \"10\", \"11\", \"12\", \"13\", \"14\", \"15\", \"16\", \"17\", \"18\", \"19\", \"20\", \"21\", \"22\", \"23\"]\n",
    "taxi_data = pd.DataFrame(columns = timestamps)\n",
    "tmp = []\n",
    "\n",
    "#Repeat for every file\n",
    "for csv in range(1,7):\n",
    "    taxidata = None\n",
    "    rq2 = None\n",
    "\n",
    "    # Loading CSV file\n",
    "    taxi_data = pd.read_csv('data/yellow_tripdata_2018-0'+str(csv)+'.csv', \n",
    "                            sep=',', \n",
    "                            encoding='latin1', \n",
    "                            usecols = ['tpep_pickup_datetime', 'PULocationID'])\n",
    "    \n",
    "    \n",
    "    # Cleaning Data filtering just for the actual days of the month\n",
    "    rq2 = taxi_data[(taxi_data['tpep_pickup_datetime'] >= '2018-0'+str(csv)+'-01') & \n",
    "                    (taxi_data['tpep_pickup_datetime'] <= '2018-0'+str(csv)+'-31')]\n",
    "\n",
    "\n",
    "    # Creating a new column for the timezone\n",
    "    rq2['time_zone'] = rq2['tpep_pickup_datetime'].apply(lambda x:x[11:13])\n",
    "    \n",
    "    tmp.append(rq2)\n",
    "    del rq2\n",
    "\n",
    "taxi_data = pd.concat([*tmp])\n",
    "del tmp\n",
    "taxi_data.head(5)\n"
   ]
  },
  {
   "cell_type": "markdown",
   "metadata": {},
   "source": [
    "### DATA EXPLORATION OVERALL NEW YORK\n",
    "We want to explore how's the data overall NYC. The first step is to count how many values every time zone has. Then we'll proceed to plot the result."
   ]
  },
  {
   "cell_type": "code",
   "execution_count": 2,
   "metadata": {},
   "outputs": [],
   "source": [
    "# Count the values\n",
    "toplot = taxi_data['time_zone'].value_counts()\n",
    "toplot = toplot.sort_index()"
   ]
  },
  {
   "cell_type": "code",
   "execution_count": 3,
   "metadata": {},
   "outputs": [],
   "source": [
    "# Create all the possible timezones for the values (to use as indexes)\n",
    "timestamps = [\"00\", \"01\", \"02\", \"03\", \"04\", \"05\", \"06\", \"07\", \"08\", \"09\", \"10\", \"11\", \"12\", \"13\", \"14\", \"15\", \"16\", \"17\", \"18\", \"19\", \"20\", \"21\", \"22\", \"23\"]"
   ]
  },
  {
   "cell_type": "code",
   "execution_count": 4,
   "metadata": {},
   "outputs": [],
   "source": [
    "color = 150+(toplot / max(toplot) * 105)\n",
    "color = ['#1F77'+(str(hex(int(x)))).replace('0x','') for x in color ]"
   ]
  },
  {
   "cell_type": "code",
   "execution_count": 5,
   "metadata": {},
   "outputs": [
    {
     "data": {
      "text/plain": [
       "<matplotlib.axes._subplots.AxesSubplot at 0x124ce3cc0>"
      ]
     },
     "execution_count": 5,
     "metadata": {},
     "output_type": "execute_result"
    },
    {
     "data": {
      "image/png": "[encoded data removed]",
      "text/plain": [
       "<Figure size 1728x648 with 1 Axes>"
      ]
     },
     "metadata": {},
     "output_type": "display_data"
    }
   ],
   "source": [
    "toplot.plot(kind=\"bar\", figsize=(24,9), color= color)"
   ]
  },
  {
   "cell_type": "markdown",
   "metadata": {},
   "source": [
    "We can see that the hours with less traffic are the night ones (02 to 05), meanwhile during the day the number of client is higher and quite constant, with a peak in the early evening (18 -19)."
   ]
  },
  {
   "cell_type": "markdown",
   "metadata": {},
   "source": [
    "### DATA EXPLORATION OF TRAFFIC HOURS BY BOROUGH\n",
    "We want to see how the traffic behaves in every single borough. First we merge the dataset we have with the one containing the names of the boroughs. Then we count the data we have, this time grouped by borough. We then drop the Unknown data, since we don't know at which category they're part of, and finally we plot a stacked chart of the values"
   ]
  },
  {
   "cell_type": "code",
   "execution_count": 6,
   "metadata": {},
   "outputs": [],
   "source": [
    "taxi_zone_lookup = pd.read_csv('data/taxi_zone_lookup.csv', sep=',', encoding='latin1')\n",
    "taxi_data = taxi_data.join(taxi_zone_lookup.set_index('LocationID').add_prefix('PU_'), on='PULocationID')\n",
    "taxi_data = taxi_data[['time_zone','PU_Borough']]"
   ]
  },
  {
   "cell_type": "code",
   "execution_count": 7,
   "metadata": {},
   "outputs": [
    {
     "data": {
      "text/plain": [
       "<matplotlib.axes._subplots.AxesSubplot at 0x1bff63400>"
      ]
     },
     "execution_count": 7,
     "metadata": {},
     "output_type": "execute_result"
    },
    {
     "data": {
      "image/png": "[encoded data removed]",
      "text/plain": [
       "<Figure size 1800x720 with 1 Axes>"
      ]
     },
     "metadata": {},
     "output_type": "display_data"
    }
   ],
   "source": [
    "toplot = taxi_data.groupby(['time_zone', 'PU_Borough']).size().unstack('PU_Borough').fillna(0)\n",
    "toplot.drop('Unknown', axis=1, inplace=True)\n",
    "toplot[toplot.columns.tolist()].plot(figsize=(25, 10),kind='bar', stacked=True, color = ['#e6194b', '#3cb44b', '#ffe119','#4363d8', '#f58231', '#911eb4'])"
   ]
  },
  {
   "cell_type": "markdown",
   "metadata": {},
   "source": [
    "Since Manhattan values are incredibly larger respect to the other boroughts, we cannot really see how they behaves. We decided then to keep going with the analysis, plotting the values for every single borough."
   ]
  },
  {
   "cell_type": "code",
   "execution_count": 9,
   "metadata": {
    "scrolled": false,
    "slideshow": {
     "slide_type": "-"
    }
   },
   "outputs": [
    {
     "data": {
      "image/png": "[encoded data removed]",
      "text/plain": [
       "<Figure size 864x360 with 1 Axes>"
      ]
     },
     "metadata": {},
     "output_type": "display_data"
    },
    {
     "data": {
      "image/png": "[encoded data removed]",
      "text/plain": [
       "<Figure size 864x360 with 1 Axes>"
      ]
     },
     "metadata": {},
     "output_type": "display_data"
    },
    {
     "data": {
      "image/png": "[encoded data removed]",
      "text/plain": [
       "<Figure size 864x360 with 1 Axes>"
      ]
     },
     "metadata": {},
     "output_type": "display_data"
    },
    {
     "data": {
      "image/png": "[encoded data removed]",
      "text/plain": [
       "<Figure size 864x360 with 1 Axes>"
      ]
     },
     "metadata": {},
     "output_type": "display_data"
    },
    {
     "data": {
      "image/png": "[encoded data removed]",
      "text/plain": [
       "<Figure size 864x360 with 1 Axes>"
      ]
     },
     "metadata": {},
     "output_type": "display_data"
    },
    {
     "data": {
      "image/png": "[encoded data removed]",
      "text/plain": [
       "<Figure size 864x360 with 1 Axes>"
      ]
     },
     "metadata": {},
     "output_type": "display_data"
    }
   ],
   "source": [
    "\n",
    "for b in toplot.columns.tolist():\n",
    "    color = 150+(toplot[b] / max(toplot[b]) * 105)\n",
    "    color = ['#1F77'+(str(hex(int(x)))).replace('0x','') for x in color ]\n",
    "    toplot[b].plot(figsize=(12, 5), \n",
    "                   kind='bar', \n",
    "                   stacked=True, \n",
    "                   title = str(b), \n",
    "                   color = color).set_xlabel(\"Hourly time interval\")\n",
    "    plt.show()\n",
    "\n"
   ]
  },
  {
   "cell_type": "markdown",
   "metadata": {},
   "source": [
    "From this plots we can observe that:\n",
    "- Bronx has the highest peak in the early morning (7-8) and not much difference during the day\n",
    "- Brooklyn has two peaks, one in the early morning, and the other one in the late night (after 23), probably because of the nightlife it is famous for\n",
    "- The airport has a peak that goes between 14 and 17, and goes very little in the night (supposely when the airport has no flights)\n",
    "- Manhattan has the highest value of all the boroughts, with distributed values during the day\n",
    "- The Queens has increasing values for the early and late night, probably here as well because of a significative nightlife\n",
    "- State Island presents the smallest values, with the highest peak at 5am, and the lowest right after in the next time zone. This values are not very meaningful as presented here."
   ]
  },
  {
   "cell_type": "markdown",
   "metadata": {},
   "source": [
    "# RQ3"
   ]
  },
  {
   "cell_type": "markdown",
   "metadata": {},
   "source": [
    "[RQ3] _Do the all trips last the same?_ Let's put our attention on the distribution of trip's duration. Provide a plot for it and comment what you see. Run this analysis for NYC and for each borough (and obviously comment the results!). "
   ]
  },
  {
   "cell_type": "markdown",
   "metadata": {},
   "source": [
    "#### Import Libraries"
   ]
  },
  {
   "cell_type": "code",
   "execution_count": 1,
   "metadata": {},
   "outputs": [],
   "source": [
    "import pandas as pd\n",
    "import matplotlib.pyplot as plt\n",
    "import datetime as dt\n",
    "import numpy as np"
   ]
  },
  {
   "cell_type": "markdown",
   "metadata": {},
   "source": [
    "### Obtaining data to study duration trips of all NYC (1)\n",
    "\n",
    "- Start Variables\n",
    "- Make a loop to read all the csv files\n",
    "- Calculate and save all the differences of time\n",
    "- Save all data in a dataset"
   ]
  },
  {
   "cell_type": "code",
   "execution_count": 2,
   "metadata": {
    "scrolled": true
   },
   "outputs": [],
   "source": [
    "##Starting Variables and Making our dataframe\n",
    "months = ['', 'January', 'February', 'March', 'April', 'May', 'June']\n",
    "df_rq3 = pd.DataFrame()\n",
    "\n",
    "##Loop 6 times, each per month\n",
    "for i in range(1,7):\n",
    "    \n",
    "    ##Reading the columns of date and time\n",
    "    taxi_data = pd.read_csv('C:/Users/sanch/Desktop/Taxi Data/yellow_tripdata_2018-0'+str(i)+'.csv', sep=',', encoding='latin1', usecols=['tpep_pickup_datetime', 'tpep_dropoff_datetime'])\n",
    "    \n",
    "    ##Filtering by dates because there is some extra information\n",
    "    rq3 = taxi_data[(taxi_data['tpep_pickup_datetime'] >= '2018-0'+str(i)+'-01') & (taxi_data['tpep_pickup_datetime'] <= '2018-0'+str(i)+'-31')]\n",
    "    \n",
    "    ##Calculate the difftimes and saving in listOfTimes\n",
    "    numberOfRows = len(rq3['tpep_pickup_datetime'])\n",
    "    \n",
    "    ##Calculate the differences of time\n",
    "    a =  pd.to_datetime(rq3['tpep_pickup_datetime'], format='%Y-%m-%d %H:%M:%S')\n",
    "    b =  pd.to_datetime(rq3['tpep_dropoff_datetime'], format='%Y-%m-%d %H:%M:%S')\n",
    "    \n",
    "    ##Add column to the dataset\n",
    "    df_rq3[months[i]] = (b-a).dt.total_seconds()\n",
    "    \n",
    "    del rq3, taxi_data"
   ]
  },
  {
   "cell_type": "markdown",
   "metadata": {},
   "source": [
    "Put all month's columns in one column"
   ]
  },
  {
   "cell_type": "code",
   "execution_count": 3,
   "metadata": {
    "scrolled": true
   },
   "outputs": [
    {
     "data": {
      "text/plain": [
       "0           198.0\n",
       "1          1090.0\n",
       "2           355.0\n",
       "3          1949.0\n",
       "4          1068.0\n",
       "5           199.0\n",
       "6           616.0\n",
       "7           144.0\n",
       "8           267.0\n",
       "9           320.0\n",
       "10          346.0\n",
       "11         1479.0\n",
       "12          251.0\n",
       "13          573.0\n",
       "14          946.0\n",
       "15         1026.0\n",
       "16         2553.0\n",
       "17          253.0\n",
       "18         2205.0\n",
       "19          356.0\n",
       "20         1183.0\n",
       "21          757.0\n",
       "22         1273.0\n",
       "23         1610.0\n",
       "24          775.0\n",
       "25          274.0\n",
       "26         1321.0\n",
       "27          170.0\n",
       "28          434.0\n",
       "29          417.0\n",
       "            ...  \n",
       "8446530      10.0\n",
       "8446550     612.0\n",
       "8446552    1434.0\n",
       "8446598     600.0\n",
       "8446634     121.0\n",
       "8446650     855.0\n",
       "8446798     699.0\n",
       "8448320     890.0\n",
       "8449297     478.0\n",
       "8449534     583.0\n",
       "8449608     772.0\n",
       "8449808     614.0\n",
       "8449886     302.0\n",
       "8449964     733.0\n",
       "8449965     718.0\n",
       "8451114     501.0\n",
       "8451115     317.0\n",
       "8451716     751.0\n",
       "8451717     704.0\n",
       "8451718     531.0\n",
       "8452013    1479.0\n",
       "8452050    2403.0\n",
       "8452816    2662.0\n",
       "8453204     975.0\n",
       "8453752     807.0\n",
       "8712022     317.0\n",
       "8748693       NaN\n",
       "8751697       NaN\n",
       "8759210       NaN\n",
       "8759577       NaN\n",
       "Length: 50642934, dtype: float64"
      ]
     },
     "execution_count": 3,
     "metadata": {},
     "output_type": "execute_result"
    }
   ],
   "source": [
    "a=df_rq3[months[1]]\n",
    "b=df_rq3[months[2]]\n",
    "c=df_rq3[months[3]]\n",
    "d=df_rq3[months[4]]\n",
    "e=df_rq3[months[5]]\n",
    "f=df_rq3[months[6]]\n",
    "\n",
    "oneColumnData = pd.concat([a,b,c,d,e,f])\n",
    "oneColumnData"
   ]
  },
  {
   "cell_type": "markdown",
   "metadata": {},
   "source": [
    "#### Plotting Results with density graphs\n",
    "We are plotting the density.\n",
    "To have an idea of the range of duration we are calculating the max values of duration for each month. We have omitted some data as they are scarce and even wrong."
   ]
  },
  {
   "cell_type": "code",
   "execution_count": 4,
   "metadata": {},
   "outputs": [
    {
     "name": "stdout",
     "output_type": "stream",
     "text": [
      "531167.0\n",
      "January     322924.0\n",
      "February    332349.0\n",
      "March       341821.0\n",
      "April       148281.0\n",
      "May          86399.0\n",
      "June        531167.0\n",
      "dtype: float64\n"
     ]
    }
   ],
   "source": [
    "print(oneColumnData.max())\n",
    "print(df_rq3.max())"
   ]
  },
  {
   "cell_type": "markdown",
   "metadata": {},
   "source": [
    "This plot refers to density duration of all months:"
   ]
  },
  {
   "cell_type": "code",
   "execution_count": 5,
   "metadata": {},
   "outputs": [
    {
     "data": {
      "image/png": "[encoded data removed]",
      "text/plain": [
       "<Figure size 864x360 with 1 Axes>"
      ]
     },
     "metadata": {},
     "output_type": "display_data"
    }
   ],
   "source": [
    "rangesPlot = [0,10,50,100,200,500,800,1000,1500,2000,4000,6000,8000,10000]\n",
    "ax = oneColumnData.plot.density(ind=rangesPlot, figsize=(12,5), title='Density duration all months')\n",
    "ax.set_xlabel(\"Duration (s)\")\n",
    "ax.set_ylabel(\"Density\")\n",
    "plt.show()"
   ]
  },
  {
   "cell_type": "markdown",
   "metadata": {},
   "source": [
    "As we can see most of the trips last between 10 to 2000 seconds then the plot starts growing down.\n",
    "\n",
    "This plot refers to density duration trips for each month:"
   ]
  },
  {
   "cell_type": "code",
   "execution_count": 7,
   "metadata": {
    "scrolled": false
   },
   "outputs": [
    {
     "data": {
      "image/png": "[encoded data removed]",
      "text/plain": [
       "<Figure size 864x360 with 1 Axes>"
      ]
     },
     "metadata": {},
     "output_type": "display_data"
    }
   ],
   "source": [
    "rangesPlo2 = [0,10,50,100,200,300,400,500,600,700,800,1000,1200,1400,1600,1800,2000,4000,6000,8000,10000]\n",
    "ax2 = df_rq3.loc[0:, months[1:7]].plot.density(ind=rangesPlo2, figsize=(12,5), title='Density duration for each months')\n",
    "ax2.set_xlabel(\"Duration (s)\")\n",
    "ax2.set_ylabel(\"Density\")\n",
    "plt.show()"
   ]
  },
  {
   "cell_type": "markdown",
   "metadata": {},
   "source": [
    "As you can see in the previous graph, all the months follow the same density distribution with maximum in 500 s while Mayo follows a more stable density distribution.\n",
    "\n",
    "Now we are plotting the data by intervals:"
   ]
  },
  {
   "cell_type": "code",
   "execution_count": 10,
   "metadata": {
    "scrolled": false
   },
   "outputs": [
    {
     "data": {
      "image/png": "[encoded data removed]",
      "text/plain": [
       "<Figure size 864x360 with 1 Axes>"
      ]
     },
     "metadata": {},
     "output_type": "display_data"
    }
   ],
   "source": [
    "out = pd.cut(oneColumnData, bins=[0, 60, 300, 900, 1800, 3600, 7200, max(oneColumnData)])\n",
    "ax3 = out.value_counts(sort=False).plot.bar(rot=0, figsize=(12,5), title='Density duration by intervals')\n",
    "ax3.set_xlabel(\"Intervals of Duration\")\n",
    "ax3.set_ylabel(\"Density\")\n",
    "ax3.set_xticklabels(['0-1 min', '1-5 min', '5-15 min', '15-30 min', '30-60 min', '1-2 h', '>2 h'])\n",
    "plt.show()"
   ]
  },
  {
   "cell_type": "code",
   "execution_count": 12,
   "metadata": {},
   "outputs": [
    {
     "data": {
      "text/plain": [
       "16.492708356351244"
      ]
     },
     "execution_count": 12,
     "metadata": {},
     "output_type": "execute_result"
    }
   ],
   "source": [
    "oneColumnData.mean()/60"
   ]
  },
  {
   "cell_type": "markdown",
   "metadata": {},
   "source": [
    "We have plot intervals [0-1 min, 1-5 min, 5-15 min, 15-30 min, 30-60 min, 60-120 min ...]. As we can see in the plot most of the trips last 5-15 min, it follows 15-30 min and 1-5 min."
   ]
  },
  {
   "cell_type": "markdown",
   "metadata": {},
   "source": [
    "### Obtaining data to study duration trips for each Borough (2)\n",
    "\n",
    "- Start Variables\n",
    "- Make a loop to read all the csv files\n",
    "- Calculate and save all the differences of time\n",
    "- Save all data in a dataset"
   ]
  },
  {
   "cell_type": "code",
   "execution_count": 13,
   "metadata": {
    "scrolled": true
   },
   "outputs": [
    {
     "name": "stdout",
     "output_type": "stream",
     "text": [
      "1\n",
      "2\n",
      "3\n",
      "4\n",
      "5\n",
      "6\n"
     ]
    }
   ],
   "source": [
    "##Starting Variables and Making our dataframe\n",
    "months = ['', 'January', 'February', 'March', 'April', 'May', 'June']\n",
    "taxi_zone_lookup = pd.read_csv('C:/Users/sanch/Desktop/Taxi Data/taxi_zone_lookup.csv', sep=',', encoding='latin1', usecols=['LocationID', 'Borough'])\n",
    "total_data = pd.DataFrame()\n",
    "partial_data = pd.DataFrame()\n",
    "\n",
    "##Getting boroughs names:\n",
    "listOfBoroughs = taxi_zone_lookup.loc[:, ['Borough']].drop_duplicates().values.tolist()\n",
    "\n",
    "##Loop 6 times, each per month\n",
    "for i in range(1,7):\n",
    "    \n",
    "    ##Reading the columns of date and time\n",
    "    taxi_data = pd.read_csv('C:/Users/sanch/Desktop/Taxi Data/yellow_tripdata_2018-0'+str(i)+'.csv', sep=',', encoding='latin1', usecols=['tpep_pickup_datetime', 'tpep_dropoff_datetime', 'PULocationID'])\n",
    "    \n",
    "    ##Merging the data with Boroughs\n",
    "    rq3 = pd.merge(taxi_data, taxi_zone_lookup, how=\"inner\", left_on=\"PULocationID\", right_on=\"LocationID\")\n",
    "    \n",
    "    ##We start filtering by dates because there is some extra information\n",
    "    rq3 = rq3[(rq3['tpep_pickup_datetime'] >= '2018-0'+str(i)+'-01') & (rq3['tpep_pickup_datetime'] <= '2018-0'+str(i)+'-31')]\n",
    "    print(i)\n",
    "\n",
    "    ##Calculate the differences of time\n",
    "    a =  pd.to_datetime(rq3['tpep_pickup_datetime'], format='%Y-%m-%d %H:%M:%S')\n",
    "    b =  pd.to_datetime(rq3['tpep_dropoff_datetime'], format='%Y-%m-%d %H:%M:%S')\n",
    "    listOfDurations = (b-a).dt.total_seconds()\n",
    "    rq3['duration'] = listOfDurations\n",
    "    \n",
    "    partial_data = pd.concat([rq3['Borough'], rq3['duration']], axis=1)\n",
    "    total_data = pd.concat([total_data, partial_data])\n",
    "    \n",
    "    del a, b, listOfDurations, partial_data, taxi_data, rq3\n",
    "    "
   ]
  },
  {
   "cell_type": "code",
   "execution_count": 15,
   "metadata": {
    "scrolled": true
   },
   "outputs": [
    {
     "data": {
      "text/html": [
       "<div>\n",
       "<style scoped>\n",
       "    .dataframe tbody tr th:only-of-type {\n",
       "        vertical-align: middle;\n",
       "    }\n",
       "\n",
       "    .dataframe tbody tr th {\n",
       "        vertical-align: top;\n",
       "    }\n",
       "\n",
       "    .dataframe thead th {\n",
       "        text-align: right;\n",
       "    }\n",
       "</style>\n",
       "<table border=\"1\" class=\"dataframe\">\n",
       "  <thead>\n",
       "    <tr style=\"text-align: right;\">\n",
       "      <th></th>\n",
       "      <th>Borough</th>\n",
       "      <th>duration</th>\n",
       "    </tr>\n",
       "  </thead>\n",
       "  <tbody>\n",
       "    <tr>\n",
       "      <th>0</th>\n",
       "      <td>Manhattan</td>\n",
       "      <td>198.0</td>\n",
       "    </tr>\n",
       "    <tr>\n",
       "      <th>1</th>\n",
       "      <td>Manhattan</td>\n",
       "      <td>620.0</td>\n",
       "    </tr>\n",
       "    <tr>\n",
       "      <th>2</th>\n",
       "      <td>Manhattan</td>\n",
       "      <td>159.0</td>\n",
       "    </tr>\n",
       "    <tr>\n",
       "      <th>3</th>\n",
       "      <td>Manhattan</td>\n",
       "      <td>2713.0</td>\n",
       "    </tr>\n",
       "    <tr>\n",
       "      <th>4</th>\n",
       "      <td>Manhattan</td>\n",
       "      <td>1797.0</td>\n",
       "    </tr>\n",
       "    <tr>\n",
       "      <th>5</th>\n",
       "      <td>Manhattan</td>\n",
       "      <td>219.0</td>\n",
       "    </tr>\n",
       "    <tr>\n",
       "      <th>6</th>\n",
       "      <td>Manhattan</td>\n",
       "      <td>405.0</td>\n",
       "    </tr>\n",
       "    <tr>\n",
       "      <th>7</th>\n",
       "      <td>Manhattan</td>\n",
       "      <td>788.0</td>\n",
       "    </tr>\n",
       "    <tr>\n",
       "      <th>8</th>\n",
       "      <td>Manhattan</td>\n",
       "      <td>268.0</td>\n",
       "    </tr>\n",
       "    <tr>\n",
       "      <th>9</th>\n",
       "      <td>Manhattan</td>\n",
       "      <td>315.0</td>\n",
       "    </tr>\n",
       "    <tr>\n",
       "      <th>10</th>\n",
       "      <td>Manhattan</td>\n",
       "      <td>1550.0</td>\n",
       "    </tr>\n",
       "    <tr>\n",
       "      <th>11</th>\n",
       "      <td>Manhattan</td>\n",
       "      <td>585.0</td>\n",
       "    </tr>\n",
       "    <tr>\n",
       "      <th>12</th>\n",
       "      <td>Manhattan</td>\n",
       "      <td>1656.0</td>\n",
       "    </tr>\n",
       "    <tr>\n",
       "      <th>13</th>\n",
       "      <td>Manhattan</td>\n",
       "      <td>1599.0</td>\n",
       "    </tr>\n",
       "    <tr>\n",
       "      <th>14</th>\n",
       "      <td>Manhattan</td>\n",
       "      <td>2138.0</td>\n",
       "    </tr>\n",
       "    <tr>\n",
       "      <th>15</th>\n",
       "      <td>Manhattan</td>\n",
       "      <td>699.0</td>\n",
       "    </tr>\n",
       "    <tr>\n",
       "      <th>16</th>\n",
       "      <td>Manhattan</td>\n",
       "      <td>603.0</td>\n",
       "    </tr>\n",
       "    <tr>\n",
       "      <th>17</th>\n",
       "      <td>Manhattan</td>\n",
       "      <td>532.0</td>\n",
       "    </tr>\n",
       "    <tr>\n",
       "      <th>18</th>\n",
       "      <td>Manhattan</td>\n",
       "      <td>443.0</td>\n",
       "    </tr>\n",
       "    <tr>\n",
       "      <th>19</th>\n",
       "      <td>Manhattan</td>\n",
       "      <td>398.0</td>\n",
       "    </tr>\n",
       "    <tr>\n",
       "      <th>20</th>\n",
       "      <td>Manhattan</td>\n",
       "      <td>641.0</td>\n",
       "    </tr>\n",
       "    <tr>\n",
       "      <th>21</th>\n",
       "      <td>Manhattan</td>\n",
       "      <td>837.0</td>\n",
       "    </tr>\n",
       "    <tr>\n",
       "      <th>22</th>\n",
       "      <td>Manhattan</td>\n",
       "      <td>348.0</td>\n",
       "    </tr>\n",
       "    <tr>\n",
       "      <th>23</th>\n",
       "      <td>Manhattan</td>\n",
       "      <td>501.0</td>\n",
       "    </tr>\n",
       "    <tr>\n",
       "      <th>24</th>\n",
       "      <td>Manhattan</td>\n",
       "      <td>354.0</td>\n",
       "    </tr>\n",
       "    <tr>\n",
       "      <th>25</th>\n",
       "      <td>Manhattan</td>\n",
       "      <td>573.0</td>\n",
       "    </tr>\n",
       "    <tr>\n",
       "      <th>26</th>\n",
       "      <td>Manhattan</td>\n",
       "      <td>594.0</td>\n",
       "    </tr>\n",
       "    <tr>\n",
       "      <th>27</th>\n",
       "      <td>Manhattan</td>\n",
       "      <td>348.0</td>\n",
       "    </tr>\n",
       "    <tr>\n",
       "      <th>28</th>\n",
       "      <td>Manhattan</td>\n",
       "      <td>151.0</td>\n",
       "    </tr>\n",
       "    <tr>\n",
       "      <th>29</th>\n",
       "      <td>Manhattan</td>\n",
       "      <td>549.0</td>\n",
       "    </tr>\n",
       "    <tr>\n",
       "      <th>...</th>\n",
       "      <td>...</td>\n",
       "      <td>...</td>\n",
       "    </tr>\n",
       "    <tr>\n",
       "      <th>53002198</th>\n",
       "      <td>Bronx</td>\n",
       "      <td>885.0</td>\n",
       "    </tr>\n",
       "    <tr>\n",
       "      <th>53002199</th>\n",
       "      <td>Bronx</td>\n",
       "      <td>1208.0</td>\n",
       "    </tr>\n",
       "    <tr>\n",
       "      <th>53002200</th>\n",
       "      <td>Bronx</td>\n",
       "      <td>939.0</td>\n",
       "    </tr>\n",
       "    <tr>\n",
       "      <th>53002201</th>\n",
       "      <td>Bronx</td>\n",
       "      <td>1497.0</td>\n",
       "    </tr>\n",
       "    <tr>\n",
       "      <th>53002202</th>\n",
       "      <td>Staten Island</td>\n",
       "      <td>3774.0</td>\n",
       "    </tr>\n",
       "    <tr>\n",
       "      <th>53002203</th>\n",
       "      <td>Staten Island</td>\n",
       "      <td>3684.0</td>\n",
       "    </tr>\n",
       "    <tr>\n",
       "      <th>53002204</th>\n",
       "      <td>Staten Island</td>\n",
       "      <td>97.0</td>\n",
       "    </tr>\n",
       "    <tr>\n",
       "      <th>53002205</th>\n",
       "      <td>Staten Island</td>\n",
       "      <td>2048.0</td>\n",
       "    </tr>\n",
       "    <tr>\n",
       "      <th>53002206</th>\n",
       "      <td>Staten Island</td>\n",
       "      <td>3809.0</td>\n",
       "    </tr>\n",
       "    <tr>\n",
       "      <th>53002207</th>\n",
       "      <td>Staten Island</td>\n",
       "      <td>5083.0</td>\n",
       "    </tr>\n",
       "    <tr>\n",
       "      <th>53002208</th>\n",
       "      <td>Staten Island</td>\n",
       "      <td>43.0</td>\n",
       "    </tr>\n",
       "    <tr>\n",
       "      <th>53002209</th>\n",
       "      <td>Staten Island</td>\n",
       "      <td>3166.0</td>\n",
       "    </tr>\n",
       "    <tr>\n",
       "      <th>53002210</th>\n",
       "      <td>Staten Island</td>\n",
       "      <td>319.0</td>\n",
       "    </tr>\n",
       "    <tr>\n",
       "      <th>53002211</th>\n",
       "      <td>Staten Island</td>\n",
       "      <td>14.0</td>\n",
       "    </tr>\n",
       "    <tr>\n",
       "      <th>53002212</th>\n",
       "      <td>Staten Island</td>\n",
       "      <td>15.0</td>\n",
       "    </tr>\n",
       "    <tr>\n",
       "      <th>53002213</th>\n",
       "      <td>Staten Island</td>\n",
       "      <td>4.0</td>\n",
       "    </tr>\n",
       "    <tr>\n",
       "      <th>53002214</th>\n",
       "      <td>Staten Island</td>\n",
       "      <td>5208.0</td>\n",
       "    </tr>\n",
       "    <tr>\n",
       "      <th>53002215</th>\n",
       "      <td>Staten Island</td>\n",
       "      <td>136.0</td>\n",
       "    </tr>\n",
       "    <tr>\n",
       "      <th>53002216</th>\n",
       "      <td>Staten Island</td>\n",
       "      <td>1009.0</td>\n",
       "    </tr>\n",
       "    <tr>\n",
       "      <th>53002217</th>\n",
       "      <td>Staten Island</td>\n",
       "      <td>1861.0</td>\n",
       "    </tr>\n",
       "    <tr>\n",
       "      <th>53002218</th>\n",
       "      <td>Bronx</td>\n",
       "      <td>1409.0</td>\n",
       "    </tr>\n",
       "    <tr>\n",
       "      <th>53002219</th>\n",
       "      <td>Bronx</td>\n",
       "      <td>4.0</td>\n",
       "    </tr>\n",
       "    <tr>\n",
       "      <th>53002220</th>\n",
       "      <td>Bronx</td>\n",
       "      <td>643.0</td>\n",
       "    </tr>\n",
       "    <tr>\n",
       "      <th>53002221</th>\n",
       "      <td>Bronx</td>\n",
       "      <td>258.0</td>\n",
       "    </tr>\n",
       "    <tr>\n",
       "      <th>53002222</th>\n",
       "      <td>Staten Island</td>\n",
       "      <td>7.0</td>\n",
       "    </tr>\n",
       "    <tr>\n",
       "      <th>53002223</th>\n",
       "      <td>Staten Island</td>\n",
       "      <td>32.0</td>\n",
       "    </tr>\n",
       "    <tr>\n",
       "      <th>53002224</th>\n",
       "      <td>Staten Island</td>\n",
       "      <td>25.0</td>\n",
       "    </tr>\n",
       "    <tr>\n",
       "      <th>53002225</th>\n",
       "      <td>Staten Island</td>\n",
       "      <td>6.0</td>\n",
       "    </tr>\n",
       "    <tr>\n",
       "      <th>53002226</th>\n",
       "      <td>Staten Island</td>\n",
       "      <td>179.0</td>\n",
       "    </tr>\n",
       "    <tr>\n",
       "      <th>53002227</th>\n",
       "      <td>Staten Island</td>\n",
       "      <td>71.0</td>\n",
       "    </tr>\n",
       "  </tbody>\n",
       "</table>\n",
       "<p>53002228 rows × 2 columns</p>\n",
       "</div>"
      ],
      "text/plain": [
       "                Borough  duration\n",
       "0             Manhattan     198.0\n",
       "1             Manhattan     620.0\n",
       "2             Manhattan     159.0\n",
       "3             Manhattan    2713.0\n",
       "4             Manhattan    1797.0\n",
       "5             Manhattan     219.0\n",
       "6             Manhattan     405.0\n",
       "7             Manhattan     788.0\n",
       "8             Manhattan     268.0\n",
       "9             Manhattan     315.0\n",
       "10            Manhattan    1550.0\n",
       "11            Manhattan     585.0\n",
       "12            Manhattan    1656.0\n",
       "13            Manhattan    1599.0\n",
       "14            Manhattan    2138.0\n",
       "15            Manhattan     699.0\n",
       "16            Manhattan     603.0\n",
       "17            Manhattan     532.0\n",
       "18            Manhattan     443.0\n",
       "19            Manhattan     398.0\n",
       "20            Manhattan     641.0\n",
       "21            Manhattan     837.0\n",
       "22            Manhattan     348.0\n",
       "23            Manhattan     501.0\n",
       "24            Manhattan     354.0\n",
       "25            Manhattan     573.0\n",
       "26            Manhattan     594.0\n",
       "27            Manhattan     348.0\n",
       "28            Manhattan     151.0\n",
       "29            Manhattan     549.0\n",
       "...                 ...       ...\n",
       "53002198          Bronx     885.0\n",
       "53002199          Bronx    1208.0\n",
       "53002200          Bronx     939.0\n",
       "53002201          Bronx    1497.0\n",
       "53002202  Staten Island    3774.0\n",
       "53002203  Staten Island    3684.0\n",
       "53002204  Staten Island      97.0\n",
       "53002205  Staten Island    2048.0\n",
       "53002206  Staten Island    3809.0\n",
       "53002207  Staten Island    5083.0\n",
       "53002208  Staten Island      43.0\n",
       "53002209  Staten Island    3166.0\n",
       "53002210  Staten Island     319.0\n",
       "53002211  Staten Island      14.0\n",
       "53002212  Staten Island      15.0\n",
       "53002213  Staten Island       4.0\n",
       "53002214  Staten Island    5208.0\n",
       "53002215  Staten Island     136.0\n",
       "53002216  Staten Island    1009.0\n",
       "53002217  Staten Island    1861.0\n",
       "53002218          Bronx    1409.0\n",
       "53002219          Bronx       4.0\n",
       "53002220          Bronx     643.0\n",
       "53002221          Bronx     258.0\n",
       "53002222  Staten Island       7.0\n",
       "53002223  Staten Island      32.0\n",
       "53002224  Staten Island      25.0\n",
       "53002225  Staten Island       6.0\n",
       "53002226  Staten Island     179.0\n",
       "53002227  Staten Island      71.0\n",
       "\n",
       "[53002228 rows x 2 columns]"
      ]
     },
     "execution_count": 15,
     "metadata": {},
     "output_type": "execute_result"
    }
   ],
   "source": [
    "total_data = total_data.reset_index(drop=True)\n",
    "total_data"
   ]
  },
  {
   "cell_type": "markdown",
   "metadata": {},
   "source": [
    "#### Plotting Results with density graphs\n",
    "We are plotting the density for each Borough."
   ]
  },
  {
   "cell_type": "code",
   "execution_count": 16,
   "metadata": {},
   "outputs": [
    {
     "data": {
      "image/png": "[encoded data removed]",
      "text/plain": [
       "<Figure size 864x288 with 1 Axes>"
      ]
     },
     "metadata": {},
     "output_type": "display_data"
    },
    {
     "data": {
      "image/png": "[encoded data removed]",
      "text/plain": [
       "<Figure size 864x288 with 1 Axes>"
      ]
     },
     "metadata": {},
     "output_type": "display_data"
    },
    {
     "data": {
      "image/png": "[encoded data removed]",
      "text/plain": [
       "<Figure size 864x288 with 1 Axes>"
      ]
     },
     "metadata": {},
     "output_type": "display_data"
    },
    {
     "data": {
      "image/png": "[encoded data removed]",
      "text/plain": [
       "<Figure size 864x288 with 1 Axes>"
      ]
     },
     "metadata": {},
     "output_type": "display_data"
    },
    {
     "data": {
      "image/png": "[encoded data removed]",
      "text/plain": [
       "<Figure size 864x288 with 1 Axes>"
      ]
     },
     "metadata": {},
     "output_type": "display_data"
    },
    {
     "data": {
      "image/png": "[encoded data removed]",
      "text/plain": [
       "<Figure size 864x288 with 1 Axes>"
      ]
     },
     "metadata": {},
     "output_type": "display_data"
    }
   ],
   "source": [
    "for i in range(0,6):\n",
    "    value = \"\".join(listOfBoroughs[i])\n",
    "    a = pd.DataFrame({value : total_data[ total_data['Borough'] == value ].duration})\n",
    "\n",
    "    out = pd.cut(a[value], bins=[0, 60, 300, 900, 1800, 3600, 7200, max(a[value])])\n",
    "    ax4 = out.value_counts(sort=False).plot.bar(rot=0, title=value, figsize=(12,4))\n",
    "    ax4.set_xlabel(\"Intervals of Duration (s)\")\n",
    "    ax4.set_ylabel(\"Density\")\n",
    "    ax4.set_xticklabels(['0-1 min', '1-5 min', '5-15 min', '15-30 min', '30-60 min', '1-2 h', '>2 h'])\n",
    "    plt.show()\n",
    "del a, out"
   ]
  },
  {
   "cell_type": "markdown",
   "metadata": {},
   "source": [
    "As you can see in the previous graphs we can detect that:\n",
    "\n",
    "-In EWR most trips last between 0 and 5 min. Since it is the airport\n",
    "\n",
    "-In Queens most trips last between 15 min and one hour\n",
    "\n",
    "-In the Bronx most trips last between 5 min and a half hour\n",
    "\n",
    "-In Manhattan the duration is between 5 min and 15 min\n",
    "\n",
    "-In Staten Island they last less than 5 min, most of it is a very small place\n",
    "\n",
    "-In Brooklyn the trayetos of between 5 min and a half hour predominate"
   ]
  },
  {
   "cell_type": "markdown",
   "metadata": {},
   "source": [
    "# RQ4"
   ]
  },
  {
   "cell_type": "markdown",
   "metadata": {},
   "source": [
    "[RQ4]_What is the most common way of payments?_ Discover the way payments are executed in each borough and visualize the number of payments for any possible means. Then run the Chi-squared test to see whether the method of payment is correlated to the borough. Then, comment the results."
   ]
  },
  {
   "cell_type": "markdown",
   "metadata": {},
   "source": [
    "#### Import Libraries"
   ]
  },
  {
   "cell_type": "code",
   "execution_count": 1,
   "metadata": {},
   "outputs": [],
   "source": [
    "import pandas as pd\n",
    "import matplotlib.pyplot as plt\n",
    "import datetime \n",
    "import numpy as np\n",
    "from scipy import stats"
   ]
  },
  {
   "cell_type": "code",
   "execution_count": 93,
   "metadata": {},
   "outputs": [
    {
     "name": "stdout",
     "output_type": "stream",
     "text": [
      "1\n",
      "2\n",
      "3\n",
      "4\n",
      "5\n",
      "6\n"
     ]
    }
   ],
   "source": [
    "##Starting Variables and Making our dataframe\n",
    "taxi_zone_lookup = pd.read_csv('C:/Users/bchdnl63l42f205d/Desktop/Magistrale/Primo anno/AMD/HW 2/taxi_zone_lookup.csv', sep=',', encoding='latin1', usecols=['LocationID', 'Borough'])\n",
    "total_data = pd.DataFrame()\n",
    "partial_data = pd.DataFrame()\n",
    "\n",
    "##Getting boroughs names:\n",
    "listOfBoroughs = taxi_zone_lookup.loc[:, ['Borough']].drop_duplicates().values.tolist()\n",
    "\n",
    "##Loop 6 times, each per month\n",
    "for i in range(1,7):\n",
    "    \n",
    "    ##Reading the columns of interest\n",
    "    taxi_data = pd.read_csv('C:/Users/bchdnl63l42f205d/Desktop/Magistrale/Primo anno/AMD/HW 2/yellow_tripdata_2018-0'+str(i)+'.csv', sep=',', encoding='latin1', usecols=['tpep_pickup_datetime', 'payment_type', 'PULocationID'])\n",
    "    \n",
    "    ##Merging the data with Boroughs\n",
    "    rq4 = pd.merge(taxi_data, taxi_zone_lookup, how=\"inner\", left_on=\"PULocationID\", right_on=\"LocationID\")\n",
    "    \n",
    "    ##We start filtering by dates because there is some extra information\n",
    "    rq4 = rq4[(rq4['tpep_pickup_datetime'] >= '2018-0'+str(i)+'-01') & (rq4['tpep_pickup_datetime'] <= '2018-0'+str(i)+'-31')]\n",
    "    print(i)\n",
    "    \n",
    "    ##Creating the dataset with the variables we want to analyze\n",
    "    partial_data = pd.concat([rq4['Borough'], rq4['payment_type']], axis=1)\n",
    "    total_data = pd.concat([total_data, partial_data])\n",
    "    \n",
    "    del partial_data, taxi_data, rq4\n",
    "    \n",
    "##Getting the types of payment: \n",
    "listOfPayments = total_data.loc[:, ['payment_type']].drop_duplicates().values.tolist()\n"
   ]
  },
  {
   "cell_type": "markdown",
   "metadata": {},
   "source": [
    "# Analysis"
   ]
  },
  {
   "cell_type": "markdown",
   "metadata": {},
   "source": [
    "In general, in **NY** the payment type most used is the credit card (_payment type 1_)."
   ]
  },
  {
   "cell_type": "code",
   "execution_count": 94,
   "metadata": {},
   "outputs": [
    {
     "data": {
      "text/html": [
       "<div>\n",
       "<style scoped>\n",
       "    .dataframe tbody tr th:only-of-type {\n",
       "        vertical-align: middle;\n",
       "    }\n",
       "\n",
       "    .dataframe tbody tr th {\n",
       "        vertical-align: top;\n",
       "    }\n",
       "\n",
       "    .dataframe thead th {\n",
       "        text-align: right;\n",
       "    }\n",
       "</style>\n",
       "<table border=\"1\" class=\"dataframe\">\n",
       "  <thead>\n",
       "    <tr style=\"text-align: right;\">\n",
       "      <th>col_0</th>\n",
       "      <th>count</th>\n",
       "    </tr>\n",
       "  </thead>\n",
       "  <tbody>\n",
       "    <tr>\n",
       "      <th>payment type 1</th>\n",
       "      <td>36930065</td>\n",
       "    </tr>\n",
       "    <tr>\n",
       "      <th>payment type 2</th>\n",
       "      <td>15715616</td>\n",
       "    </tr>\n",
       "    <tr>\n",
       "      <th>payment type 3</th>\n",
       "      <td>280643</td>\n",
       "    </tr>\n",
       "    <tr>\n",
       "      <th>payment type 4</th>\n",
       "      <td>75904</td>\n",
       "    </tr>\n",
       "  </tbody>\n",
       "</table>\n",
       "</div>"
      ],
      "text/plain": [
       "col_0              count\n",
       "payment type 1  36930065\n",
       "payment type 2  15715616\n",
       "payment type 3    280643\n",
       "payment type 4     75904"
      ]
     },
     "execution_count": 94,
     "metadata": {},
     "output_type": "execute_result"
    }
   ],
   "source": [
    "fr=pd.crosstab(index=total_data['payment_type'], columns=\"count\")\n",
    "fr.index=[\"payment type 1\",\"payment type 2\",\"payment type 3\",\"payment type 4\"]\n",
    "fr"
   ]
  },
  {
   "cell_type": "markdown",
   "metadata": {},
   "source": [
    "To continue the analysis, we focus our attention in the different **boroughs**.\n",
    "\n",
    "For this reason, we eliminate the rows with an _\"Unknown\"_ value for the borough because they don't give us usefull informations in this case."
   ]
  },
  {
   "cell_type": "code",
   "execution_count": 95,
   "metadata": {},
   "outputs": [
    {
     "data": {
      "text/html": [
       "<div>\n",
       "<style scoped>\n",
       "    .dataframe tbody tr th:only-of-type {\n",
       "        vertical-align: middle;\n",
       "    }\n",
       "\n",
       "    .dataframe tbody tr th {\n",
       "        vertical-align: top;\n",
       "    }\n",
       "\n",
       "    .dataframe thead th {\n",
       "        text-align: right;\n",
       "    }\n",
       "</style>\n",
       "<table border=\"1\" class=\"dataframe\">\n",
       "  <thead>\n",
       "    <tr style=\"text-align: right;\">\n",
       "      <th></th>\n",
       "      <th>Borough</th>\n",
       "      <th>payment_type</th>\n",
       "    </tr>\n",
       "  </thead>\n",
       "  <tbody>\n",
       "    <tr>\n",
       "      <th>0</th>\n",
       "      <td>Manhattan</td>\n",
       "      <td>2</td>\n",
       "    </tr>\n",
       "    <tr>\n",
       "      <th>1</th>\n",
       "      <td>Manhattan</td>\n",
       "      <td>2</td>\n",
       "    </tr>\n",
       "    <tr>\n",
       "      <th>2</th>\n",
       "      <td>Manhattan</td>\n",
       "      <td>2</td>\n",
       "    </tr>\n",
       "    <tr>\n",
       "      <th>3</th>\n",
       "      <td>Manhattan</td>\n",
       "      <td>1</td>\n",
       "    </tr>\n",
       "    <tr>\n",
       "      <th>4</th>\n",
       "      <td>Manhattan</td>\n",
       "      <td>1</td>\n",
       "    </tr>\n",
       "    <tr>\n",
       "      <th>5</th>\n",
       "      <td>Manhattan</td>\n",
       "      <td>1</td>\n",
       "    </tr>\n",
       "    <tr>\n",
       "      <th>6</th>\n",
       "      <td>Manhattan</td>\n",
       "      <td>1</td>\n",
       "    </tr>\n",
       "    <tr>\n",
       "      <th>7</th>\n",
       "      <td>Manhattan</td>\n",
       "      <td>2</td>\n",
       "    </tr>\n",
       "    <tr>\n",
       "      <th>8</th>\n",
       "      <td>Manhattan</td>\n",
       "      <td>1</td>\n",
       "    </tr>\n",
       "    <tr>\n",
       "      <th>9</th>\n",
       "      <td>Manhattan</td>\n",
       "      <td>1</td>\n",
       "    </tr>\n",
       "    <tr>\n",
       "      <th>10</th>\n",
       "      <td>Manhattan</td>\n",
       "      <td>2</td>\n",
       "    </tr>\n",
       "    <tr>\n",
       "      <th>11</th>\n",
       "      <td>Manhattan</td>\n",
       "      <td>1</td>\n",
       "    </tr>\n",
       "    <tr>\n",
       "      <th>12</th>\n",
       "      <td>Manhattan</td>\n",
       "      <td>2</td>\n",
       "    </tr>\n",
       "    <tr>\n",
       "      <th>13</th>\n",
       "      <td>Manhattan</td>\n",
       "      <td>2</td>\n",
       "    </tr>\n",
       "    <tr>\n",
       "      <th>14</th>\n",
       "      <td>Manhattan</td>\n",
       "      <td>1</td>\n",
       "    </tr>\n",
       "    <tr>\n",
       "      <th>15</th>\n",
       "      <td>Manhattan</td>\n",
       "      <td>2</td>\n",
       "    </tr>\n",
       "    <tr>\n",
       "      <th>16</th>\n",
       "      <td>Manhattan</td>\n",
       "      <td>2</td>\n",
       "    </tr>\n",
       "    <tr>\n",
       "      <th>17</th>\n",
       "      <td>Manhattan</td>\n",
       "      <td>2</td>\n",
       "    </tr>\n",
       "    <tr>\n",
       "      <th>18</th>\n",
       "      <td>Manhattan</td>\n",
       "      <td>1</td>\n",
       "    </tr>\n",
       "    <tr>\n",
       "      <th>19</th>\n",
       "      <td>Manhattan</td>\n",
       "      <td>1</td>\n",
       "    </tr>\n",
       "    <tr>\n",
       "      <th>20</th>\n",
       "      <td>Manhattan</td>\n",
       "      <td>2</td>\n",
       "    </tr>\n",
       "    <tr>\n",
       "      <th>21</th>\n",
       "      <td>Manhattan</td>\n",
       "      <td>2</td>\n",
       "    </tr>\n",
       "    <tr>\n",
       "      <th>22</th>\n",
       "      <td>Manhattan</td>\n",
       "      <td>1</td>\n",
       "    </tr>\n",
       "    <tr>\n",
       "      <th>23</th>\n",
       "      <td>Manhattan</td>\n",
       "      <td>2</td>\n",
       "    </tr>\n",
       "    <tr>\n",
       "      <th>24</th>\n",
       "      <td>Manhattan</td>\n",
       "      <td>2</td>\n",
       "    </tr>\n",
       "    <tr>\n",
       "      <th>25</th>\n",
       "      <td>Manhattan</td>\n",
       "      <td>2</td>\n",
       "    </tr>\n",
       "    <tr>\n",
       "      <th>26</th>\n",
       "      <td>Manhattan</td>\n",
       "      <td>1</td>\n",
       "    </tr>\n",
       "    <tr>\n",
       "      <th>27</th>\n",
       "      <td>Manhattan</td>\n",
       "      <td>2</td>\n",
       "    </tr>\n",
       "    <tr>\n",
       "      <th>28</th>\n",
       "      <td>Manhattan</td>\n",
       "      <td>2</td>\n",
       "    </tr>\n",
       "    <tr>\n",
       "      <th>29</th>\n",
       "      <td>Manhattan</td>\n",
       "      <td>2</td>\n",
       "    </tr>\n",
       "    <tr>\n",
       "      <th>...</th>\n",
       "      <td>...</td>\n",
       "      <td>...</td>\n",
       "    </tr>\n",
       "    <tr>\n",
       "      <th>8713801</th>\n",
       "      <td>Bronx</td>\n",
       "      <td>3</td>\n",
       "    </tr>\n",
       "    <tr>\n",
       "      <th>8713802</th>\n",
       "      <td>Bronx</td>\n",
       "      <td>2</td>\n",
       "    </tr>\n",
       "    <tr>\n",
       "      <th>8713803</th>\n",
       "      <td>Bronx</td>\n",
       "      <td>1</td>\n",
       "    </tr>\n",
       "    <tr>\n",
       "      <th>8713804</th>\n",
       "      <td>Bronx</td>\n",
       "      <td>1</td>\n",
       "    </tr>\n",
       "    <tr>\n",
       "      <th>8713805</th>\n",
       "      <td>Staten Island</td>\n",
       "      <td>1</td>\n",
       "    </tr>\n",
       "    <tr>\n",
       "      <th>8713806</th>\n",
       "      <td>Staten Island</td>\n",
       "      <td>1</td>\n",
       "    </tr>\n",
       "    <tr>\n",
       "      <th>8713807</th>\n",
       "      <td>Staten Island</td>\n",
       "      <td>1</td>\n",
       "    </tr>\n",
       "    <tr>\n",
       "      <th>8713808</th>\n",
       "      <td>Staten Island</td>\n",
       "      <td>1</td>\n",
       "    </tr>\n",
       "    <tr>\n",
       "      <th>8713809</th>\n",
       "      <td>Staten Island</td>\n",
       "      <td>1</td>\n",
       "    </tr>\n",
       "    <tr>\n",
       "      <th>8713810</th>\n",
       "      <td>Staten Island</td>\n",
       "      <td>1</td>\n",
       "    </tr>\n",
       "    <tr>\n",
       "      <th>8713811</th>\n",
       "      <td>Staten Island</td>\n",
       "      <td>1</td>\n",
       "    </tr>\n",
       "    <tr>\n",
       "      <th>8713812</th>\n",
       "      <td>Staten Island</td>\n",
       "      <td>1</td>\n",
       "    </tr>\n",
       "    <tr>\n",
       "      <th>8713813</th>\n",
       "      <td>Staten Island</td>\n",
       "      <td>2</td>\n",
       "    </tr>\n",
       "    <tr>\n",
       "      <th>8713814</th>\n",
       "      <td>Staten Island</td>\n",
       "      <td>1</td>\n",
       "    </tr>\n",
       "    <tr>\n",
       "      <th>8713815</th>\n",
       "      <td>Staten Island</td>\n",
       "      <td>2</td>\n",
       "    </tr>\n",
       "    <tr>\n",
       "      <th>8713816</th>\n",
       "      <td>Staten Island</td>\n",
       "      <td>1</td>\n",
       "    </tr>\n",
       "    <tr>\n",
       "      <th>8713817</th>\n",
       "      <td>Staten Island</td>\n",
       "      <td>1</td>\n",
       "    </tr>\n",
       "    <tr>\n",
       "      <th>8713818</th>\n",
       "      <td>Staten Island</td>\n",
       "      <td>2</td>\n",
       "    </tr>\n",
       "    <tr>\n",
       "      <th>8713819</th>\n",
       "      <td>Staten Island</td>\n",
       "      <td>1</td>\n",
       "    </tr>\n",
       "    <tr>\n",
       "      <th>8713820</th>\n",
       "      <td>Staten Island</td>\n",
       "      <td>1</td>\n",
       "    </tr>\n",
       "    <tr>\n",
       "      <th>8713821</th>\n",
       "      <td>Bronx</td>\n",
       "      <td>1</td>\n",
       "    </tr>\n",
       "    <tr>\n",
       "      <th>8713822</th>\n",
       "      <td>Bronx</td>\n",
       "      <td>1</td>\n",
       "    </tr>\n",
       "    <tr>\n",
       "      <th>8713823</th>\n",
       "      <td>Bronx</td>\n",
       "      <td>2</td>\n",
       "    </tr>\n",
       "    <tr>\n",
       "      <th>8713824</th>\n",
       "      <td>Bronx</td>\n",
       "      <td>2</td>\n",
       "    </tr>\n",
       "    <tr>\n",
       "      <th>8713825</th>\n",
       "      <td>Staten Island</td>\n",
       "      <td>1</td>\n",
       "    </tr>\n",
       "    <tr>\n",
       "      <th>8713826</th>\n",
       "      <td>Staten Island</td>\n",
       "      <td>1</td>\n",
       "    </tr>\n",
       "    <tr>\n",
       "      <th>8713827</th>\n",
       "      <td>Staten Island</td>\n",
       "      <td>2</td>\n",
       "    </tr>\n",
       "    <tr>\n",
       "      <th>8713828</th>\n",
       "      <td>Staten Island</td>\n",
       "      <td>3</td>\n",
       "    </tr>\n",
       "    <tr>\n",
       "      <th>8713829</th>\n",
       "      <td>Staten Island</td>\n",
       "      <td>3</td>\n",
       "    </tr>\n",
       "    <tr>\n",
       "      <th>8713830</th>\n",
       "      <td>Staten Island</td>\n",
       "      <td>1</td>\n",
       "    </tr>\n",
       "  </tbody>\n",
       "</table>\n",
       "<p>52153607 rows × 2 columns</p>\n",
       "</div>"
      ],
      "text/plain": [
       "               Borough  payment_type\n",
       "0            Manhattan             2\n",
       "1            Manhattan             2\n",
       "2            Manhattan             2\n",
       "3            Manhattan             1\n",
       "4            Manhattan             1\n",
       "5            Manhattan             1\n",
       "6            Manhattan             1\n",
       "7            Manhattan             2\n",
       "8            Manhattan             1\n",
       "9            Manhattan             1\n",
       "10           Manhattan             2\n",
       "11           Manhattan             1\n",
       "12           Manhattan             2\n",
       "13           Manhattan             2\n",
       "14           Manhattan             1\n",
       "15           Manhattan             2\n",
       "16           Manhattan             2\n",
       "17           Manhattan             2\n",
       "18           Manhattan             1\n",
       "19           Manhattan             1\n",
       "20           Manhattan             2\n",
       "21           Manhattan             2\n",
       "22           Manhattan             1\n",
       "23           Manhattan             2\n",
       "24           Manhattan             2\n",
       "25           Manhattan             2\n",
       "26           Manhattan             1\n",
       "27           Manhattan             2\n",
       "28           Manhattan             2\n",
       "29           Manhattan             2\n",
       "...                ...           ...\n",
       "8713801          Bronx             3\n",
       "8713802          Bronx             2\n",
       "8713803          Bronx             1\n",
       "8713804          Bronx             1\n",
       "8713805  Staten Island             1\n",
       "8713806  Staten Island             1\n",
       "8713807  Staten Island             1\n",
       "8713808  Staten Island             1\n",
       "8713809  Staten Island             1\n",
       "8713810  Staten Island             1\n",
       "8713811  Staten Island             1\n",
       "8713812  Staten Island             1\n",
       "8713813  Staten Island             2\n",
       "8713814  Staten Island             1\n",
       "8713815  Staten Island             2\n",
       "8713816  Staten Island             1\n",
       "8713817  Staten Island             1\n",
       "8713818  Staten Island             2\n",
       "8713819  Staten Island             1\n",
       "8713820  Staten Island             1\n",
       "8713821          Bronx             1\n",
       "8713822          Bronx             1\n",
       "8713823          Bronx             2\n",
       "8713824          Bronx             2\n",
       "8713825  Staten Island             1\n",
       "8713826  Staten Island             1\n",
       "8713827  Staten Island             2\n",
       "8713828  Staten Island             3\n",
       "8713829  Staten Island             3\n",
       "8713830  Staten Island             1\n",
       "\n",
       "[52153607 rows x 2 columns]"
      ]
     },
     "execution_count": 95,
     "metadata": {},
     "output_type": "execute_result"
    }
   ],
   "source": [
    "df = total_data[total_data.Borough != \"Unknown\"]\n",
    "listOfBoroughs.remove(['Unknown'])\n",
    "df"
   ]
  },
  {
   "cell_type": "markdown",
   "metadata": {},
   "source": [
    "To have a better idea of the different types of payment used in the boroughs, we create a contingency table with the two variables and we plot it."
   ]
  },
  {
   "cell_type": "code",
   "execution_count": 96,
   "metadata": {},
   "outputs": [
    {
     "data": {
      "text/html": [
       "<div>\n",
       "<style scoped>\n",
       "    .dataframe tbody tr th:only-of-type {\n",
       "        vertical-align: middle;\n",
       "    }\n",
       "\n",
       "    .dataframe tbody tr th {\n",
       "        vertical-align: top;\n",
       "    }\n",
       "\n",
       "    .dataframe thead th {\n",
       "        text-align: right;\n",
       "    }\n",
       "</style>\n",
       "<table border=\"1\" class=\"dataframe\">\n",
       "  <thead>\n",
       "    <tr style=\"text-align: right;\">\n",
       "      <th></th>\n",
       "      <th>payment type 1</th>\n",
       "      <th>payment type 2</th>\n",
       "      <th>payment type 3</th>\n",
       "      <th>payment type 4</th>\n",
       "    </tr>\n",
       "    <tr>\n",
       "      <th>Borough</th>\n",
       "      <th></th>\n",
       "      <th></th>\n",
       "      <th></th>\n",
       "      <th></th>\n",
       "    </tr>\n",
       "  </thead>\n",
       "  <tbody>\n",
       "    <tr>\n",
       "      <th>Bronx</th>\n",
       "      <td>27372</td>\n",
       "      <td>25721</td>\n",
       "      <td>1490</td>\n",
       "      <td>353</td>\n",
       "    </tr>\n",
       "    <tr>\n",
       "      <th>Brooklyn</th>\n",
       "      <td>434596</td>\n",
       "      <td>226642</td>\n",
       "      <td>8665</td>\n",
       "      <td>1892</td>\n",
       "    </tr>\n",
       "    <tr>\n",
       "      <th>EWR</th>\n",
       "      <td>3000</td>\n",
       "      <td>540</td>\n",
       "      <td>218</td>\n",
       "      <td>46</td>\n",
       "    </tr>\n",
       "    <tr>\n",
       "      <th>Manhattan</th>\n",
       "      <td>33600292</td>\n",
       "      <td>14225987</td>\n",
       "      <td>223013</td>\n",
       "      <td>62534</td>\n",
       "    </tr>\n",
       "    <tr>\n",
       "      <th>Queens</th>\n",
       "      <td>2279641</td>\n",
       "      <td>985276</td>\n",
       "      <td>36739</td>\n",
       "      <td>8786</td>\n",
       "    </tr>\n",
       "    <tr>\n",
       "      <th>Staten Island</th>\n",
       "      <td>430</td>\n",
       "      <td>313</td>\n",
       "      <td>50</td>\n",
       "      <td>11</td>\n",
       "    </tr>\n",
       "  </tbody>\n",
       "</table>\n",
       "</div>"
      ],
      "text/plain": [
       "               payment type 1  payment type 2  payment type 3  payment type 4\n",
       "Borough                                                                      \n",
       "Bronx                   27372           25721            1490             353\n",
       "Brooklyn               434596          226642            8665            1892\n",
       "EWR                      3000             540             218              46\n",
       "Manhattan            33600292        14225987          223013           62534\n",
       "Queens                2279641          985276           36739            8786\n",
       "Staten Island             430             313              50              11"
      ]
     },
     "execution_count": 96,
     "metadata": {},
     "output_type": "execute_result"
    }
   ],
   "source": [
    "double_fr = pd.crosstab(index=df['Borough'], columns=df['payment_type'])\n",
    "double_fr.columns=[\"payment type 1\",\"payment type 2\",\"payment type 3\",\"payment type 4\"]\n",
    "double_fr"
   ]
  },
  {
   "cell_type": "code",
   "execution_count": 97,
   "metadata": {},
   "outputs": [
    {
     "data": {
      "text/plain": [
       "<matplotlib.axes._subplots.AxesSubplot at 0x1be0b6f9320>"
      ]
     },
     "execution_count": 97,
     "metadata": {},
     "output_type": "execute_result"
    },
    {
     "data": {
      "image/png": "[encoded data removed]",
      "text/plain": [
       "<Figure size 720x576 with 1 Axes>"
      ]
     },
     "metadata": {},
     "output_type": "display_data"
    }
   ],
   "source": [
    "double_fr.plot(kind=\"bar\", \n",
    "                 figsize=(10,8))"
   ]
  },
  {
   "cell_type": "markdown",
   "metadata": {},
   "source": [
    "Given the different values between boroughs, we make a plot for each."
   ]
  },
  {
   "cell_type": "code",
   "execution_count": 98,
   "metadata": {
    "scrolled": false
   },
   "outputs": [
    {
     "data": {
      "image/png": "[encoded data removed]",
      "text/plain": [
       "<Figure size 432x288 with 1 Axes>"
      ]
     },
     "metadata": {},
     "output_type": "display_data"
    },
    {
     "data": {
      "image/png": "[encoded data removed]",
      "text/plain": [
       "<Figure size 432x288 with 1 Axes>"
      ]
     },
     "metadata": {},
     "output_type": "display_data"
    },
    {
     "data": {
      "image/png": "[encoded data removed]",
      "text/plain": [
       "<Figure size 432x288 with 1 Axes>"
      ]
     },
     "metadata": {},
     "output_type": "display_data"
    },
    {
     "data": {
      "image/png": "[encoded data removed]",
      "text/plain": [
       "<Figure size 432x288 with 1 Axes>"
      ]
     },
     "metadata": {},
     "output_type": "display_data"
    },
    {
     "data": {
      "image/png": "[encoded data removed]",
      "text/plain": [
       "<Figure size 432x288 with 1 Axes>"
      ]
     },
     "metadata": {},
     "output_type": "display_data"
    },
    {
     "data": {
      "image/png": "[encoded data removed]",
      "text/plain": [
       "<Figure size 432x288 with 1 Axes>"
      ]
     },
     "metadata": {},
     "output_type": "display_data"
    }
   ],
   "source": [
    "for b in listOfBoroughs:\n",
    "    name = \"\".join(b)\n",
    "    sub=df.loc[df['Borough'] == name]\n",
    "    \n",
    "    my_tab = pd.crosstab(index=sub[\"payment_type\"], \n",
    "                          columns=\"count\")\n",
    "    my_tab.index=[\"payment type 1\",\"payment type 2\",\"payment type 3\",\"payment type 4\"]\n",
    "    my_tab.plot.bar()\n",
    "    plt.title(b)"
   ]
  },
  {
   "cell_type": "markdown",
   "metadata": {},
   "source": [
    "The credit card payment is always the favourite one, independently from the borough. The payment type which varies the most in the different areas is the cash one (_payment type 2_). Notable that the cash payment is almost equal to the credit card one in **Bronx**.\n",
    "\n",
    "To check if there is dependence between these two variables we run the **Chi-square test**."
   ]
  },
  {
   "cell_type": "code",
   "execution_count": 105,
   "metadata": {},
   "outputs": [
    {
     "name": "stdout",
     "output_type": "stream",
     "text": [
      "chi2 =  62592.54830551318\n"
     ]
    }
   ],
   "source": [
    "chi2, p, dof, ex=stats.chi2_contingency(double_fr,correction=False)\n",
    "print(\"chi2 = \",chi2)"
   ]
  },
  {
   "cell_type": "markdown",
   "metadata": {},
   "source": [
    "The obtained value is high, but it may be due to the elevated number of data and, conseguently, of observed frequencies. This index rappresents the difference between the _observed contingency table_ and the _expected contingency table in case of independence_. \n",
    "\n",
    "So in this case, we can immagine a slight dependence between the borough and the payment type: the $\\chi^2$ point it out but the trend of the two tables is very similar. "
   ]
  },
  {
   "cell_type": "code",
   "execution_count": 100,
   "metadata": {},
   "outputs": [
    {
     "data": {
      "text/html": [
       "<div>\n",
       "<style scoped>\n",
       "    .dataframe tbody tr th:only-of-type {\n",
       "        vertical-align: middle;\n",
       "    }\n",
       "\n",
       "    .dataframe tbody tr th {\n",
       "        vertical-align: top;\n",
       "    }\n",
       "\n",
       "    .dataframe thead th {\n",
       "        text-align: right;\n",
       "    }\n",
       "</style>\n",
       "<table border=\"1\" class=\"dataframe\">\n",
       "  <thead>\n",
       "    <tr style=\"text-align: right;\">\n",
       "      <th></th>\n",
       "      <th>payment type 1</th>\n",
       "      <th>payment type 2</th>\n",
       "      <th>payment type 3</th>\n",
       "      <th>payment type 4</th>\n",
       "    </tr>\n",
       "    <tr>\n",
       "      <th>Borough</th>\n",
       "      <th></th>\n",
       "      <th></th>\n",
       "      <th></th>\n",
       "      <th></th>\n",
       "    </tr>\n",
       "  </thead>\n",
       "  <tbody>\n",
       "    <tr>\n",
       "      <th>Bronx</th>\n",
       "      <td>27372</td>\n",
       "      <td>25721</td>\n",
       "      <td>1490</td>\n",
       "      <td>353</td>\n",
       "    </tr>\n",
       "    <tr>\n",
       "      <th>Brooklyn</th>\n",
       "      <td>434596</td>\n",
       "      <td>226642</td>\n",
       "      <td>8665</td>\n",
       "      <td>1892</td>\n",
       "    </tr>\n",
       "    <tr>\n",
       "      <th>EWR</th>\n",
       "      <td>3000</td>\n",
       "      <td>540</td>\n",
       "      <td>218</td>\n",
       "      <td>46</td>\n",
       "    </tr>\n",
       "    <tr>\n",
       "      <th>Manhattan</th>\n",
       "      <td>33600292</td>\n",
       "      <td>14225987</td>\n",
       "      <td>223013</td>\n",
       "      <td>62534</td>\n",
       "    </tr>\n",
       "    <tr>\n",
       "      <th>Queens</th>\n",
       "      <td>2279641</td>\n",
       "      <td>985276</td>\n",
       "      <td>36739</td>\n",
       "      <td>8786</td>\n",
       "    </tr>\n",
       "    <tr>\n",
       "      <th>Staten Island</th>\n",
       "      <td>430</td>\n",
       "      <td>313</td>\n",
       "      <td>50</td>\n",
       "      <td>11</td>\n",
       "    </tr>\n",
       "  </tbody>\n",
       "</table>\n",
       "</div>"
      ],
      "text/plain": [
       "               payment type 1  payment type 2  payment type 3  payment type 4\n",
       "Borough                                                                      \n",
       "Bronx                   27372           25721            1490             353\n",
       "Brooklyn               434596          226642            8665            1892\n",
       "EWR                      3000             540             218              46\n",
       "Manhattan            33600292        14225987          223013           62534\n",
       "Queens                2279641          985276           36739            8786\n",
       "Staten Island             430             313              50              11"
      ]
     },
     "execution_count": 100,
     "metadata": {},
     "output_type": "execute_result"
    }
   ],
   "source": [
    "# Observed values\n",
    "double_fr"
   ]
  },
  {
   "cell_type": "code",
   "execution_count": 101,
   "metadata": {},
   "outputs": [
    {
     "data": {
      "text/html": [
       "<div>\n",
       "<style scoped>\n",
       "    .dataframe tbody tr th:only-of-type {\n",
       "        vertical-align: middle;\n",
       "    }\n",
       "\n",
       "    .dataframe tbody tr th {\n",
       "        vertical-align: top;\n",
       "    }\n",
       "\n",
       "    .dataframe thead th {\n",
       "        text-align: right;\n",
       "    }\n",
       "</style>\n",
       "<table border=\"1\" class=\"dataframe\">\n",
       "  <thead>\n",
       "    <tr style=\"text-align: right;\">\n",
       "      <th></th>\n",
       "      <th>payment type 1</th>\n",
       "      <th>payment type 2</th>\n",
       "      <th>payment type 3</th>\n",
       "      <th>payment type 4</th>\n",
       "    </tr>\n",
       "  </thead>\n",
       "  <tbody>\n",
       "    <tr>\n",
       "      <th>Bronx</th>\n",
       "      <td>38284.0</td>\n",
       "      <td>16290.0</td>\n",
       "      <td>285.0</td>\n",
       "      <td>78.0</td>\n",
       "    </tr>\n",
       "    <tr>\n",
       "      <th>Brooklyn</th>\n",
       "      <td>468167.0</td>\n",
       "      <td>199199.0</td>\n",
       "      <td>3480.0</td>\n",
       "      <td>948.0</td>\n",
       "    </tr>\n",
       "    <tr>\n",
       "      <th>EWR</th>\n",
       "      <td>2651.0</td>\n",
       "      <td>1128.0</td>\n",
       "      <td>20.0</td>\n",
       "      <td>5.0</td>\n",
       "    </tr>\n",
       "    <tr>\n",
       "      <th>Manhattan</th>\n",
       "      <td>33528654.0</td>\n",
       "      <td>14266019.0</td>\n",
       "      <td>249237.0</td>\n",
       "      <td>67916.0</td>\n",
       "    </tr>\n",
       "    <tr>\n",
       "      <th>Queens</th>\n",
       "      <td>2307014.0</td>\n",
       "      <td>981605.0</td>\n",
       "      <td>17149.0</td>\n",
       "      <td>4673.0</td>\n",
       "    </tr>\n",
       "    <tr>\n",
       "      <th>Staten Island</th>\n",
       "      <td>560.0</td>\n",
       "      <td>238.0</td>\n",
       "      <td>4.0</td>\n",
       "      <td>1.0</td>\n",
       "    </tr>\n",
       "  </tbody>\n",
       "</table>\n",
       "</div>"
      ],
      "text/plain": [
       "               payment type 1  payment type 2  payment type 3  payment type 4\n",
       "Bronx                 38284.0         16290.0           285.0            78.0\n",
       "Brooklyn             468167.0        199199.0          3480.0           948.0\n",
       "EWR                    2651.0          1128.0            20.0             5.0\n",
       "Manhattan          33528654.0      14266019.0        249237.0         67916.0\n",
       "Queens              2307014.0        981605.0         17149.0          4673.0\n",
       "Staten Island           560.0           238.0             4.0             1.0"
      ]
     },
     "execution_count": 101,
     "metadata": {},
     "output_type": "execute_result"
    }
   ],
   "source": [
    "# Expected values\n",
    "D=[]\n",
    "for row in ex:\n",
    "    r=[]\n",
    "    for i in row:\n",
    "        r.append(round(i,0))\n",
    "    D.append(r) \n",
    "mx=pd.DataFrame(D)\n",
    "mx.columns=[\"payment type 1\",\"payment type 2\",\"payment type 3\",\"payment type 4\"]\n",
    "mx.index=[\"Bronx\",\"Brooklyn\",\"EWR\",\"Manhattan\",\"Queens\",\"Staten Island\"]\n",
    "\n",
    "mx"
   ]
  },
  {
   "cell_type": "markdown",
   "metadata": {},
   "source": [
    "# RQ5"
   ]
  },
  {
   "cell_type": "markdown",
   "metadata": {},
   "source": [
    "[RQ5] _Does a long distance correlate with the duration of the trip on average?_ Make a plot that show the dependence between distance and duration of the trip. Then compute the Pearson Coefficient, is it significant? Comment the results you obtain."
   ]
  },
  {
   "cell_type": "code",
   "execution_count": 1,
   "metadata": {},
   "outputs": [],
   "source": [
    "# IMPORTS\n",
    "import pandas as pd\n",
    "import matplotlib.pyplot as plt\n",
    "import datetime \n",
    "import numpy as np\n",
    "from matplotlib.ticker import FuncFormatter\n",
    "from scipy import stats\n",
    "\n",
    "pd.options.mode.chained_assignment = None"
   ]
  },
  {
   "cell_type": "code",
   "execution_count": 3,
   "metadata": {
    "scrolled": true
   },
   "outputs": [
    {
     "name": "stdout",
     "output_type": "stream",
     "text": [
      "1\n",
      "2\n",
      "3\n",
      "4\n",
      "5\n",
      "6\n"
     ]
    },
    {
     "data": {
      "text/html": [
       "<div>\n",
       "<style scoped>\n",
       "    .dataframe tbody tr th:only-of-type {\n",
       "        vertical-align: middle;\n",
       "    }\n",
       "\n",
       "    .dataframe tbody tr th {\n",
       "        vertical-align: top;\n",
       "    }\n",
       "\n",
       "    .dataframe thead th {\n",
       "        text-align: right;\n",
       "    }\n",
       "</style>\n",
       "<table border=\"1\" class=\"dataframe\">\n",
       "  <thead>\n",
       "    <tr style=\"text-align: right;\">\n",
       "      <th></th>\n",
       "      <th>tpep_pickup_datetime</th>\n",
       "      <th>tpep_dropoff_datetime</th>\n",
       "      <th>trip_distance</th>\n",
       "    </tr>\n",
       "  </thead>\n",
       "  <tbody>\n",
       "    <tr>\n",
       "      <th>0</th>\n",
       "      <td>2018-01-01 00:21:05</td>\n",
       "      <td>2018-01-01 00:24:23</td>\n",
       "      <td>0.5</td>\n",
       "    </tr>\n",
       "    <tr>\n",
       "      <th>1</th>\n",
       "      <td>2018-01-01 00:44:55</td>\n",
       "      <td>2018-01-01 01:03:05</td>\n",
       "      <td>2.7</td>\n",
       "    </tr>\n",
       "    <tr>\n",
       "      <th>2</th>\n",
       "      <td>2018-01-01 00:08:26</td>\n",
       "      <td>2018-01-01 00:14:21</td>\n",
       "      <td>0.8</td>\n",
       "    </tr>\n",
       "    <tr>\n",
       "      <th>3</th>\n",
       "      <td>2018-01-01 00:20:22</td>\n",
       "      <td>2018-01-01 00:52:51</td>\n",
       "      <td>10.2</td>\n",
       "    </tr>\n",
       "    <tr>\n",
       "      <th>4</th>\n",
       "      <td>2018-01-01 00:09:18</td>\n",
       "      <td>2018-01-01 00:27:06</td>\n",
       "      <td>2.5</td>\n",
       "    </tr>\n",
       "  </tbody>\n",
       "</table>\n",
       "</div>"
      ],
      "text/plain": [
       "  tpep_pickup_datetime tpep_dropoff_datetime  trip_distance\n",
       "0  2018-01-01 00:21:05   2018-01-01 00:24:23            0.5\n",
       "1  2018-01-01 00:44:55   2018-01-01 01:03:05            2.7\n",
       "2  2018-01-01 00:08:26   2018-01-01 00:14:21            0.8\n",
       "3  2018-01-01 00:20:22   2018-01-01 00:52:51           10.2\n",
       "4  2018-01-01 00:09:18   2018-01-01 00:27:06            2.5"
      ]
     },
     "execution_count": 3,
     "metadata": {},
     "output_type": "execute_result"
    }
   ],
   "source": [
    "taxi_data = pd.DataFrame()\n",
    "tmp = []\n",
    "\n",
    "#Repeat for every file\n",
    "for csv in range(1,7):    \n",
    "\n",
    "    # Loading CSV file\n",
    "    data = pd.read_csv('data/yellow_tripdata_2018-0'+str(csv)+'.csv', \n",
    "                            sep=',', \n",
    "                            encoding='latin1', \n",
    "                            usecols = ['tpep_pickup_datetime', 'tpep_dropoff_datetime','trip_distance']) #, nrows=5000000\n",
    "    \n",
    "    \n",
    "    # Cleaning Data filtering just for the actual days of the month\n",
    "    rq5 = data[(data['tpep_pickup_datetime'] >= '2018-0'+str(csv)+'-01') & \n",
    "                (data['tpep_pickup_datetime'] <= '2018-0'+str(csv)+'-31')]\n",
    "    \n",
    "    tmp.append(rq5)\n",
    "    print(csv)\n",
    "    del rq5\n",
    "\n",
    "taxi_data = pd.concat([*tmp])\n",
    "del tmp\n",
    "taxi_data.head(5)"
   ]
  },
  {
   "cell_type": "code",
   "execution_count": 4,
   "metadata": {
    "scrolled": true
   },
   "outputs": [
    {
     "data": {
      "text/html": [
       "<div>\n",
       "<style scoped>\n",
       "    .dataframe tbody tr th:only-of-type {\n",
       "        vertical-align: middle;\n",
       "    }\n",
       "\n",
       "    .dataframe tbody tr th {\n",
       "        vertical-align: top;\n",
       "    }\n",
       "\n",
       "    .dataframe thead th {\n",
       "        text-align: right;\n",
       "    }\n",
       "</style>\n",
       "<table border=\"1\" class=\"dataframe\">\n",
       "  <thead>\n",
       "    <tr style=\"text-align: right;\">\n",
       "      <th></th>\n",
       "      <th>time_difference</th>\n",
       "      <th>trip_distance</th>\n",
       "    </tr>\n",
       "  </thead>\n",
       "  <tbody>\n",
       "    <tr>\n",
       "      <th>0</th>\n",
       "      <td>198.0</td>\n",
       "      <td>0.5</td>\n",
       "    </tr>\n",
       "    <tr>\n",
       "      <th>1</th>\n",
       "      <td>1090.0</td>\n",
       "      <td>2.7</td>\n",
       "    </tr>\n",
       "    <tr>\n",
       "      <th>2</th>\n",
       "      <td>355.0</td>\n",
       "      <td>0.8</td>\n",
       "    </tr>\n",
       "    <tr>\n",
       "      <th>3</th>\n",
       "      <td>1949.0</td>\n",
       "      <td>10.2</td>\n",
       "    </tr>\n",
       "    <tr>\n",
       "      <th>4</th>\n",
       "      <td>1068.0</td>\n",
       "      <td>2.5</td>\n",
       "    </tr>\n",
       "  </tbody>\n",
       "</table>\n",
       "</div>"
      ],
      "text/plain": [
       "   time_difference  trip_distance\n",
       "0            198.0            0.5\n",
       "1           1090.0            2.7\n",
       "2            355.0            0.8\n",
       "3           1949.0           10.2\n",
       "4           1068.0            2.5"
      ]
     },
     "execution_count": 4,
     "metadata": {},
     "output_type": "execute_result"
    }
   ],
   "source": [
    "##Calculate the differences of time\n",
    "start =  pd.to_datetime(taxi_data['tpep_pickup_datetime'], format='%Y-%m-%d %H:%M:%S')\n",
    "end =  pd.to_datetime(taxi_data['tpep_dropoff_datetime'], format='%Y-%m-%d %H:%M:%S')\n",
    "\n",
    "##Add column to the dataset\n",
    "taxi_data['time_difference'] = (end-start).dt.total_seconds() #\n",
    "\n",
    "taxi_data = taxi_data.loc[(taxi_data['time_difference'] > 0.0) &\n",
    "                          (taxi_data['trip_distance'] > 0.0) &\n",
    "                          (taxi_data['trip_distance'] < 10000) &\n",
    "                          (taxi_data['time_difference'] < 28800),  #maximum duration of the trip: 8 hours\n",
    "                          ['time_difference','trip_distance']]\n",
    "taxi_data.head(5)"
   ]
  },
  {
   "cell_type": "code",
   "execution_count": 5,
   "metadata": {
    "scrolled": true
   },
   "outputs": [
    {
     "data": {
      "text/html": [
       "<div>\n",
       "<style scoped>\n",
       "    .dataframe tbody tr th:only-of-type {\n",
       "        vertical-align: middle;\n",
       "    }\n",
       "\n",
       "    .dataframe tbody tr th {\n",
       "        vertical-align: top;\n",
       "    }\n",
       "\n",
       "    .dataframe thead th {\n",
       "        text-align: right;\n",
       "    }\n",
       "</style>\n",
       "<table border=\"1\" class=\"dataframe\">\n",
       "  <thead>\n",
       "    <tr style=\"text-align: right;\">\n",
       "      <th></th>\n",
       "      <th>trip_distance</th>\n",
       "      <th>time_difference</th>\n",
       "    </tr>\n",
       "  </thead>\n",
       "  <tbody>\n",
       "    <tr>\n",
       "      <th>0</th>\n",
       "      <td>0.01</td>\n",
       "      <td>114.199920</td>\n",
       "    </tr>\n",
       "    <tr>\n",
       "      <th>1</th>\n",
       "      <td>0.02</td>\n",
       "      <td>93.149237</td>\n",
       "    </tr>\n",
       "    <tr>\n",
       "      <th>2</th>\n",
       "      <td>0.03</td>\n",
       "      <td>87.487187</td>\n",
       "    </tr>\n",
       "    <tr>\n",
       "      <th>3</th>\n",
       "      <td>0.04</td>\n",
       "      <td>100.732147</td>\n",
       "    </tr>\n",
       "    <tr>\n",
       "      <th>4</th>\n",
       "      <td>0.05</td>\n",
       "      <td>115.829594</td>\n",
       "    </tr>\n",
       "  </tbody>\n",
       "</table>\n",
       "</div>"
      ],
      "text/plain": [
       "   trip_distance  time_difference\n",
       "0           0.01       114.199920\n",
       "1           0.02        93.149237\n",
       "2           0.03        87.487187\n",
       "3           0.04       100.732147\n",
       "4           0.05       115.829594"
      ]
     },
     "execution_count": 5,
     "metadata": {},
     "output_type": "execute_result"
    }
   ],
   "source": [
    "taxi_data_avg = taxi_data.groupby(['trip_distance']).mean().reset_index()\n",
    "taxi_data_avg.head(5)"
   ]
  },
  {
   "cell_type": "code",
   "execution_count": 6,
   "metadata": {
    "scrolled": false
   },
   "outputs": [
    {
     "data": {
      "text/plain": [
       "<matplotlib.axes._subplots.AxesSubplot at 0x1a107fa128>"
      ]
     },
     "execution_count": 6,
     "metadata": {},
     "output_type": "execute_result"
    },
    {
     "data": {
      "image/png": "[encoded data removed]",
      "text/plain": [
       "<Figure size 1800x1080 with 1 Axes>"
      ]
     },
     "metadata": {},
     "output_type": "display_data"
    }
   ],
   "source": [
    "taxi_data_avg.plot.scatter(x= 'trip_distance',y= 'time_difference', figsize=(25, 15))#,ylim = (0, 25000),xlim=(0,300)"
   ]
  },
  {
   "cell_type": "code",
   "execution_count": 7,
   "metadata": {
    "scrolled": false
   },
   "outputs": [
    {
     "data": {
      "text/plain": [
       "<matplotlib.axes._subplots.AxesSubplot at 0x1b0045c7b8>"
      ]
     },
     "execution_count": 7,
     "metadata": {},
     "output_type": "execute_result"
    },
    {
     "data": {
      "image/png": "[encoded data removed]",
      "text/plain": [
       "<Figure size 1800x1080 with 1 Axes>"
      ]
     },
     "metadata": {},
     "output_type": "display_data"
    }
   ],
   "source": [
    "taxi_data_avg.plot.scatter(x = 'time_difference', y = 'trip_distance', figsize=(25, 15)) #, xlim = (0, 80), ylim = (0, 100)"
   ]
  },
  {
   "cell_type": "markdown",
   "metadata": {},
   "source": [
    "Eliminating the outliers "
   ]
  },
  {
   "cell_type": "code",
   "execution_count": 8,
   "metadata": {},
   "outputs": [],
   "source": [
    "taxi_data_avg2=taxi_data_avg.loc[taxi_data_avg['trip_distance'] <500.0]"
   ]
  },
  {
   "cell_type": "code",
   "execution_count": 9,
   "metadata": {
    "scrolled": false
   },
   "outputs": [
    {
     "data": {
      "text/plain": [
       "<matplotlib.axes._subplots.AxesSubplot at 0x1b004c9b00>"
      ]
     },
     "execution_count": 9,
     "metadata": {},
     "output_type": "execute_result"
    },
    {
     "data": {
      "image/png": "[encoded data removed]",
      "text/plain": [
       "<Figure size 1800x1080 with 1 Axes>"
      ]
     },
     "metadata": {},
     "output_type": "display_data"
    }
   ],
   "source": [
    "taxi_data_avg2.plot.scatter(x= 'trip_distance',y= 'time_difference', figsize=(25, 15))"
   ]
  },
  {
   "cell_type": "markdown",
   "metadata": {
    "scrolled": true
   },
   "source": [
    "### Pearson Coefficient"
   ]
  },
  {
   "cell_type": "code",
   "execution_count": 10,
   "metadata": {},
   "outputs": [
    {
     "name": "stdout",
     "output_type": "stream",
     "text": [
      "Pearson Coefficient =  0.4689122975474665\n",
      "p value =  0.0\n"
     ]
    }
   ],
   "source": [
    "#with outliers\n",
    "coef,p=stats.pearsonr(taxi_data_avg['trip_distance'],taxi_data_avg['time_difference'])\n",
    "print(\"Pearson Coefficient = \",coef)\n",
    "print(\"p value = \",p)"
   ]
  },
  {
   "cell_type": "code",
   "execution_count": 11,
   "metadata": {},
   "outputs": [
    {
     "name": "stdout",
     "output_type": "stream",
     "text": [
      "Pearson Coefficient =  0.7435889190102948\n",
      "p value =  0.0\n"
     ]
    }
   ],
   "source": [
    "#without outliers\n",
    "coef,p=stats.pearsonr(taxi_data_avg2['trip_distance'],taxi_data_avg2['time_difference'])\n",
    "print(\"Pearson Coefficient = \",coef)\n",
    "print(\"p value = \",p)"
   ]
  },
  {
   "cell_type": "markdown",
   "metadata": {},
   "source": [
    "In both situation, the _Pearson Coefficient_ identify a positive correlation between the two variables, which is stronger after eliminitang the irregular data."
   ]
  },
  {
   "cell_type": "markdown",
   "metadata": {},
   "source": [
    "# CRQ1"
   ]
  },
  {
   "cell_type": "markdown",
   "metadata": {},
   "source": [
    "[CRQ1] _Does the fare for mile change across NY's borough?_ We want to discover whether the expenses of a user that enjoys Taxis in one zone is different from those that uses it in another one."
   ]
  },
  {
   "cell_type": "code",
   "execution_count": 1,
   "metadata": {},
   "outputs": [],
   "source": [
    "import pandas as pd\n",
    "import matplotlib.pyplot as plt\n",
    "import datetime as dt\n",
    "import numpy as np\n",
    "import seaborn as sns"
   ]
  },
  {
   "cell_type": "markdown",
   "metadata": {},
   "source": [
    "## 1. Considering the fare amount:"
   ]
  },
  {
   "cell_type": "markdown",
   "metadata": {},
   "source": [
    "#### - Compute the price per mile equation for each trip."
   ]
  },
  {
   "cell_type": "code",
   "execution_count": 2,
   "metadata": {},
   "outputs": [],
   "source": [
    "##Starting Variables and Making our dataframe\n",
    "months = ['', 'January', 'February', 'March', 'April', 'May', 'June']\n",
    "crq1 = pd.DataFrame()\n",
    "##Getting info about boroughs\n",
    "taxi_zone_lookup = pd.read_csv('C:/Users/sanch/Desktop/Taxi Data/taxi_zone_lookup.csv', sep=',', encoding='latin1', usecols=['LocationID', 'Borough'])\n",
    "##Getting boroughs names:\n",
    "listOfBoroughs = taxi_zone_lookup.loc[:, ['Borough']].drop_duplicates().values.tolist()\n",
    "pd.options.display.float_format = '{:.2f}'.format\n",
    "\n",
    "##Loop 6 times, each per month\n",
    "for i in range(1,7):\n",
    "    \n",
    "    ##Reading the columns of date and time\n",
    "    cols = ['tpep_pickup_datetime', 'trip_distance', 'fare_amount', 'PULocationID']\n",
    "    taxi_data = pd.read_csv('C:/Users/sanch/Desktop/Taxi Data/yellow_tripdata_2018-0'+str(i)+'.csv', sep=',', encoding='latin1', usecols=cols)\n",
    "    \n",
    "    ##Merging the data with Boroughs\n",
    "    taxi_data = pd.merge(taxi_data, taxi_zone_lookup, how=\"inner\", left_on=\"PULocationID\", right_on=\"LocationID\")\n",
    "    \n",
    "    ##Filtering by dates because there is some extra information\n",
    "    taxi_data = taxi_data[(taxi_data.loc[:,'tpep_pickup_datetime'] >= '2018-0'+str(i)+'-01') & (taxi_data.loc[:,'tpep_pickup_datetime'] <= '2018-0'+str(i)+'-31')]\n",
    "    \n",
    "    ##Concat all months data in one\n",
    "    crq1 = pd.concat([crq1, taxi_data])\n",
    "    \n",
    "##Adding price per mile\n",
    "crq1.loc[:,'P'] = crq1.loc[:,'fare_amount']/crq1.loc[:,'trip_distance']\n",
    "\n",
    "del taxi_data\n",
    "    "
   ]
  },
  {
   "cell_type": "markdown",
   "metadata": {},
   "source": [
    "We delete unuseful data"
   ]
  },
  {
   "cell_type": "code",
   "execution_count": 3,
   "metadata": {
    "scrolled": true
   },
   "outputs": [
    {
     "data": {
      "text/html": [
       "<div>\n",
       "<style scoped>\n",
       "    .dataframe tbody tr th:only-of-type {\n",
       "        vertical-align: middle;\n",
       "    }\n",
       "\n",
       "    .dataframe tbody tr th {\n",
       "        vertical-align: top;\n",
       "    }\n",
       "\n",
       "    .dataframe thead th {\n",
       "        text-align: right;\n",
       "    }\n",
       "</style>\n",
       "<table border=\"1\" class=\"dataframe\">\n",
       "  <thead>\n",
       "    <tr style=\"text-align: right;\">\n",
       "      <th></th>\n",
       "      <th>trip_distance</th>\n",
       "      <th>fare_amount</th>\n",
       "      <th>Borough</th>\n",
       "      <th>P</th>\n",
       "    </tr>\n",
       "  </thead>\n",
       "  <tbody>\n",
       "    <tr>\n",
       "      <th>0</th>\n",
       "      <td>0.50</td>\n",
       "      <td>4.50</td>\n",
       "      <td>Manhattan</td>\n",
       "      <td>9.00</td>\n",
       "    </tr>\n",
       "    <tr>\n",
       "      <th>1</th>\n",
       "      <td>1.36</td>\n",
       "      <td>8.50</td>\n",
       "      <td>Manhattan</td>\n",
       "      <td>6.25</td>\n",
       "    </tr>\n",
       "    <tr>\n",
       "      <th>2</th>\n",
       "      <td>0.30</td>\n",
       "      <td>4.00</td>\n",
       "      <td>Manhattan</td>\n",
       "      <td>13.33</td>\n",
       "    </tr>\n",
       "    <tr>\n",
       "      <th>3</th>\n",
       "      <td>14.10</td>\n",
       "      <td>41.50</td>\n",
       "      <td>Manhattan</td>\n",
       "      <td>2.94</td>\n",
       "    </tr>\n",
       "    <tr>\n",
       "      <th>4</th>\n",
       "      <td>8.77</td>\n",
       "      <td>29.00</td>\n",
       "      <td>Manhattan</td>\n",
       "      <td>3.31</td>\n",
       "    </tr>\n",
       "    <tr>\n",
       "      <th>5</th>\n",
       "      <td>0.76</td>\n",
       "      <td>5.00</td>\n",
       "      <td>Manhattan</td>\n",
       "      <td>6.58</td>\n",
       "    </tr>\n",
       "    <tr>\n",
       "      <th>6</th>\n",
       "      <td>1.06</td>\n",
       "      <td>6.50</td>\n",
       "      <td>Manhattan</td>\n",
       "      <td>6.13</td>\n",
       "    </tr>\n",
       "    <tr>\n",
       "      <th>7</th>\n",
       "      <td>2.40</td>\n",
       "      <td>11.50</td>\n",
       "      <td>Manhattan</td>\n",
       "      <td>4.79</td>\n",
       "    </tr>\n",
       "    <tr>\n",
       "      <th>8</th>\n",
       "      <td>1.40</td>\n",
       "      <td>6.00</td>\n",
       "      <td>Manhattan</td>\n",
       "      <td>4.29</td>\n",
       "    </tr>\n",
       "    <tr>\n",
       "      <th>9</th>\n",
       "      <td>0.90</td>\n",
       "      <td>5.50</td>\n",
       "      <td>Manhattan</td>\n",
       "      <td>6.11</td>\n",
       "    </tr>\n",
       "    <tr>\n",
       "      <th>10</th>\n",
       "      <td>10.80</td>\n",
       "      <td>32.50</td>\n",
       "      <td>Manhattan</td>\n",
       "      <td>3.01</td>\n",
       "    </tr>\n",
       "    <tr>\n",
       "      <th>11</th>\n",
       "      <td>2.90</td>\n",
       "      <td>10.50</td>\n",
       "      <td>Manhattan</td>\n",
       "      <td>3.62</td>\n",
       "    </tr>\n",
       "    <tr>\n",
       "      <th>12</th>\n",
       "      <td>11.06</td>\n",
       "      <td>33.50</td>\n",
       "      <td>Manhattan</td>\n",
       "      <td>3.03</td>\n",
       "    </tr>\n",
       "    <tr>\n",
       "      <th>13</th>\n",
       "      <td>4.80</td>\n",
       "      <td>20.00</td>\n",
       "      <td>Manhattan</td>\n",
       "      <td>4.17</td>\n",
       "    </tr>\n",
       "    <tr>\n",
       "      <th>14</th>\n",
       "      <td>8.98</td>\n",
       "      <td>32.50</td>\n",
       "      <td>Manhattan</td>\n",
       "      <td>3.62</td>\n",
       "    </tr>\n",
       "    <tr>\n",
       "      <th>15</th>\n",
       "      <td>2.00</td>\n",
       "      <td>10.50</td>\n",
       "      <td>Manhattan</td>\n",
       "      <td>5.25</td>\n",
       "    </tr>\n",
       "    <tr>\n",
       "      <th>16</th>\n",
       "      <td>2.10</td>\n",
       "      <td>9.50</td>\n",
       "      <td>Manhattan</td>\n",
       "      <td>4.52</td>\n",
       "    </tr>\n",
       "    <tr>\n",
       "      <th>17</th>\n",
       "      <td>1.40</td>\n",
       "      <td>7.50</td>\n",
       "      <td>Manhattan</td>\n",
       "      <td>5.36</td>\n",
       "    </tr>\n",
       "    <tr>\n",
       "      <th>18</th>\n",
       "      <td>1.63</td>\n",
       "      <td>7.50</td>\n",
       "      <td>Manhattan</td>\n",
       "      <td>4.60</td>\n",
       "    </tr>\n",
       "    <tr>\n",
       "      <th>19</th>\n",
       "      <td>1.22</td>\n",
       "      <td>6.50</td>\n",
       "      <td>Manhattan</td>\n",
       "      <td>5.33</td>\n",
       "    </tr>\n",
       "    <tr>\n",
       "      <th>20</th>\n",
       "      <td>2.40</td>\n",
       "      <td>10.50</td>\n",
       "      <td>Manhattan</td>\n",
       "      <td>4.38</td>\n",
       "    </tr>\n",
       "    <tr>\n",
       "      <th>21</th>\n",
       "      <td>2.70</td>\n",
       "      <td>12.00</td>\n",
       "      <td>Manhattan</td>\n",
       "      <td>4.44</td>\n",
       "    </tr>\n",
       "    <tr>\n",
       "      <th>22</th>\n",
       "      <td>1.01</td>\n",
       "      <td>6.00</td>\n",
       "      <td>Manhattan</td>\n",
       "      <td>5.94</td>\n",
       "    </tr>\n",
       "    <tr>\n",
       "      <th>23</th>\n",
       "      <td>1.72</td>\n",
       "      <td>8.00</td>\n",
       "      <td>Manhattan</td>\n",
       "      <td>4.65</td>\n",
       "    </tr>\n",
       "    <tr>\n",
       "      <th>24</th>\n",
       "      <td>1.18</td>\n",
       "      <td>6.50</td>\n",
       "      <td>Manhattan</td>\n",
       "      <td>5.51</td>\n",
       "    </tr>\n",
       "    <tr>\n",
       "      <th>25</th>\n",
       "      <td>1.60</td>\n",
       "      <td>9.00</td>\n",
       "      <td>Manhattan</td>\n",
       "      <td>5.62</td>\n",
       "    </tr>\n",
       "    <tr>\n",
       "      <th>26</th>\n",
       "      <td>2.00</td>\n",
       "      <td>9.00</td>\n",
       "      <td>Manhattan</td>\n",
       "      <td>4.50</td>\n",
       "    </tr>\n",
       "    <tr>\n",
       "      <th>27</th>\n",
       "      <td>1.24</td>\n",
       "      <td>6.50</td>\n",
       "      <td>Manhattan</td>\n",
       "      <td>5.24</td>\n",
       "    </tr>\n",
       "    <tr>\n",
       "      <th>28</th>\n",
       "      <td>0.49</td>\n",
       "      <td>4.00</td>\n",
       "      <td>Manhattan</td>\n",
       "      <td>8.16</td>\n",
       "    </tr>\n",
       "    <tr>\n",
       "      <th>29</th>\n",
       "      <td>1.50</td>\n",
       "      <td>8.50</td>\n",
       "      <td>Manhattan</td>\n",
       "      <td>5.67</td>\n",
       "    </tr>\n",
       "    <tr>\n",
       "      <th>...</th>\n",
       "      <td>...</td>\n",
       "      <td>...</td>\n",
       "      <td>...</td>\n",
       "      <td>...</td>\n",
       "    </tr>\n",
       "    <tr>\n",
       "      <th>8713801</th>\n",
       "      <td>12.40</td>\n",
       "      <td>161.00</td>\n",
       "      <td>Bronx</td>\n",
       "      <td>12.98</td>\n",
       "    </tr>\n",
       "    <tr>\n",
       "      <th>8713802</th>\n",
       "      <td>18.05</td>\n",
       "      <td>47.50</td>\n",
       "      <td>Bronx</td>\n",
       "      <td>2.63</td>\n",
       "    </tr>\n",
       "    <tr>\n",
       "      <th>8713803</th>\n",
       "      <td>2.31</td>\n",
       "      <td>13.00</td>\n",
       "      <td>Bronx</td>\n",
       "      <td>5.63</td>\n",
       "    </tr>\n",
       "    <tr>\n",
       "      <th>8713804</th>\n",
       "      <td>14.62</td>\n",
       "      <td>42.00</td>\n",
       "      <td>Bronx</td>\n",
       "      <td>2.87</td>\n",
       "    </tr>\n",
       "    <tr>\n",
       "      <th>8713805</th>\n",
       "      <td>23.90</td>\n",
       "      <td>71.00</td>\n",
       "      <td>Staten Island</td>\n",
       "      <td>2.97</td>\n",
       "    </tr>\n",
       "    <tr>\n",
       "      <th>8713806</th>\n",
       "      <td>25.22</td>\n",
       "      <td>73.00</td>\n",
       "      <td>Staten Island</td>\n",
       "      <td>2.89</td>\n",
       "    </tr>\n",
       "    <tr>\n",
       "      <th>8713807</th>\n",
       "      <td>0.00</td>\n",
       "      <td>90.00</td>\n",
       "      <td>Staten Island</td>\n",
       "      <td>inf</td>\n",
       "    </tr>\n",
       "    <tr>\n",
       "      <th>8713808</th>\n",
       "      <td>12.95</td>\n",
       "      <td>39.00</td>\n",
       "      <td>Staten Island</td>\n",
       "      <td>3.01</td>\n",
       "    </tr>\n",
       "    <tr>\n",
       "      <th>8713809</th>\n",
       "      <td>18.23</td>\n",
       "      <td>59.50</td>\n",
       "      <td>Staten Island</td>\n",
       "      <td>3.26</td>\n",
       "    </tr>\n",
       "    <tr>\n",
       "      <th>8713810</th>\n",
       "      <td>28.62</td>\n",
       "      <td>85.00</td>\n",
       "      <td>Staten Island</td>\n",
       "      <td>2.97</td>\n",
       "    </tr>\n",
       "    <tr>\n",
       "      <th>8713811</th>\n",
       "      <td>0.00</td>\n",
       "      <td>25.00</td>\n",
       "      <td>Staten Island</td>\n",
       "      <td>inf</td>\n",
       "    </tr>\n",
       "    <tr>\n",
       "      <th>8713812</th>\n",
       "      <td>13.64</td>\n",
       "      <td>47.00</td>\n",
       "      <td>Staten Island</td>\n",
       "      <td>3.45</td>\n",
       "    </tr>\n",
       "    <tr>\n",
       "      <th>8713813</th>\n",
       "      <td>1.70</td>\n",
       "      <td>7.00</td>\n",
       "      <td>Staten Island</td>\n",
       "      <td>4.12</td>\n",
       "    </tr>\n",
       "    <tr>\n",
       "      <th>8713814</th>\n",
       "      <td>0.00</td>\n",
       "      <td>52.00</td>\n",
       "      <td>Staten Island</td>\n",
       "      <td>inf</td>\n",
       "    </tr>\n",
       "    <tr>\n",
       "      <th>8713815</th>\n",
       "      <td>0.08</td>\n",
       "      <td>2.50</td>\n",
       "      <td>Staten Island</td>\n",
       "      <td>31.25</td>\n",
       "    </tr>\n",
       "    <tr>\n",
       "      <th>8713816</th>\n",
       "      <td>0.00</td>\n",
       "      <td>15.00</td>\n",
       "      <td>Staten Island</td>\n",
       "      <td>inf</td>\n",
       "    </tr>\n",
       "    <tr>\n",
       "      <th>8713817</th>\n",
       "      <td>45.50</td>\n",
       "      <td>121.50</td>\n",
       "      <td>Staten Island</td>\n",
       "      <td>2.67</td>\n",
       "    </tr>\n",
       "    <tr>\n",
       "      <th>8713818</th>\n",
       "      <td>0.00</td>\n",
       "      <td>85.30</td>\n",
       "      <td>Staten Island</td>\n",
       "      <td>inf</td>\n",
       "    </tr>\n",
       "    <tr>\n",
       "      <th>8713819</th>\n",
       "      <td>6.70</td>\n",
       "      <td>21.50</td>\n",
       "      <td>Staten Island</td>\n",
       "      <td>3.21</td>\n",
       "    </tr>\n",
       "    <tr>\n",
       "      <th>8713820</th>\n",
       "      <td>16.88</td>\n",
       "      <td>46.00</td>\n",
       "      <td>Staten Island</td>\n",
       "      <td>2.73</td>\n",
       "    </tr>\n",
       "    <tr>\n",
       "      <th>8713821</th>\n",
       "      <td>7.27</td>\n",
       "      <td>24.50</td>\n",
       "      <td>Bronx</td>\n",
       "      <td>3.37</td>\n",
       "    </tr>\n",
       "    <tr>\n",
       "      <th>8713822</th>\n",
       "      <td>0.00</td>\n",
       "      <td>45.00</td>\n",
       "      <td>Bronx</td>\n",
       "      <td>inf</td>\n",
       "    </tr>\n",
       "    <tr>\n",
       "      <th>8713823</th>\n",
       "      <td>2.01</td>\n",
       "      <td>9.50</td>\n",
       "      <td>Bronx</td>\n",
       "      <td>4.73</td>\n",
       "    </tr>\n",
       "    <tr>\n",
       "      <th>8713824</th>\n",
       "      <td>0.76</td>\n",
       "      <td>6.20</td>\n",
       "      <td>Bronx</td>\n",
       "      <td>8.16</td>\n",
       "    </tr>\n",
       "    <tr>\n",
       "      <th>8713825</th>\n",
       "      <td>0.00</td>\n",
       "      <td>70.00</td>\n",
       "      <td>Staten Island</td>\n",
       "      <td>inf</td>\n",
       "    </tr>\n",
       "    <tr>\n",
       "      <th>8713826</th>\n",
       "      <td>0.00</td>\n",
       "      <td>109.00</td>\n",
       "      <td>Staten Island</td>\n",
       "      <td>inf</td>\n",
       "    </tr>\n",
       "    <tr>\n",
       "      <th>8713827</th>\n",
       "      <td>0.00</td>\n",
       "      <td>2.50</td>\n",
       "      <td>Staten Island</td>\n",
       "      <td>inf</td>\n",
       "    </tr>\n",
       "    <tr>\n",
       "      <th>8713828</th>\n",
       "      <td>24.70</td>\n",
       "      <td>2.50</td>\n",
       "      <td>Staten Island</td>\n",
       "      <td>0.10</td>\n",
       "    </tr>\n",
       "    <tr>\n",
       "      <th>8713829</th>\n",
       "      <td>24.70</td>\n",
       "      <td>0.00</td>\n",
       "      <td>Staten Island</td>\n",
       "      <td>0.00</td>\n",
       "    </tr>\n",
       "    <tr>\n",
       "      <th>8713830</th>\n",
       "      <td>24.70</td>\n",
       "      <td>77.32</td>\n",
       "      <td>Staten Island</td>\n",
       "      <td>3.13</td>\n",
       "    </tr>\n",
       "  </tbody>\n",
       "</table>\n",
       "<p>53002228 rows × 4 columns</p>\n",
       "</div>"
      ],
      "text/plain": [
       "         trip_distance  fare_amount        Borough     P\n",
       "0                 0.50         4.50      Manhattan  9.00\n",
       "1                 1.36         8.50      Manhattan  6.25\n",
       "2                 0.30         4.00      Manhattan 13.33\n",
       "3                14.10        41.50      Manhattan  2.94\n",
       "4                 8.77        29.00      Manhattan  3.31\n",
       "5                 0.76         5.00      Manhattan  6.58\n",
       "6                 1.06         6.50      Manhattan  6.13\n",
       "7                 2.40        11.50      Manhattan  4.79\n",
       "8                 1.40         6.00      Manhattan  4.29\n",
       "9                 0.90         5.50      Manhattan  6.11\n",
       "10               10.80        32.50      Manhattan  3.01\n",
       "11                2.90        10.50      Manhattan  3.62\n",
       "12               11.06        33.50      Manhattan  3.03\n",
       "13                4.80        20.00      Manhattan  4.17\n",
       "14                8.98        32.50      Manhattan  3.62\n",
       "15                2.00        10.50      Manhattan  5.25\n",
       "16                2.10         9.50      Manhattan  4.52\n",
       "17                1.40         7.50      Manhattan  5.36\n",
       "18                1.63         7.50      Manhattan  4.60\n",
       "19                1.22         6.50      Manhattan  5.33\n",
       "20                2.40        10.50      Manhattan  4.38\n",
       "21                2.70        12.00      Manhattan  4.44\n",
       "22                1.01         6.00      Manhattan  5.94\n",
       "23                1.72         8.00      Manhattan  4.65\n",
       "24                1.18         6.50      Manhattan  5.51\n",
       "25                1.60         9.00      Manhattan  5.62\n",
       "26                2.00         9.00      Manhattan  4.50\n",
       "27                1.24         6.50      Manhattan  5.24\n",
       "28                0.49         4.00      Manhattan  8.16\n",
       "29                1.50         8.50      Manhattan  5.67\n",
       "...                ...          ...            ...   ...\n",
       "8713801          12.40       161.00          Bronx 12.98\n",
       "8713802          18.05        47.50          Bronx  2.63\n",
       "8713803           2.31        13.00          Bronx  5.63\n",
       "8713804          14.62        42.00          Bronx  2.87\n",
       "8713805          23.90        71.00  Staten Island  2.97\n",
       "8713806          25.22        73.00  Staten Island  2.89\n",
       "8713807           0.00        90.00  Staten Island   inf\n",
       "8713808          12.95        39.00  Staten Island  3.01\n",
       "8713809          18.23        59.50  Staten Island  3.26\n",
       "8713810          28.62        85.00  Staten Island  2.97\n",
       "8713811           0.00        25.00  Staten Island   inf\n",
       "8713812          13.64        47.00  Staten Island  3.45\n",
       "8713813           1.70         7.00  Staten Island  4.12\n",
       "8713814           0.00        52.00  Staten Island   inf\n",
       "8713815           0.08         2.50  Staten Island 31.25\n",
       "8713816           0.00        15.00  Staten Island   inf\n",
       "8713817          45.50       121.50  Staten Island  2.67\n",
       "8713818           0.00        85.30  Staten Island   inf\n",
       "8713819           6.70        21.50  Staten Island  3.21\n",
       "8713820          16.88        46.00  Staten Island  2.73\n",
       "8713821           7.27        24.50          Bronx  3.37\n",
       "8713822           0.00        45.00          Bronx   inf\n",
       "8713823           2.01         9.50          Bronx  4.73\n",
       "8713824           0.76         6.20          Bronx  8.16\n",
       "8713825           0.00        70.00  Staten Island   inf\n",
       "8713826           0.00       109.00  Staten Island   inf\n",
       "8713827           0.00         2.50  Staten Island   inf\n",
       "8713828          24.70         2.50  Staten Island  0.10\n",
       "8713829          24.70         0.00  Staten Island  0.00\n",
       "8713830          24.70        77.32  Staten Island  3.13\n",
       "\n",
       "[53002228 rows x 4 columns]"
      ]
     },
     "execution_count": 3,
     "metadata": {},
     "output_type": "execute_result"
    }
   ],
   "source": [
    "crq1 = crq1.drop(['LocationID', 'PULocationID', 'tpep_pickup_datetime'], axis=1)\n",
    "if ['Unknown'] in listOfBoroughs: listOfBoroughs.remove(['Unknown'])\n",
    "crq1"
   ]
  },
  {
   "cell_type": "markdown",
   "metadata": {},
   "source": [
    "#### - Run the mean and the standard deviation of the new variable for each borough. Then plot the distribution. What do you see?"
   ]
  },
  {
   "cell_type": "markdown",
   "metadata": {},
   "source": [
    "Mean of each borough:"
   ]
  },
  {
   "cell_type": "code",
   "execution_count": 4,
   "metadata": {
    "scrolled": true
   },
   "outputs": [
    {
     "name": "stdout",
     "output_type": "stream",
     "text": [
      "EWR 849.2631289784102\n",
      "Queens 6.725728532365999\n",
      "Bronx 8.799992712723103\n",
      "Manhattan 6.757738128690167\n",
      "Staten Island 19.38973069315423\n",
      "Brooklyn 6.160861155965918\n"
     ]
    }
   ],
   "source": [
    "dicOfMeans = {}\n",
    "for borough in listOfBoroughs:\n",
    "    name = \"\".join(borough)\n",
    "    dicOfMeans[name] = crq1[crq1['Borough'] == name].P.replace([np.inf, -np.inf], np.nan).dropna().mean()\n",
    "    \n",
    "for i in dicOfMeans.items():\n",
    "    print(i[0], i[1])"
   ]
  },
  {
   "cell_type": "markdown",
   "metadata": {},
   "source": [
    "Standard deviation of each borough:"
   ]
  },
  {
   "cell_type": "code",
   "execution_count": 5,
   "metadata": {},
   "outputs": [
    {
     "name": "stdout",
     "output_type": "stream",
     "text": [
      "EWR 2288.033467422429\n",
      "Queens 109.0991335324439\n",
      "Bronx 110.79642748554133\n",
      "Manhattan 61.902349672932615\n",
      "Staten Island 105.84321826225259\n",
      "Brooklyn 58.51706607519577\n"
     ]
    }
   ],
   "source": [
    "dicOfStd = {}\n",
    "for borough in listOfBoroughs:\n",
    "    name = \"\".join(borough)\n",
    "    dicOfStd[name] = crq1[crq1['Borough'] == name].P.replace([np.inf, -np.inf], np.nan).dropna().std()\n",
    "    \n",
    "for i in dicOfStd.items():\n",
    "    print(i[0], i[1])"
   ]
  },
  {
   "cell_type": "markdown",
   "metadata": {},
   "source": [
    "Plot of ditributions for each Borough:"
   ]
  },
  {
   "cell_type": "code",
   "execution_count": 6,
   "metadata": {},
   "outputs": [
    {
     "data": {
      "image/png": "[encoded data removed]",
      "text/plain": [
       "<Figure size 864x360 with 6 Axes>"
      ]
     },
     "metadata": {},
     "output_type": "display_data"
    }
   ],
   "source": [
    "rangesPlot = list(range(0, 41, 1))\n",
    "fig, axes = plt.subplots(nrows=2, ncols=3)\n",
    "\n",
    "a=0\n",
    "b=0\n",
    "for borough in listOfBoroughs:\n",
    "    name = \"\".join(borough)\n",
    "    \n",
    "    ax = crq1[crq1['Borough'] == name].P.replace([np.inf, -np.inf], np.nan).dropna().plot.density(ax=axes[a,b], ind=rangesPlot, figsize=(12,5), title=name)\n",
    "    ax.set_xlabel(\"Price per mile\")\n",
    "    ax.set_ylabel(\"Density\")\n",
    "    \n",
    "    #to manage the plots\n",
    "    if(b == 2):\n",
    "        a += 1\n",
    "        b = 0\n",
    "    else:\n",
    "        b += 1\n",
    "    \n",
    "fig.tight_layout()\n",
    "plt.show()\n"
   ]
  },
  {
   "cell_type": "markdown",
   "metadata": {},
   "source": [
    "Then we plot the different prices per mile by intervals:"
   ]
  },
  {
   "cell_type": "code",
   "execution_count": 7,
   "metadata": {
    "scrolled": false
   },
   "outputs": [
    {
     "data": {
      "image/png": "[encoded data removed]",
      "text/plain": [
       "<Figure size 1008x360 with 1 Axes>"
      ]
     },
     "metadata": {},
     "output_type": "display_data"
    },
    {
     "data": {
      "image/png": "[encoded data removed]",
      "text/plain": [
       "<Figure size 1008x360 with 1 Axes>"
      ]
     },
     "metadata": {},
     "output_type": "display_data"
    },
    {
     "data": {
      "image/png": "[encoded data removed]",
      "text/plain": [
       "<Figure size 1008x360 with 1 Axes>"
      ]
     },
     "metadata": {},
     "output_type": "display_data"
    },
    {
     "data": {
      "image/png": "[encoded data removed]",
      "text/plain": [
       "<Figure size 1008x360 with 1 Axes>"
      ]
     },
     "metadata": {},
     "output_type": "display_data"
    },
    {
     "data": {
      "image/png": "[encoded data removed]",
      "text/plain": [
       "<Figure size 1008x360 with 1 Axes>"
      ]
     },
     "metadata": {},
     "output_type": "display_data"
    },
    {
     "data": {
      "image/png": "[encoded data removed]",
      "text/plain": [
       "<Figure size 1008x360 with 1 Axes>"
      ]
     },
     "metadata": {},
     "output_type": "display_data"
    }
   ],
   "source": [
    "for borough in listOfBoroughs:\n",
    "    name = \"\".join(borough)\n",
    "    out = pd.cut(crq1[crq1['Borough'] == name].P.replace([np.inf, -np.inf], np.nan).dropna(), bins=[0, 3, 6, 9, 12, 15, 18, 25, 40, max(crq1[crq1['Borough'] == name].P)])\n",
    "    ax1 = out.value_counts(sort=False).plot.bar(rot=0, figsize=(14,5), title=name)\n",
    "    ax1.set_xlabel(\"Prices per mile ($)\")\n",
    "    ax1.set_ylabel(\"Density\")\n",
    "    plt.show()"
   ]
  },
  {
   "cell_type": "markdown",
   "metadata": {},
   "source": [
    "We can see that the means are included between 6 and 20 except for EWR and that the standard deviations are high. Also in the plots we can observe that most of the values are between 3 and 6 $/mile and depending of each borough they have different prices."
   ]
  },
  {
   "cell_type": "markdown",
   "metadata": {
    "scrolled": true
   },
   "source": [
    "#### - Run the t-test among all the possible pairs of distribution of different boroughs.\n"
   ]
  },
  {
   "cell_type": "code",
   "execution_count": 8,
   "metadata": {},
   "outputs": [
    {
     "name": "stdout",
     "output_type": "stream",
     "text": [
      "Between EWR Queens\n",
      "Statistics=244.18782, p=0.00000\n",
      "Different distributions (reject H0)\n",
      "\n",
      "\n",
      "Between EWR Bronx\n",
      "Statistics=79.14408, p=0.00000\n",
      "Different distributions (reject H0)\n",
      "\n",
      "\n",
      "Between EWR Manhattan\n",
      "Statistics=455.50395, p=0.00000\n",
      "Different distributions (reject H0)\n",
      "\n",
      "\n",
      "Between EWR Staten Island\n",
      "Statistics=9.07561, p=0.00000\n",
      "Different distributions (reject H0)\n",
      "\n",
      "\n",
      "Between EWR Brooklyn\n",
      "Statistics=255.58107, p=0.00000\n",
      "Different distributions (reject H0)\n",
      "\n",
      "\n",
      "Between Queens Bronx\n",
      "Statistics=-4.26741, p=0.00002\n",
      "Different distributions (reject H0)\n",
      "\n",
      "\n",
      "Between Queens Manhattan\n",
      "Statistics=-0.84548, p=0.39784\n",
      "Same distributions (fail to reject H0)\n",
      "\n",
      "\n",
      "Between Queens Staten Island\n",
      "Statistics=-2.90632, p=0.00366\n",
      "Different distributions (reject H0)\n",
      "\n",
      "\n",
      "Between Queens Brooklyn\n",
      "Statistics=4.08866, p=0.00004\n",
      "Different distributions (reject H0)\n",
      "\n",
      "\n",
      "Between Bronx Manhattan\n",
      "Statistics=7.45247, p=0.00000\n",
      "Different distributions (reject H0)\n",
      "\n",
      "\n",
      "Between Bronx Staten Island\n",
      "Statistics=-2.38001, p=0.01732\n",
      "Different distributions (reject H0)\n",
      "\n",
      "\n",
      "Between Bronx Brooklyn\n",
      "Statistics=9.02715, p=0.00000\n",
      "Different distributions (reject H0)\n",
      "\n",
      "\n",
      "Between Manhattan Staten Island\n",
      "Statistics=-5.10964, p=0.00000\n",
      "Different distributions (reject H0)\n",
      "\n",
      "\n",
      "Between Manhattan Brooklyn\n",
      "Statistics=7.78702, p=0.00000\n",
      "Different distributions (reject H0)\n",
      "\n",
      "\n",
      "Between Staten Island Brooklyn\n",
      "Statistics=5.65199, p=0.00000\n",
      "Different distributions (reject H0)\n",
      "\n",
      "\n"
     ]
    }
   ],
   "source": [
    "from scipy.stats import ttest_ind\n",
    "\n",
    "nameList = []\n",
    "for borough in listOfBoroughs:\n",
    "    name1 = \"\".join(borough)\n",
    "    nameList.append(name1)\n",
    "    data1 = crq1[crq1['Borough'] == name1].P.replace([np.inf, -np.inf], np.nan).dropna()\n",
    "\n",
    "    for borough in listOfBoroughs:\n",
    "        name2 = \"\".join(borough)\n",
    "        if((name2 != name1) and (name2 not in nameList)):\n",
    "            data2 = crq1[crq1['Borough'] == name2].P.replace([np.inf, -np.inf], np.nan).dropna()\n",
    "\n",
    "            print(\"Between\", name1, name2)\n",
    "            # compare samples\n",
    "            stat, p = ttest_ind(data1, data2)\n",
    "            print('Statistics=%.5f, p=%.5f' % (stat, p))\n",
    "            # interpret\n",
    "            alpha = 0.05\n",
    "\n",
    "            if p > alpha:\n",
    "                print('Same distributions (fail to reject H0)')\n",
    "            else:\n",
    "                print('Different distributions (reject H0)')\n",
    "            print(\"\\n\")"
   ]
  },
  {
   "cell_type": "markdown",
   "metadata": {},
   "source": [
    "#### - Can you say that statistically significant differences, on the averages, hold among zones? In other words, are Taxis trip in some boroughs, on average, more expensive than others?"
   ]
  },
  {
   "cell_type": "markdown",
   "metadata": {},
   "source": [
    "We can see that we have statistically significant differences as we can see in the results of the T-Test. \n",
    "Only passed the test: \n",
    "    - Queens - Manhattan\n",
    "So we can observe having a look at the average that some boroughs are more expensive than others."
   ]
  },
  {
   "cell_type": "markdown",
   "metadata": {},
   "source": [
    "## 2. The price per mile might depend on traffic the Taxi finds on its way. So we try to mitigate this effect:"
   ]
  },
  {
   "cell_type": "markdown",
   "metadata": {},
   "source": [
    "#### - Likely, the duration of the trip says something about the city's congestion, especially if combined with the distances. It might be a good idea to weight the price for mile using the time T needed to complete the trip. Thus, instead of equation, you can use P'=P*T, where equation is the time needed to complete the trip."
   ]
  },
  {
   "cell_type": "code",
   "execution_count": 3,
   "metadata": {},
   "outputs": [
    {
     "name": "stdout",
     "output_type": "stream",
     "text": [
      "1\n",
      "2\n",
      "3\n",
      "4\n",
      "5\n",
      "6\n"
     ]
    }
   ],
   "source": [
    "##Starting Variables and Making our dataframe\n",
    "months = ['', 'January', 'February', 'March', 'April', 'May', 'June']\n",
    "taxi_zone_lookup = pd.read_csv('C:/Users/sanch/Desktop/Taxi Data/taxi_zone_lookup.csv', sep=',', encoding='latin1', usecols=['LocationID', 'Borough'])\n",
    "total_data = pd.DataFrame()\n",
    "partial_data = pd.DataFrame()\n",
    "\n",
    "##Getting boroughs names:\n",
    "listOfBoroughs = taxi_zone_lookup.loc[:, ['Borough']].drop_duplicates().values.tolist()\n",
    "pd.options.display.float_format = '{:.4f}'.format\n",
    "\n",
    "##Loop 6 times, each per month\n",
    "for i in range(1,7):\n",
    "    \n",
    "    ##Reading the columns of date and time\n",
    "    cols = ['tpep_pickup_datetime', 'tpep_dropoff_datetime', 'trip_distance', 'fare_amount', 'PULocationID']\n",
    "    taxi_data = pd.read_csv('C:/Users/sanch/Desktop/Taxi Data/yellow_tripdata_2018-0'+str(i)+'.csv', sep=',', encoding='latin1', usecols=cols)\n",
    "    \n",
    "    ##Merging the data with Boroughs\n",
    "    taxi_data = pd.merge(taxi_data, taxi_zone_lookup, how=\"inner\", left_on=\"PULocationID\", right_on=\"LocationID\")\n",
    "    \n",
    "    ##We start filtering by dates because there is some extra information\n",
    "    taxi_data = taxi_data[(taxi_data['tpep_pickup_datetime'] >= '2018-0'+str(i)+'-01') & (taxi_data['tpep_pickup_datetime'] <= '2018-0'+str(i)+'-31')]\n",
    "    print(i)\n",
    "\n",
    "    ##Calculate the differences of time\n",
    "    a =  pd.to_datetime(taxi_data['tpep_pickup_datetime'], format='%Y-%m-%d %H:%M:%S')\n",
    "    b =  pd.to_datetime(taxi_data['tpep_dropoff_datetime'], format='%Y-%m-%d %H:%M:%S')\n",
    "    listOfDurations = (b-a).dt.total_seconds()\n",
    "    taxi_data['duration'] = listOfDurations\n",
    "    \n",
    "    partial_data = pd.concat([taxi_data['fare_amount'], taxi_data['trip_distance'], taxi_data['Borough'], taxi_data['duration']], axis=1)\n",
    "    total_data = pd.concat([total_data, partial_data])\n",
    "    \n",
    "    del a, b, listOfDurations, partial_data, taxi_data\n",
    "\n",
    "##Adding price per mile\n",
    "total_data.loc[:,'P'] = (total_data.loc[:,'fare_amount']/total_data.loc[:,'trip_distance'])\n",
    "#total_data.loc[:,'T'] = (total_data.loc[:,'duration']/total_data.loc[:,'trip_distance'])\n",
    "#T = total_data.loc[:, 'duration'].replace([np.inf, -np.inf], np.nan).mean() / total_data.loc[:, 'trip_distance'].replace([np.inf, -np.inf], np.nan).mean()\n",
    "total_data.loc[:,'P_s'] = (total_data.loc[:,'P']/total_data.loc[:,'duration'])\n"
   ]
  },
  {
   "cell_type": "markdown",
   "metadata": {},
   "source": [
    "Clean unuseful data"
   ]
  },
  {
   "cell_type": "code",
   "execution_count": 4,
   "metadata": {
    "scrolled": true
   },
   "outputs": [
    {
     "data": {
      "text/html": [
       "<div>\n",
       "<style scoped>\n",
       "    .dataframe tbody tr th:only-of-type {\n",
       "        vertical-align: middle;\n",
       "    }\n",
       "\n",
       "    .dataframe tbody tr th {\n",
       "        vertical-align: top;\n",
       "    }\n",
       "\n",
       "    .dataframe thead th {\n",
       "        text-align: right;\n",
       "    }\n",
       "</style>\n",
       "<table border=\"1\" class=\"dataframe\">\n",
       "  <thead>\n",
       "    <tr style=\"text-align: right;\">\n",
       "      <th></th>\n",
       "      <th>fare_amount</th>\n",
       "      <th>trip_distance</th>\n",
       "      <th>Borough</th>\n",
       "      <th>duration</th>\n",
       "      <th>P</th>\n",
       "      <th>P_s</th>\n",
       "    </tr>\n",
       "  </thead>\n",
       "  <tbody>\n",
       "    <tr>\n",
       "      <th>0</th>\n",
       "      <td>4.5000</td>\n",
       "      <td>0.5000</td>\n",
       "      <td>Manhattan</td>\n",
       "      <td>198.0000</td>\n",
       "      <td>9.0000</td>\n",
       "      <td>0.0455</td>\n",
       "    </tr>\n",
       "    <tr>\n",
       "      <th>1</th>\n",
       "      <td>8.5000</td>\n",
       "      <td>1.3600</td>\n",
       "      <td>Manhattan</td>\n",
       "      <td>620.0000</td>\n",
       "      <td>6.2500</td>\n",
       "      <td>0.0101</td>\n",
       "    </tr>\n",
       "    <tr>\n",
       "      <th>2</th>\n",
       "      <td>4.0000</td>\n",
       "      <td>0.3000</td>\n",
       "      <td>Manhattan</td>\n",
       "      <td>159.0000</td>\n",
       "      <td>13.3333</td>\n",
       "      <td>0.0839</td>\n",
       "    </tr>\n",
       "    <tr>\n",
       "      <th>3</th>\n",
       "      <td>41.5000</td>\n",
       "      <td>14.1000</td>\n",
       "      <td>Manhattan</td>\n",
       "      <td>2713.0000</td>\n",
       "      <td>2.9433</td>\n",
       "      <td>0.0011</td>\n",
       "    </tr>\n",
       "    <tr>\n",
       "      <th>4</th>\n",
       "      <td>29.0000</td>\n",
       "      <td>8.7700</td>\n",
       "      <td>Manhattan</td>\n",
       "      <td>1797.0000</td>\n",
       "      <td>3.3067</td>\n",
       "      <td>0.0018</td>\n",
       "    </tr>\n",
       "    <tr>\n",
       "      <th>5</th>\n",
       "      <td>5.0000</td>\n",
       "      <td>0.7600</td>\n",
       "      <td>Manhattan</td>\n",
       "      <td>219.0000</td>\n",
       "      <td>6.5789</td>\n",
       "      <td>0.0300</td>\n",
       "    </tr>\n",
       "    <tr>\n",
       "      <th>6</th>\n",
       "      <td>6.5000</td>\n",
       "      <td>1.0600</td>\n",
       "      <td>Manhattan</td>\n",
       "      <td>405.0000</td>\n",
       "      <td>6.1321</td>\n",
       "      <td>0.0151</td>\n",
       "    </tr>\n",
       "    <tr>\n",
       "      <th>7</th>\n",
       "      <td>11.5000</td>\n",
       "      <td>2.4000</td>\n",
       "      <td>Manhattan</td>\n",
       "      <td>788.0000</td>\n",
       "      <td>4.7917</td>\n",
       "      <td>0.0061</td>\n",
       "    </tr>\n",
       "    <tr>\n",
       "      <th>8</th>\n",
       "      <td>6.0000</td>\n",
       "      <td>1.4000</td>\n",
       "      <td>Manhattan</td>\n",
       "      <td>268.0000</td>\n",
       "      <td>4.2857</td>\n",
       "      <td>0.0160</td>\n",
       "    </tr>\n",
       "    <tr>\n",
       "      <th>9</th>\n",
       "      <td>5.5000</td>\n",
       "      <td>0.9000</td>\n",
       "      <td>Manhattan</td>\n",
       "      <td>315.0000</td>\n",
       "      <td>6.1111</td>\n",
       "      <td>0.0194</td>\n",
       "    </tr>\n",
       "    <tr>\n",
       "      <th>10</th>\n",
       "      <td>32.5000</td>\n",
       "      <td>10.8000</td>\n",
       "      <td>Manhattan</td>\n",
       "      <td>1550.0000</td>\n",
       "      <td>3.0093</td>\n",
       "      <td>0.0019</td>\n",
       "    </tr>\n",
       "    <tr>\n",
       "      <th>11</th>\n",
       "      <td>10.5000</td>\n",
       "      <td>2.9000</td>\n",
       "      <td>Manhattan</td>\n",
       "      <td>585.0000</td>\n",
       "      <td>3.6207</td>\n",
       "      <td>0.0062</td>\n",
       "    </tr>\n",
       "    <tr>\n",
       "      <th>12</th>\n",
       "      <td>33.5000</td>\n",
       "      <td>11.0600</td>\n",
       "      <td>Manhattan</td>\n",
       "      <td>1656.0000</td>\n",
       "      <td>3.0289</td>\n",
       "      <td>0.0018</td>\n",
       "    </tr>\n",
       "    <tr>\n",
       "      <th>13</th>\n",
       "      <td>20.0000</td>\n",
       "      <td>4.8000</td>\n",
       "      <td>Manhattan</td>\n",
       "      <td>1599.0000</td>\n",
       "      <td>4.1667</td>\n",
       "      <td>0.0026</td>\n",
       "    </tr>\n",
       "    <tr>\n",
       "      <th>14</th>\n",
       "      <td>32.5000</td>\n",
       "      <td>8.9800</td>\n",
       "      <td>Manhattan</td>\n",
       "      <td>2138.0000</td>\n",
       "      <td>3.6192</td>\n",
       "      <td>0.0017</td>\n",
       "    </tr>\n",
       "    <tr>\n",
       "      <th>15</th>\n",
       "      <td>10.5000</td>\n",
       "      <td>2.0000</td>\n",
       "      <td>Manhattan</td>\n",
       "      <td>699.0000</td>\n",
       "      <td>5.2500</td>\n",
       "      <td>0.0075</td>\n",
       "    </tr>\n",
       "    <tr>\n",
       "      <th>16</th>\n",
       "      <td>9.5000</td>\n",
       "      <td>2.1000</td>\n",
       "      <td>Manhattan</td>\n",
       "      <td>603.0000</td>\n",
       "      <td>4.5238</td>\n",
       "      <td>0.0075</td>\n",
       "    </tr>\n",
       "    <tr>\n",
       "      <th>17</th>\n",
       "      <td>7.5000</td>\n",
       "      <td>1.4000</td>\n",
       "      <td>Manhattan</td>\n",
       "      <td>532.0000</td>\n",
       "      <td>5.3571</td>\n",
       "      <td>0.0101</td>\n",
       "    </tr>\n",
       "    <tr>\n",
       "      <th>18</th>\n",
       "      <td>7.5000</td>\n",
       "      <td>1.6300</td>\n",
       "      <td>Manhattan</td>\n",
       "      <td>443.0000</td>\n",
       "      <td>4.6012</td>\n",
       "      <td>0.0104</td>\n",
       "    </tr>\n",
       "    <tr>\n",
       "      <th>19</th>\n",
       "      <td>6.5000</td>\n",
       "      <td>1.2200</td>\n",
       "      <td>Manhattan</td>\n",
       "      <td>398.0000</td>\n",
       "      <td>5.3279</td>\n",
       "      <td>0.0134</td>\n",
       "    </tr>\n",
       "    <tr>\n",
       "      <th>20</th>\n",
       "      <td>10.5000</td>\n",
       "      <td>2.4000</td>\n",
       "      <td>Manhattan</td>\n",
       "      <td>641.0000</td>\n",
       "      <td>4.3750</td>\n",
       "      <td>0.0068</td>\n",
       "    </tr>\n",
       "    <tr>\n",
       "      <th>21</th>\n",
       "      <td>12.0000</td>\n",
       "      <td>2.7000</td>\n",
       "      <td>Manhattan</td>\n",
       "      <td>837.0000</td>\n",
       "      <td>4.4444</td>\n",
       "      <td>0.0053</td>\n",
       "    </tr>\n",
       "    <tr>\n",
       "      <th>22</th>\n",
       "      <td>6.0000</td>\n",
       "      <td>1.0100</td>\n",
       "      <td>Manhattan</td>\n",
       "      <td>348.0000</td>\n",
       "      <td>5.9406</td>\n",
       "      <td>0.0171</td>\n",
       "    </tr>\n",
       "    <tr>\n",
       "      <th>23</th>\n",
       "      <td>8.0000</td>\n",
       "      <td>1.7200</td>\n",
       "      <td>Manhattan</td>\n",
       "      <td>501.0000</td>\n",
       "      <td>4.6512</td>\n",
       "      <td>0.0093</td>\n",
       "    </tr>\n",
       "    <tr>\n",
       "      <th>24</th>\n",
       "      <td>6.5000</td>\n",
       "      <td>1.1800</td>\n",
       "      <td>Manhattan</td>\n",
       "      <td>354.0000</td>\n",
       "      <td>5.5085</td>\n",
       "      <td>0.0156</td>\n",
       "    </tr>\n",
       "    <tr>\n",
       "      <th>25</th>\n",
       "      <td>9.0000</td>\n",
       "      <td>1.6000</td>\n",
       "      <td>Manhattan</td>\n",
       "      <td>573.0000</td>\n",
       "      <td>5.6250</td>\n",
       "      <td>0.0098</td>\n",
       "    </tr>\n",
       "    <tr>\n",
       "      <th>26</th>\n",
       "      <td>9.0000</td>\n",
       "      <td>2.0000</td>\n",
       "      <td>Manhattan</td>\n",
       "      <td>594.0000</td>\n",
       "      <td>4.5000</td>\n",
       "      <td>0.0076</td>\n",
       "    </tr>\n",
       "    <tr>\n",
       "      <th>27</th>\n",
       "      <td>6.5000</td>\n",
       "      <td>1.2400</td>\n",
       "      <td>Manhattan</td>\n",
       "      <td>348.0000</td>\n",
       "      <td>5.2419</td>\n",
       "      <td>0.0151</td>\n",
       "    </tr>\n",
       "    <tr>\n",
       "      <th>28</th>\n",
       "      <td>4.0000</td>\n",
       "      <td>0.4900</td>\n",
       "      <td>Manhattan</td>\n",
       "      <td>151.0000</td>\n",
       "      <td>8.1633</td>\n",
       "      <td>0.0541</td>\n",
       "    </tr>\n",
       "    <tr>\n",
       "      <th>29</th>\n",
       "      <td>8.5000</td>\n",
       "      <td>1.5000</td>\n",
       "      <td>Manhattan</td>\n",
       "      <td>549.0000</td>\n",
       "      <td>5.6667</td>\n",
       "      <td>0.0103</td>\n",
       "    </tr>\n",
       "    <tr>\n",
       "      <th>...</th>\n",
       "      <td>...</td>\n",
       "      <td>...</td>\n",
       "      <td>...</td>\n",
       "      <td>...</td>\n",
       "      <td>...</td>\n",
       "      <td>...</td>\n",
       "    </tr>\n",
       "    <tr>\n",
       "      <th>8713801</th>\n",
       "      <td>161.0000</td>\n",
       "      <td>12.4000</td>\n",
       "      <td>Bronx</td>\n",
       "      <td>885.0000</td>\n",
       "      <td>12.9839</td>\n",
       "      <td>0.0147</td>\n",
       "    </tr>\n",
       "    <tr>\n",
       "      <th>8713802</th>\n",
       "      <td>47.5000</td>\n",
       "      <td>18.0500</td>\n",
       "      <td>Bronx</td>\n",
       "      <td>1208.0000</td>\n",
       "      <td>2.6316</td>\n",
       "      <td>0.0022</td>\n",
       "    </tr>\n",
       "    <tr>\n",
       "      <th>8713803</th>\n",
       "      <td>13.0000</td>\n",
       "      <td>2.3100</td>\n",
       "      <td>Bronx</td>\n",
       "      <td>939.0000</td>\n",
       "      <td>5.6277</td>\n",
       "      <td>0.0060</td>\n",
       "    </tr>\n",
       "    <tr>\n",
       "      <th>8713804</th>\n",
       "      <td>42.0000</td>\n",
       "      <td>14.6200</td>\n",
       "      <td>Bronx</td>\n",
       "      <td>1497.0000</td>\n",
       "      <td>2.8728</td>\n",
       "      <td>0.0019</td>\n",
       "    </tr>\n",
       "    <tr>\n",
       "      <th>8713805</th>\n",
       "      <td>71.0000</td>\n",
       "      <td>23.9000</td>\n",
       "      <td>Staten Island</td>\n",
       "      <td>3774.0000</td>\n",
       "      <td>2.9707</td>\n",
       "      <td>0.0008</td>\n",
       "    </tr>\n",
       "    <tr>\n",
       "      <th>8713806</th>\n",
       "      <td>73.0000</td>\n",
       "      <td>25.2200</td>\n",
       "      <td>Staten Island</td>\n",
       "      <td>3684.0000</td>\n",
       "      <td>2.8945</td>\n",
       "      <td>0.0008</td>\n",
       "    </tr>\n",
       "    <tr>\n",
       "      <th>8713807</th>\n",
       "      <td>90.0000</td>\n",
       "      <td>0.0000</td>\n",
       "      <td>Staten Island</td>\n",
       "      <td>97.0000</td>\n",
       "      <td>inf</td>\n",
       "      <td>inf</td>\n",
       "    </tr>\n",
       "    <tr>\n",
       "      <th>8713808</th>\n",
       "      <td>39.0000</td>\n",
       "      <td>12.9500</td>\n",
       "      <td>Staten Island</td>\n",
       "      <td>2048.0000</td>\n",
       "      <td>3.0116</td>\n",
       "      <td>0.0015</td>\n",
       "    </tr>\n",
       "    <tr>\n",
       "      <th>8713809</th>\n",
       "      <td>59.5000</td>\n",
       "      <td>18.2300</td>\n",
       "      <td>Staten Island</td>\n",
       "      <td>3809.0000</td>\n",
       "      <td>3.2639</td>\n",
       "      <td>0.0009</td>\n",
       "    </tr>\n",
       "    <tr>\n",
       "      <th>8713810</th>\n",
       "      <td>85.0000</td>\n",
       "      <td>28.6200</td>\n",
       "      <td>Staten Island</td>\n",
       "      <td>5083.0000</td>\n",
       "      <td>2.9700</td>\n",
       "      <td>0.0006</td>\n",
       "    </tr>\n",
       "    <tr>\n",
       "      <th>8713811</th>\n",
       "      <td>25.0000</td>\n",
       "      <td>0.0000</td>\n",
       "      <td>Staten Island</td>\n",
       "      <td>43.0000</td>\n",
       "      <td>inf</td>\n",
       "      <td>inf</td>\n",
       "    </tr>\n",
       "    <tr>\n",
       "      <th>8713812</th>\n",
       "      <td>47.0000</td>\n",
       "      <td>13.6400</td>\n",
       "      <td>Staten Island</td>\n",
       "      <td>3166.0000</td>\n",
       "      <td>3.4457</td>\n",
       "      <td>0.0011</td>\n",
       "    </tr>\n",
       "    <tr>\n",
       "      <th>8713813</th>\n",
       "      <td>7.0000</td>\n",
       "      <td>1.7000</td>\n",
       "      <td>Staten Island</td>\n",
       "      <td>319.0000</td>\n",
       "      <td>4.1176</td>\n",
       "      <td>0.0129</td>\n",
       "    </tr>\n",
       "    <tr>\n",
       "      <th>8713814</th>\n",
       "      <td>52.0000</td>\n",
       "      <td>0.0000</td>\n",
       "      <td>Staten Island</td>\n",
       "      <td>14.0000</td>\n",
       "      <td>inf</td>\n",
       "      <td>inf</td>\n",
       "    </tr>\n",
       "    <tr>\n",
       "      <th>8713815</th>\n",
       "      <td>2.5000</td>\n",
       "      <td>0.0800</td>\n",
       "      <td>Staten Island</td>\n",
       "      <td>15.0000</td>\n",
       "      <td>31.2500</td>\n",
       "      <td>2.0833</td>\n",
       "    </tr>\n",
       "    <tr>\n",
       "      <th>8713816</th>\n",
       "      <td>15.0000</td>\n",
       "      <td>0.0000</td>\n",
       "      <td>Staten Island</td>\n",
       "      <td>4.0000</td>\n",
       "      <td>inf</td>\n",
       "      <td>inf</td>\n",
       "    </tr>\n",
       "    <tr>\n",
       "      <th>8713817</th>\n",
       "      <td>121.5000</td>\n",
       "      <td>45.5000</td>\n",
       "      <td>Staten Island</td>\n",
       "      <td>5208.0000</td>\n",
       "      <td>2.6703</td>\n",
       "      <td>0.0005</td>\n",
       "    </tr>\n",
       "    <tr>\n",
       "      <th>8713818</th>\n",
       "      <td>85.3000</td>\n",
       "      <td>0.0000</td>\n",
       "      <td>Staten Island</td>\n",
       "      <td>136.0000</td>\n",
       "      <td>inf</td>\n",
       "      <td>inf</td>\n",
       "    </tr>\n",
       "    <tr>\n",
       "      <th>8713819</th>\n",
       "      <td>21.5000</td>\n",
       "      <td>6.7000</td>\n",
       "      <td>Staten Island</td>\n",
       "      <td>1009.0000</td>\n",
       "      <td>3.2090</td>\n",
       "      <td>0.0032</td>\n",
       "    </tr>\n",
       "    <tr>\n",
       "      <th>8713820</th>\n",
       "      <td>46.0000</td>\n",
       "      <td>16.8800</td>\n",
       "      <td>Staten Island</td>\n",
       "      <td>1861.0000</td>\n",
       "      <td>2.7251</td>\n",
       "      <td>0.0015</td>\n",
       "    </tr>\n",
       "    <tr>\n",
       "      <th>8713821</th>\n",
       "      <td>24.5000</td>\n",
       "      <td>7.2700</td>\n",
       "      <td>Bronx</td>\n",
       "      <td>1409.0000</td>\n",
       "      <td>3.3700</td>\n",
       "      <td>0.0024</td>\n",
       "    </tr>\n",
       "    <tr>\n",
       "      <th>8713822</th>\n",
       "      <td>45.0000</td>\n",
       "      <td>0.0000</td>\n",
       "      <td>Bronx</td>\n",
       "      <td>4.0000</td>\n",
       "      <td>inf</td>\n",
       "      <td>inf</td>\n",
       "    </tr>\n",
       "    <tr>\n",
       "      <th>8713823</th>\n",
       "      <td>9.5000</td>\n",
       "      <td>2.0100</td>\n",
       "      <td>Bronx</td>\n",
       "      <td>643.0000</td>\n",
       "      <td>4.7264</td>\n",
       "      <td>0.0074</td>\n",
       "    </tr>\n",
       "    <tr>\n",
       "      <th>8713824</th>\n",
       "      <td>6.2000</td>\n",
       "      <td>0.7600</td>\n",
       "      <td>Bronx</td>\n",
       "      <td>258.0000</td>\n",
       "      <td>8.1579</td>\n",
       "      <td>0.0316</td>\n",
       "    </tr>\n",
       "    <tr>\n",
       "      <th>8713825</th>\n",
       "      <td>70.0000</td>\n",
       "      <td>0.0000</td>\n",
       "      <td>Staten Island</td>\n",
       "      <td>7.0000</td>\n",
       "      <td>inf</td>\n",
       "      <td>inf</td>\n",
       "    </tr>\n",
       "    <tr>\n",
       "      <th>8713826</th>\n",
       "      <td>109.0000</td>\n",
       "      <td>0.0000</td>\n",
       "      <td>Staten Island</td>\n",
       "      <td>32.0000</td>\n",
       "      <td>inf</td>\n",
       "      <td>inf</td>\n",
       "    </tr>\n",
       "    <tr>\n",
       "      <th>8713827</th>\n",
       "      <td>2.5000</td>\n",
       "      <td>0.0000</td>\n",
       "      <td>Staten Island</td>\n",
       "      <td>25.0000</td>\n",
       "      <td>inf</td>\n",
       "      <td>inf</td>\n",
       "    </tr>\n",
       "    <tr>\n",
       "      <th>8713828</th>\n",
       "      <td>2.5000</td>\n",
       "      <td>24.7000</td>\n",
       "      <td>Staten Island</td>\n",
       "      <td>6.0000</td>\n",
       "      <td>0.1012</td>\n",
       "      <td>0.0169</td>\n",
       "    </tr>\n",
       "    <tr>\n",
       "      <th>8713829</th>\n",
       "      <td>0.0000</td>\n",
       "      <td>24.7000</td>\n",
       "      <td>Staten Island</td>\n",
       "      <td>179.0000</td>\n",
       "      <td>0.0000</td>\n",
       "      <td>0.0000</td>\n",
       "    </tr>\n",
       "    <tr>\n",
       "      <th>8713830</th>\n",
       "      <td>77.3200</td>\n",
       "      <td>24.7000</td>\n",
       "      <td>Staten Island</td>\n",
       "      <td>71.0000</td>\n",
       "      <td>3.1304</td>\n",
       "      <td>0.0441</td>\n",
       "    </tr>\n",
       "  </tbody>\n",
       "</table>\n",
       "<p>53002228 rows × 6 columns</p>\n",
       "</div>"
      ],
      "text/plain": [
       "         fare_amount  trip_distance        Borough  duration       P    P_s\n",
       "0             4.5000         0.5000      Manhattan  198.0000  9.0000 0.0455\n",
       "1             8.5000         1.3600      Manhattan  620.0000  6.2500 0.0101\n",
       "2             4.0000         0.3000      Manhattan  159.0000 13.3333 0.0839\n",
       "3            41.5000        14.1000      Manhattan 2713.0000  2.9433 0.0011\n",
       "4            29.0000         8.7700      Manhattan 1797.0000  3.3067 0.0018\n",
       "5             5.0000         0.7600      Manhattan  219.0000  6.5789 0.0300\n",
       "6             6.5000         1.0600      Manhattan  405.0000  6.1321 0.0151\n",
       "7            11.5000         2.4000      Manhattan  788.0000  4.7917 0.0061\n",
       "8             6.0000         1.4000      Manhattan  268.0000  4.2857 0.0160\n",
       "9             5.5000         0.9000      Manhattan  315.0000  6.1111 0.0194\n",
       "10           32.5000        10.8000      Manhattan 1550.0000  3.0093 0.0019\n",
       "11           10.5000         2.9000      Manhattan  585.0000  3.6207 0.0062\n",
       "12           33.5000        11.0600      Manhattan 1656.0000  3.0289 0.0018\n",
       "13           20.0000         4.8000      Manhattan 1599.0000  4.1667 0.0026\n",
       "14           32.5000         8.9800      Manhattan 2138.0000  3.6192 0.0017\n",
       "15           10.5000         2.0000      Manhattan  699.0000  5.2500 0.0075\n",
       "16            9.5000         2.1000      Manhattan  603.0000  4.5238 0.0075\n",
       "17            7.5000         1.4000      Manhattan  532.0000  5.3571 0.0101\n",
       "18            7.5000         1.6300      Manhattan  443.0000  4.6012 0.0104\n",
       "19            6.5000         1.2200      Manhattan  398.0000  5.3279 0.0134\n",
       "20           10.5000         2.4000      Manhattan  641.0000  4.3750 0.0068\n",
       "21           12.0000         2.7000      Manhattan  837.0000  4.4444 0.0053\n",
       "22            6.0000         1.0100      Manhattan  348.0000  5.9406 0.0171\n",
       "23            8.0000         1.7200      Manhattan  501.0000  4.6512 0.0093\n",
       "24            6.5000         1.1800      Manhattan  354.0000  5.5085 0.0156\n",
       "25            9.0000         1.6000      Manhattan  573.0000  5.6250 0.0098\n",
       "26            9.0000         2.0000      Manhattan  594.0000  4.5000 0.0076\n",
       "27            6.5000         1.2400      Manhattan  348.0000  5.2419 0.0151\n",
       "28            4.0000         0.4900      Manhattan  151.0000  8.1633 0.0541\n",
       "29            8.5000         1.5000      Manhattan  549.0000  5.6667 0.0103\n",
       "...              ...            ...            ...       ...     ...    ...\n",
       "8713801     161.0000        12.4000          Bronx  885.0000 12.9839 0.0147\n",
       "8713802      47.5000        18.0500          Bronx 1208.0000  2.6316 0.0022\n",
       "8713803      13.0000         2.3100          Bronx  939.0000  5.6277 0.0060\n",
       "8713804      42.0000        14.6200          Bronx 1497.0000  2.8728 0.0019\n",
       "8713805      71.0000        23.9000  Staten Island 3774.0000  2.9707 0.0008\n",
       "8713806      73.0000        25.2200  Staten Island 3684.0000  2.8945 0.0008\n",
       "8713807      90.0000         0.0000  Staten Island   97.0000     inf    inf\n",
       "8713808      39.0000        12.9500  Staten Island 2048.0000  3.0116 0.0015\n",
       "8713809      59.5000        18.2300  Staten Island 3809.0000  3.2639 0.0009\n",
       "8713810      85.0000        28.6200  Staten Island 5083.0000  2.9700 0.0006\n",
       "8713811      25.0000         0.0000  Staten Island   43.0000     inf    inf\n",
       "8713812      47.0000        13.6400  Staten Island 3166.0000  3.4457 0.0011\n",
       "8713813       7.0000         1.7000  Staten Island  319.0000  4.1176 0.0129\n",
       "8713814      52.0000         0.0000  Staten Island   14.0000     inf    inf\n",
       "8713815       2.5000         0.0800  Staten Island   15.0000 31.2500 2.0833\n",
       "8713816      15.0000         0.0000  Staten Island    4.0000     inf    inf\n",
       "8713817     121.5000        45.5000  Staten Island 5208.0000  2.6703 0.0005\n",
       "8713818      85.3000         0.0000  Staten Island  136.0000     inf    inf\n",
       "8713819      21.5000         6.7000  Staten Island 1009.0000  3.2090 0.0032\n",
       "8713820      46.0000        16.8800  Staten Island 1861.0000  2.7251 0.0015\n",
       "8713821      24.5000         7.2700          Bronx 1409.0000  3.3700 0.0024\n",
       "8713822      45.0000         0.0000          Bronx    4.0000     inf    inf\n",
       "8713823       9.5000         2.0100          Bronx  643.0000  4.7264 0.0074\n",
       "8713824       6.2000         0.7600          Bronx  258.0000  8.1579 0.0316\n",
       "8713825      70.0000         0.0000  Staten Island    7.0000     inf    inf\n",
       "8713826     109.0000         0.0000  Staten Island   32.0000     inf    inf\n",
       "8713827       2.5000         0.0000  Staten Island   25.0000     inf    inf\n",
       "8713828       2.5000        24.7000  Staten Island    6.0000  0.1012 0.0169\n",
       "8713829       0.0000        24.7000  Staten Island  179.0000  0.0000 0.0000\n",
       "8713830      77.3200        24.7000  Staten Island   71.0000  3.1304 0.0441\n",
       "\n",
       "[53002228 rows x 6 columns]"
      ]
     },
     "execution_count": 4,
     "metadata": {},
     "output_type": "execute_result"
    }
   ],
   "source": [
    "if ['Unknown'] in listOfBoroughs: listOfBoroughs.remove(['Unknown'])\n",
    "total_data"
   ]
  },
  {
   "cell_type": "markdown",
   "metadata": {},
   "source": [
    "#### - Run the mean and the standard deviation of the new variable for each borough. Then plot the distribution. What do you see?"
   ]
  },
  {
   "cell_type": "markdown",
   "metadata": {},
   "source": [
    "Means of each Borough"
   ]
  },
  {
   "cell_type": "code",
   "execution_count": 5,
   "metadata": {},
   "outputs": [
    {
     "name": "stdout",
     "output_type": "stream",
     "text": [
      "EWR 145.16633792764137\n",
      "Queens 0.33230758520139225\n",
      "Bronx 0.4534775888054723\n",
      "Manhattan 0.0705992570359198\n",
      "Staten Island 1.0780039624400757\n",
      "Brooklyn 0.12378394028005883\n"
     ]
    }
   ],
   "source": [
    "dicOfMeans2 = {}\n",
    "for borough in listOfBoroughs:\n",
    "    name = \"\".join(borough)\n",
    "    dicOfMeans2[name] = total_data[total_data['Borough'] == name].P_s.replace([np.inf, -np.inf], np.nan).dropna().mean()\n",
    "\n",
    "for i in dicOfMeans2.items():\n",
    "    print(i[0], i[1])"
   ]
  },
  {
   "cell_type": "markdown",
   "metadata": {},
   "source": [
    "Standard Deviation of each Borough"
   ]
  },
  {
   "cell_type": "code",
   "execution_count": 6,
   "metadata": {},
   "outputs": [
    {
     "name": "stdout",
     "output_type": "stream",
     "text": [
      "EWR 641.8754449758485\n",
      "Queens 19.48055460911341\n",
      "Bronx 22.295362132037596\n",
      "Manhattan 7.699277641884767\n",
      "Staten Island 10.956018907230417\n",
      "Brooklyn 9.07458013703268\n"
     ]
    }
   ],
   "source": [
    "dicOfStd2 = {}\n",
    "for borough in listOfBoroughs:\n",
    "    name = \"\".join(borough)\n",
    "    dicOfStd2[name] = total_data[total_data['Borough'] == name].P_s.replace([np.inf, -np.inf], np.nan).dropna().std()\n",
    "    \n",
    "for i in dicOfStd2.items():\n",
    "    print(i[0], i[1])"
   ]
  },
  {
   "cell_type": "markdown",
   "metadata": {},
   "source": [
    "Plot of ditributions for each Borough:"
   ]
  },
  {
   "cell_type": "code",
   "execution_count": 7,
   "metadata": {},
   "outputs": [
    {
     "data": {
      "image/png": "[encoded data removed]",
      "text/plain": [
       "<Figure size 864x504 with 6 Axes>"
      ]
     },
     "metadata": {},
     "output_type": "display_data"
    }
   ],
   "source": [
    "rangesPlot = [0, 0.005, 0.01, 0.05, 0.1, 0.5, 2]\n",
    "fig, axes = plt.subplots(nrows=2, ncols=3)\n",
    "\n",
    "a=0\n",
    "b=0\n",
    "for borough in listOfBoroughs:\n",
    "    name = \"\".join(borough)\n",
    "    \n",
    "    out = pd.cut(total_data[total_data['Borough'] == name].P_s.replace([np.inf, -np.inf], np.nan).dropna(), bins=rangesPlot, include_lowest=True)\n",
    "    ax = out.value_counts(sort=False).plot.bar(ax=axes[a,b], figsize=(12,7), title=name)\n",
    "    ax.set_xlabel(\"$ / (mile*s)\")\n",
    "    ax.set_ylabel(\"Density\")\n",
    "    ax.set_xticklabels([\"0-0.005\", \"0.005-0.01\", \"0.01-0.05\", \"0.05-0.1\", \"0.1-0.5\", \"0.5-2\"])\n",
    "    \n",
    "    #to manage the plots\n",
    "    if(b == 2):\n",
    "        a += 1\n",
    "        b = 0\n",
    "    else:\n",
    "        b += 1\n",
    "    \n",
    "fig.tight_layout()\n",
    "plt.show()"
   ]
  },
  {
   "cell_type": "markdown",
   "metadata": {},
   "source": [
    "We can see that the means are included between 0 and 1 except for EWR and that the standard deviations are more stable and lower than in the previous exercise. Also in the plots we can observe that most of the values are between 0 and 0.005 $/(mile*s) and depending of each borough they have different prices."
   ]
  },
  {
   "cell_type": "markdown",
   "metadata": {},
   "source": [
    "#### - Run the t-test among all the possible pairs of new distribution of different boroughs."
   ]
  },
  {
   "cell_type": "code",
   "execution_count": 28,
   "metadata": {
    "scrolled": false
   },
   "outputs": [
    {
     "name": "stdout",
     "output_type": "stream",
     "text": [
      "Between EWR Queens\n",
      "Statistics=214.63912, p=0.00000\n",
      "Different distributions (reject H0)\n",
      "\n",
      "\n",
      "Between EWR Bronx\n",
      "Statistics=49.72270, p=0.00000\n",
      "Different distributions (reject H0)\n",
      "\n",
      "\n",
      "Between EWR Manhattan\n",
      "Statistics=593.22109, p=0.00000\n",
      "Different distributions (reject H0)\n",
      "\n",
      "\n",
      "Between EWR Staten Island\n",
      "Statistics=5.61981, p=0.00000\n",
      "Different distributions (reject H0)\n",
      "\n",
      "\n",
      "Between EWR Brooklyn\n",
      "Statistics=174.02063, p=0.00000\n",
      "Different distributions (reject H0)\n",
      "\n",
      "\n",
      "Between Queens Bronx\n",
      "Statistics=-1.39302, p=0.16361\n",
      "Same distributions (fail to reject H0)\n",
      "\n",
      "\n",
      "Between Queens Manhattan\n",
      "Statistics=51.07613, p=0.00000\n",
      "Different distributions (reject H0)\n",
      "\n",
      "\n",
      "Between Queens Staten Island\n",
      "Statistics=-0.95848, p=0.33782\n",
      "Same distributions (fail to reject H0)\n",
      "\n",
      "\n",
      "Between Queens Brooklyn\n",
      "Statistics=8.51097, p=0.00000\n",
      "Different distributions (reject H0)\n",
      "\n",
      "\n",
      "Between Bronx Manhattan\n",
      "Statistics=11.20203, p=0.00000\n",
      "Different distributions (reject H0)\n",
      "\n",
      "\n",
      "Between Bronx Staten Island\n",
      "Statistics=-0.70037, p=0.48370\n",
      "Same distributions (fail to reject H0)\n",
      "\n",
      "\n",
      "Between Bronx Brooklyn\n",
      "Statistics=6.78468, p=0.00000\n",
      "Different distributions (reject H0)\n",
      "\n",
      "\n",
      "Between Manhattan Staten Island\n",
      "Statistics=-3.27629, p=0.00105\n",
      "Different distributions (reject H0)\n",
      "\n",
      "\n",
      "Between Manhattan Brooklyn\n",
      "Statistics=-5.55983, p=0.00000\n",
      "Different distributions (reject H0)\n",
      "\n",
      "\n",
      "Between Staten Island Brooklyn\n",
      "Statistics=2.63121, p=0.00851\n",
      "Different distributions (reject H0)\n",
      "\n",
      "\n"
     ]
    }
   ],
   "source": [
    "from scipy.stats import ttest_ind\n",
    "\n",
    "nameList = []\n",
    "for borough in listOfBoroughs:\n",
    "    name1 = \"\".join(borough)\n",
    "    nameList.append(name1)\n",
    "    data1 = total_data[total_data['Borough'] == name1].P_s.replace([np.inf, -np.inf], np.nan).dropna()\n",
    "\n",
    "    for borough in listOfBoroughs:\n",
    "        name2 = \"\".join(borough)\n",
    "        if((name2 != name1) and (name2 not in nameList)):\n",
    "            data2 = total_data[total_data['Borough'] == name2].P_s.replace([np.inf, -np.inf], np.nan).dropna()\n",
    "\n",
    "            print(\"Between\", name1, name2)\n",
    "            # compare samples\n",
    "            stat, p = ttest_ind(data1, data2)\n",
    "            print('Statistics=%.5f, p=%.5f' % (stat, p))\n",
    "            # interpret\n",
    "            alpha = 0.05\n",
    "\n",
    "            if p > alpha:\n",
    "                print('Same distributions (fail to reject H0)')\n",
    "            else:\n",
    "                print('Different distributions (reject H0)')\n",
    "            print(\"\\n\")"
   ]
  },
  {
   "cell_type": "markdown",
   "metadata": {},
   "source": [
    "#### - Can you say that statistically significant differences, on the averages, hold among zones? In other words, are Taxis trip in some boroughs, on average, more expensive than others?"
   ]
  },
  {
   "cell_type": "markdown",
   "metadata": {},
   "source": [
    "We can see that we have statistically significant differences as we can see in the results of the T-Test. \n",
    "Only passed the test: \n",
    "    - Bronx - Staten Island\n",
    "    - Queens - Staten Island\n",
    "    - Queens - Bronx\n",
    "So we can observe having a look at the average that some boroughs are more expensive than others."
   ]
  },
  {
   "cell_type": "markdown",
   "metadata": {},
   "source": [
    "## 3. Compare the results obtained for the price per mile and the weighted price for mile. What do you think about that?"
   ]
  },
  {
   "cell_type": "markdown",
   "metadata": {},
   "source": [
    "Comparing the T-Test from both exercises we can see that we can obtain different results if we take into account the time that takes to complete the trip. In the first exercise we have that Queens-Manhattan passed the test and then when taking into account T, we can see that Bronx - Staten Island; Queens - Staten Island;\n",
    "Queens - Bronx passed the test. So they are results completly different. Also we can see that the standard deviation is lower in the second one and the averages are closer in the second one again. We think that is better to take into account the time to get more accurate results."
   ]
  },
  {
   "cell_type": "markdown",
   "metadata": {},
   "source": [
    "# CRQ2"
   ]
  },
  {
   "cell_type": "markdown",
   "metadata": {},
   "source": [
    "[CRQ2]: Visualize Taxis movements! NYC is divided in many Taxis zones. For each yellow cab trip we know the zone the Taxi pick up and drop off the users. Let's visualize, on a chropleth map, the number of trips that starts in each zone. Than, do another map to count the races that end up in the single zone. Comment your discoveries. To perform this task we use the library folium. You find some examples of chorophlet maps here and here. The Geojson we use to trace the zones is taxi_zones.json in the Homework's repository."
   ]
  },
  {
   "cell_type": "markdown",
   "metadata": {},
   "source": [
    "**Since we had problem in visualizing the maps inside the jupyter notebook and since the maps made this file of size bigger than the limits accepted by Github, we decided just to plot the results in HTML, that can be found inside the folder `results/` .**"
   ]
  },
  {
   "cell_type": "code",
   "execution_count": 1,
   "metadata": {},
   "outputs": [],
   "source": [
    "import os\n",
    "import folium\n",
    "from IPython.core.display import display, HTML\n",
    "import codecs\n",
    "import json\n",
    "import pandas as pd\n",
    "\n",
    "pd.options.mode.chained_assignment = None"
   ]
  },
  {
   "cell_type": "markdown",
   "metadata": {},
   "source": [
    "To start with the Choropleth visualization, we import the GeoJSON file containing the shapes of our map."
   ]
  },
  {
   "cell_type": "code",
   "execution_count": 2,
   "metadata": {},
   "outputs": [],
   "source": [
    "with open(os.path.join('data', 'taxi_zones.json')) as json_file:\n",
    "    nyc_json = json.load(json_file)"
   ]
  },
  {
   "cell_type": "markdown",
   "metadata": {},
   "source": [
    "And we display a test map to visualize the Boroughs of NYC. "
   ]
  },
  {
   "cell_type": "code",
   "execution_count": 3,
   "metadata": {},
   "outputs": [],
   "source": [
    "test = folium.Map([40.7, -74], zoom_start=10.4, tiles='cartodbpositron')"
   ]
  },
  {
   "cell_type": "code",
   "execution_count": 4,
   "metadata": {},
   "outputs": [
    {
     "data": {
      "text/plain": [
       "<folium.features.GeoJson at 0x111e4ab38>"
      ]
     },
     "execution_count": 4,
     "metadata": {},
     "output_type": "execute_result"
    }
   ],
   "source": [
    "folium.GeoJson(nyc_json).add_to(test)"
   ]
  },
  {
   "cell_type": "code",
   "execution_count": null,
   "metadata": {},
   "outputs": [],
   "source": [
    "test #to keep the file size under 25mb, this test map has been removed"
   ]
  },
  {
   "cell_type": "markdown",
   "metadata": {},
   "source": [
    "Then we import all the data as we did previously importing month per month:\n",
    "- select the data we need (the pick up and drop off locations IDs)\n",
    "- Then we filter the data to be sure is part of the month\n",
    "- We append this data to a temporary array\n",
    "- Once every month has been read, we concatenate the months\n",
    "- We combine the pick up and drop off IDs with more informations loaded from taxi_zone_lookup.csv, to have names and other informations of the Boroughs"
   ]
  },
  {
   "cell_type": "code",
   "execution_count": 6,
   "metadata": {},
   "outputs": [
    {
     "name": "stdout",
     "output_type": "stream",
     "text": [
      "executed1\n",
      "executed2\n",
      "executed3\n",
      "executed4\n",
      "executed5\n",
      "executed6\n"
     ]
    },
    {
     "data": {
      "text/html": [
       "<div>\n",
       "<style scoped>\n",
       "    .dataframe tbody tr th:only-of-type {\n",
       "        vertical-align: middle;\n",
       "    }\n",
       "\n",
       "    .dataframe tbody tr th {\n",
       "        vertical-align: top;\n",
       "    }\n",
       "\n",
       "    .dataframe thead th {\n",
       "        text-align: right;\n",
       "    }\n",
       "</style>\n",
       "<table border=\"1\" class=\"dataframe\">\n",
       "  <thead>\n",
       "    <tr style=\"text-align: right;\">\n",
       "      <th></th>\n",
       "      <th>PULocationID</th>\n",
       "      <th>DOLocationID</th>\n",
       "      <th>PU_Borough</th>\n",
       "      <th>PU_Zone</th>\n",
       "      <th>PU_service_zone</th>\n",
       "      <th>DO_Borough</th>\n",
       "      <th>DO_Zone</th>\n",
       "      <th>DO_service_zone</th>\n",
       "    </tr>\n",
       "  </thead>\n",
       "  <tbody>\n",
       "    <tr>\n",
       "      <th>0</th>\n",
       "      <td>41</td>\n",
       "      <td>24</td>\n",
       "      <td>Manhattan</td>\n",
       "      <td>Central Harlem</td>\n",
       "      <td>Boro Zone</td>\n",
       "      <td>Manhattan</td>\n",
       "      <td>Bloomingdale</td>\n",
       "      <td>Yellow Zone</td>\n",
       "    </tr>\n",
       "    <tr>\n",
       "      <th>1</th>\n",
       "      <td>239</td>\n",
       "      <td>140</td>\n",
       "      <td>Manhattan</td>\n",
       "      <td>Upper West Side South</td>\n",
       "      <td>Yellow Zone</td>\n",
       "      <td>Manhattan</td>\n",
       "      <td>Lenox Hill East</td>\n",
       "      <td>Yellow Zone</td>\n",
       "    </tr>\n",
       "    <tr>\n",
       "      <th>2</th>\n",
       "      <td>262</td>\n",
       "      <td>141</td>\n",
       "      <td>Manhattan</td>\n",
       "      <td>Yorkville East</td>\n",
       "      <td>Yellow Zone</td>\n",
       "      <td>Manhattan</td>\n",
       "      <td>Lenox Hill West</td>\n",
       "      <td>Yellow Zone</td>\n",
       "    </tr>\n",
       "    <tr>\n",
       "      <th>3</th>\n",
       "      <td>140</td>\n",
       "      <td>257</td>\n",
       "      <td>Manhattan</td>\n",
       "      <td>Lenox Hill East</td>\n",
       "      <td>Yellow Zone</td>\n",
       "      <td>Brooklyn</td>\n",
       "      <td>Windsor Terrace</td>\n",
       "      <td>Boro Zone</td>\n",
       "    </tr>\n",
       "    <tr>\n",
       "      <th>4</th>\n",
       "      <td>246</td>\n",
       "      <td>239</td>\n",
       "      <td>Manhattan</td>\n",
       "      <td>West Chelsea/Hudson Yards</td>\n",
       "      <td>Yellow Zone</td>\n",
       "      <td>Manhattan</td>\n",
       "      <td>Upper West Side South</td>\n",
       "      <td>Yellow Zone</td>\n",
       "    </tr>\n",
       "  </tbody>\n",
       "</table>\n",
       "</div>"
      ],
      "text/plain": [
       "   PULocationID  DOLocationID PU_Borough                    PU_Zone  \\\n",
       "0            41            24  Manhattan             Central Harlem   \n",
       "1           239           140  Manhattan      Upper West Side South   \n",
       "2           262           141  Manhattan             Yorkville East   \n",
       "3           140           257  Manhattan            Lenox Hill East   \n",
       "4           246           239  Manhattan  West Chelsea/Hudson Yards   \n",
       "\n",
       "  PU_service_zone DO_Borough                DO_Zone DO_service_zone  \n",
       "0       Boro Zone  Manhattan           Bloomingdale     Yellow Zone  \n",
       "1     Yellow Zone  Manhattan        Lenox Hill East     Yellow Zone  \n",
       "2     Yellow Zone  Manhattan        Lenox Hill West     Yellow Zone  \n",
       "3     Yellow Zone   Brooklyn        Windsor Terrace       Boro Zone  \n",
       "4     Yellow Zone  Manhattan  Upper West Side South     Yellow Zone  "
      ]
     },
     "execution_count": 6,
     "metadata": {},
     "output_type": "execute_result"
    }
   ],
   "source": [
    "tmp = []\n",
    "\n",
    "#Repeat for every file\n",
    "for csv in range(1,7):\n",
    "    taxidata = None\n",
    "    rq2 = None\n",
    "\n",
    "    # Loading CSV file\n",
    "    taxi_data = pd.read_csv('data/yellow_tripdata_2018-0'+str(csv)+'.csv', \n",
    "                            sep=',', \n",
    "                            encoding='latin1', \n",
    "                            usecols = ['tpep_pickup_datetime','PULocationID','DOLocationID']) #, nrows = 100000\n",
    "    \n",
    "    \n",
    "    # Cleaning Data filtering just for the actual days of the month\n",
    "    rq2 = taxi_data[(taxi_data['tpep_pickup_datetime'] >= '2018-0'+str(csv)+'-01') & \n",
    "                    (taxi_data['tpep_pickup_datetime'] <= '2018-0'+str(csv)+'-31')]\n",
    "    \n",
    "    tmp.append(rq2)\n",
    "    print(\"executed\"+str(csv))\n",
    "    del rq2\n",
    "\n",
    "taxi_data = pd.concat([*tmp])\n",
    "# \n",
    "del tmp\n",
    "taxi_data = taxi_data.drop('tpep_pickup_datetime', axis = 1)\n",
    "taxi_zone_lookup = pd.read_csv('data/taxi_zone_lookup.csv', sep=',', encoding='latin1')\n",
    "taxi_data = taxi_data.join(taxi_zone_lookup.set_index('LocationID').add_prefix('PU_'), on='PULocationID')\n",
    "taxi_data = taxi_data.join(taxi_zone_lookup.set_index('LocationID').add_prefix('DO_'), on='DOLocationID')\n",
    "taxi_data.head(5)\n",
    "\n"
   ]
  },
  {
   "cell_type": "markdown",
   "metadata": {},
   "source": [
    "## PICK UP LOCATIONS"
   ]
  },
  {
   "cell_type": "markdown",
   "metadata": {},
   "source": [
    "We then focus just on the pick up data, which is the pick up ID and the Borough"
   ]
  },
  {
   "cell_type": "code",
   "execution_count": 7,
   "metadata": {},
   "outputs": [
    {
     "data": {
      "text/html": [
       "<div>\n",
       "<style scoped>\n",
       "    .dataframe tbody tr th:only-of-type {\n",
       "        vertical-align: middle;\n",
       "    }\n",
       "\n",
       "    .dataframe tbody tr th {\n",
       "        vertical-align: top;\n",
       "    }\n",
       "\n",
       "    .dataframe thead th {\n",
       "        text-align: right;\n",
       "    }\n",
       "</style>\n",
       "<table border=\"1\" class=\"dataframe\">\n",
       "  <thead>\n",
       "    <tr style=\"text-align: right;\">\n",
       "      <th></th>\n",
       "      <th>PULocationID</th>\n",
       "      <th>PU_Borough</th>\n",
       "    </tr>\n",
       "  </thead>\n",
       "  <tbody>\n",
       "    <tr>\n",
       "      <th>0</th>\n",
       "      <td>41</td>\n",
       "      <td>Manhattan</td>\n",
       "    </tr>\n",
       "    <tr>\n",
       "      <th>1</th>\n",
       "      <td>239</td>\n",
       "      <td>Manhattan</td>\n",
       "    </tr>\n",
       "    <tr>\n",
       "      <th>2</th>\n",
       "      <td>262</td>\n",
       "      <td>Manhattan</td>\n",
       "    </tr>\n",
       "    <tr>\n",
       "      <th>3</th>\n",
       "      <td>140</td>\n",
       "      <td>Manhattan</td>\n",
       "    </tr>\n",
       "    <tr>\n",
       "      <th>4</th>\n",
       "      <td>246</td>\n",
       "      <td>Manhattan</td>\n",
       "    </tr>\n",
       "  </tbody>\n",
       "</table>\n",
       "</div>"
      ],
      "text/plain": [
       "   PULocationID PU_Borough\n",
       "0            41  Manhattan\n",
       "1           239  Manhattan\n",
       "2           262  Manhattan\n",
       "3           140  Manhattan\n",
       "4           246  Manhattan"
      ]
     },
     "execution_count": 7,
     "metadata": {},
     "output_type": "execute_result"
    }
   ],
   "source": [
    "PU_Brough = taxi_data[['PULocationID','PU_Borough']]\n",
    "PU_Brough.head(5)"
   ]
  },
  {
   "cell_type": "markdown",
   "metadata": {},
   "source": [
    "We group the data by borough and count how many istances each borough has"
   ]
  },
  {
   "cell_type": "code",
   "execution_count": 8,
   "metadata": {},
   "outputs": [],
   "source": [
    "PU_Brough = PU_Brough.groupby('PU_Borough').count()"
   ]
  },
  {
   "cell_type": "markdown",
   "metadata": {},
   "source": [
    "Then we remove the airport and the unknown, since they cannot be displayed in the map (the airport is not part of the GeoJSON)"
   ]
  },
  {
   "cell_type": "code",
   "execution_count": 9,
   "metadata": {},
   "outputs": [
    {
     "data": {
      "text/html": [
       "<div>\n",
       "<style scoped>\n",
       "    .dataframe tbody tr th:only-of-type {\n",
       "        vertical-align: middle;\n",
       "    }\n",
       "\n",
       "    .dataframe tbody tr th {\n",
       "        vertical-align: top;\n",
       "    }\n",
       "\n",
       "    .dataframe thead th {\n",
       "        text-align: right;\n",
       "    }\n",
       "</style>\n",
       "<table border=\"1\" class=\"dataframe\">\n",
       "  <thead>\n",
       "    <tr style=\"text-align: right;\">\n",
       "      <th></th>\n",
       "      <th>PU_Borough</th>\n",
       "      <th>PULocationID</th>\n",
       "    </tr>\n",
       "  </thead>\n",
       "  <tbody>\n",
       "    <tr>\n",
       "      <th>0</th>\n",
       "      <td>Bronx</td>\n",
       "      <td>54936</td>\n",
       "    </tr>\n",
       "    <tr>\n",
       "      <th>1</th>\n",
       "      <td>Brooklyn</td>\n",
       "      <td>671795</td>\n",
       "    </tr>\n",
       "    <tr>\n",
       "      <th>3</th>\n",
       "      <td>Manhattan</td>\n",
       "      <td>48111826</td>\n",
       "    </tr>\n",
       "    <tr>\n",
       "      <th>4</th>\n",
       "      <td>Queens</td>\n",
       "      <td>3310442</td>\n",
       "    </tr>\n",
       "    <tr>\n",
       "      <th>5</th>\n",
       "      <td>Staten Island</td>\n",
       "      <td>804</td>\n",
       "    </tr>\n",
       "  </tbody>\n",
       "</table>\n",
       "</div>"
      ],
      "text/plain": [
       "      PU_Borough  PULocationID\n",
       "0          Bronx         54936\n",
       "1       Brooklyn        671795\n",
       "3      Manhattan      48111826\n",
       "4         Queens       3310442\n",
       "5  Staten Island           804"
      ]
     },
     "execution_count": 9,
     "metadata": {},
     "output_type": "execute_result"
    }
   ],
   "source": [
    "PU_Brough = PU_Brough.reset_index()\n",
    "PU_Brough = PU_Brough[(PU_Brough.PU_Borough != 'EWR') & (PU_Brough.PU_Borough != 'Unknown')]\n",
    "PU_Brough"
   ]
  },
  {
   "cell_type": "markdown",
   "metadata": {},
   "source": [
    "Finally we create and display the choropleth map, combining all the data we got so far."
   ]
  },
  {
   "cell_type": "code",
   "execution_count": 10,
   "metadata": {},
   "outputs": [
    {
     "data": {
      "text/plain": [
       "<folium.map.LayerControl at 0x1165ce128>"
      ]
     },
     "execution_count": 10,
     "metadata": {},
     "output_type": "execute_result"
    }
   ],
   "source": [
    "m = folium.Map([40.7, -74], zoom_start=10.4, tiles='cartodbpositron')\n",
    "m.choropleth(\n",
    "     geo_data=nyc_json,\n",
    "     name='choropleth',\n",
    "     data=PU_Brough,\n",
    "     columns=['PU_Borough', 'PULocationID'],\n",
    "     key_on='feature.properties.BoroName',\n",
    "     fill_color='Blues',\n",
    "     fill_opacity=0.7,\n",
    "     line_opacity=1.0,\n",
    "     legend_name='Pick up Location'\n",
    ")\n",
    "folium.LayerControl().add_to(m)\n"
   ]
  },
  {
   "cell_type": "code",
   "execution_count": null,
   "metadata": {
    "scrolled": true
   },
   "outputs": [],
   "source": [
    "m"
   ]
  },
  {
   "cell_type": "markdown",
   "metadata": {},
   "source": [
    "**See `results/pickupmap.html`**"
   ]
  },
  {
   "cell_type": "markdown",
   "metadata": {},
   "source": [
    "## DROP OFF LOCATIONS"
   ]
  },
  {
   "cell_type": "markdown",
   "metadata": {},
   "source": [
    "We repeat exactly the same proceadure, this time for the Drop Off data"
   ]
  },
  {
   "cell_type": "code",
   "execution_count": 12,
   "metadata": {
    "scrolled": true
   },
   "outputs": [
    {
     "data": {
      "text/html": [
       "<div>\n",
       "<style scoped>\n",
       "    .dataframe tbody tr th:only-of-type {\n",
       "        vertical-align: middle;\n",
       "    }\n",
       "\n",
       "    .dataframe tbody tr th {\n",
       "        vertical-align: top;\n",
       "    }\n",
       "\n",
       "    .dataframe thead th {\n",
       "        text-align: right;\n",
       "    }\n",
       "</style>\n",
       "<table border=\"1\" class=\"dataframe\">\n",
       "  <thead>\n",
       "    <tr style=\"text-align: right;\">\n",
       "      <th></th>\n",
       "      <th>DOLocationID</th>\n",
       "      <th>DO_Borough</th>\n",
       "    </tr>\n",
       "  </thead>\n",
       "  <tbody>\n",
       "    <tr>\n",
       "      <th>0</th>\n",
       "      <td>24</td>\n",
       "      <td>Manhattan</td>\n",
       "    </tr>\n",
       "    <tr>\n",
       "      <th>1</th>\n",
       "      <td>140</td>\n",
       "      <td>Manhattan</td>\n",
       "    </tr>\n",
       "    <tr>\n",
       "      <th>2</th>\n",
       "      <td>141</td>\n",
       "      <td>Manhattan</td>\n",
       "    </tr>\n",
       "    <tr>\n",
       "      <th>3</th>\n",
       "      <td>257</td>\n",
       "      <td>Brooklyn</td>\n",
       "    </tr>\n",
       "    <tr>\n",
       "      <th>4</th>\n",
       "      <td>239</td>\n",
       "      <td>Manhattan</td>\n",
       "    </tr>\n",
       "  </tbody>\n",
       "</table>\n",
       "</div>"
      ],
      "text/plain": [
       "   DOLocationID DO_Borough\n",
       "0            24  Manhattan\n",
       "1           140  Manhattan\n",
       "2           141  Manhattan\n",
       "3           257   Brooklyn\n",
       "4           239  Manhattan"
      ]
     },
     "execution_count": 12,
     "metadata": {},
     "output_type": "execute_result"
    }
   ],
   "source": [
    "DO_Brough = taxi_data[['DOLocationID','DO_Borough']]\n",
    "DO_Brough.head(5)"
   ]
  },
  {
   "cell_type": "code",
   "execution_count": 13,
   "metadata": {},
   "outputs": [],
   "source": [
    "DO_Brough = DO_Brough.groupby('DO_Borough').count()"
   ]
  },
  {
   "cell_type": "code",
   "execution_count": 14,
   "metadata": {},
   "outputs": [
    {
     "data": {
      "text/html": [
       "<div>\n",
       "<style scoped>\n",
       "    .dataframe tbody tr th:only-of-type {\n",
       "        vertical-align: middle;\n",
       "    }\n",
       "\n",
       "    .dataframe tbody tr th {\n",
       "        vertical-align: top;\n",
       "    }\n",
       "\n",
       "    .dataframe thead th {\n",
       "        text-align: right;\n",
       "    }\n",
       "</style>\n",
       "<table border=\"1\" class=\"dataframe\">\n",
       "  <thead>\n",
       "    <tr style=\"text-align: right;\">\n",
       "      <th></th>\n",
       "      <th>DO_Borough</th>\n",
       "      <th>DOLocationID</th>\n",
       "    </tr>\n",
       "  </thead>\n",
       "  <tbody>\n",
       "    <tr>\n",
       "      <th>0</th>\n",
       "      <td>Bronx</td>\n",
       "      <td>333199</td>\n",
       "    </tr>\n",
       "    <tr>\n",
       "      <th>1</th>\n",
       "      <td>Brooklyn</td>\n",
       "      <td>2242312</td>\n",
       "    </tr>\n",
       "    <tr>\n",
       "      <th>3</th>\n",
       "      <td>Manhattan</td>\n",
       "      <td>46917439</td>\n",
       "    </tr>\n",
       "    <tr>\n",
       "      <th>4</th>\n",
       "      <td>Queens</td>\n",
       "      <td>2539838</td>\n",
       "    </tr>\n",
       "    <tr>\n",
       "      <th>5</th>\n",
       "      <td>Staten Island</td>\n",
       "      <td>11050</td>\n",
       "    </tr>\n",
       "  </tbody>\n",
       "</table>\n",
       "</div>"
      ],
      "text/plain": [
       "      DO_Borough  DOLocationID\n",
       "0          Bronx        333199\n",
       "1       Brooklyn       2242312\n",
       "3      Manhattan      46917439\n",
       "4         Queens       2539838\n",
       "5  Staten Island         11050"
      ]
     },
     "execution_count": 14,
     "metadata": {},
     "output_type": "execute_result"
    }
   ],
   "source": [
    "DO_Brough = DO_Brough.reset_index()\n",
    "DO_Brough = DO_Brough[(DO_Brough.DO_Borough != 'EWR') & (DO_Brough.DO_Borough != 'Unknown')]\n",
    "DO_Brough"
   ]
  },
  {
   "cell_type": "code",
   "execution_count": 15,
   "metadata": {},
   "outputs": [],
   "source": [
    "m2 = folium.Map([40.7, -74], zoom_start=10.4, tiles='cartodbpositron')"
   ]
  },
  {
   "cell_type": "code",
   "execution_count": 16,
   "metadata": {},
   "outputs": [
    {
     "data": {
      "text/plain": [
       "<folium.map.LayerControl at 0x1e481b048>"
      ]
     },
     "execution_count": 16,
     "metadata": {},
     "output_type": "execute_result"
    }
   ],
   "source": [
    "m2.choropleth(\n",
    "     geo_data=nyc_json,\n",
    "     name='choropleth',\n",
    "     data=DO_Brough,\n",
    "     columns=['DO_Borough', 'DOLocationID'],\n",
    "     key_on='feature.properties.BoroName',\n",
    "     fill_color= 'Blues',\n",
    "     fill_opacity=0.7,\n",
    "     line_opacity=1.0,\n",
    "     legend_name='Drop Off Location'\n",
    ")\n",
    "folium.LayerControl().add_to(m2)"
   ]
  },
  {
   "cell_type": "code",
   "execution_count": null,
   "metadata": {},
   "outputs": [],
   "source": [
    "m2"
   ]
  },
  {
   "cell_type": "markdown",
   "metadata": {},
   "source": [
    "**See `results/dropoffmap.html`**"
   ]
  },
  {
   "cell_type": "markdown",
   "metadata": {},
   "source": [
    "We save a copy of the maps in HTML.    "
   ]
  },
  {
   "cell_type": "code",
   "execution_count": null,
   "metadata": {},
   "outputs": [],
   "source": [
    "m.save('results/pickupmap.html')\n",
    "m2.save('results/dropoffmap.html')"
   ]
  },
  {
   "cell_type": "markdown",
   "metadata": {},
   "source": [
    "In conclusion is interesting to comment the data we visualized here. We can see both from the pick up and the drop off data that Manhattan is the dominant borough, with much higher number of taxi movements than in any other part of the city. Once again this does not let us really understand what is happening around: since Manhattan has such an high number, the shades of colors of others boroughs become too similar each other to be able to see the difference between them. Probably the Choropleth map is not the best way to visualize this kind of data, because it does not give us any other information apart from the high number of records in Manhattan."
   ]
  },
  {
   "cell_type": "markdown",
   "metadata": {},
   "source": [
    "## PICK UP/ DROP OFF WITHOUT MANHATTAN"
   ]
  },
  {
   "cell_type": "markdown",
   "metadata": {},
   "source": [
    "We now try to display again the maps to see how it change if we remove Manhattan (i.e. we set it to an value equal to -10000). In this way we will be able to see how the rest of the transitions are distribuited along the territory."
   ]
  },
  {
   "cell_type": "code",
   "execution_count": null,
   "metadata": {
    "scrolled": true
   },
   "outputs": [],
   "source": [
    "PU_Brough.loc[PU_Brough.PU_Borough == 'Manhattan', 'PULocationID'] = -10000\n",
    "m3 = folium.Map([40.7, -74], zoom_start=10.4, tiles='cartodbpositron')\n",
    "m3.choropleth(\n",
    "     geo_data=nyc_json,\n",
    "     name='choropleth',\n",
    "     data=PU_Brough,\n",
    "     columns=['PU_Borough', 'PULocationID'],\n",
    "     key_on='feature.properties.BoroName',\n",
    "     fill_color= 'Blues',\n",
    "     fill_opacity=0.7,\n",
    "     line_opacity=1.0,\n",
    "     legend_name='Pick up Location No Manhattan'\n",
    ")\n",
    "folium.LayerControl().add_to(m3)\n",
    "m3"
   ]
  },
  {
   "cell_type": "markdown",
   "metadata": {},
   "source": [
    "**See `results/pickupmapnoManhattan.html`**"
   ]
  },
  {
   "cell_type": "code",
   "execution_count": null,
   "metadata": {},
   "outputs": [],
   "source": [
    "DO_Brough.loc[DO_Brough.DO_Borough == 'Manhattan', 'DOLocationID'] = -10000\n",
    "m4 = folium.Map([40.7, -74], zoom_start=10.4, tiles='cartodbpositron')\n",
    "m4.choropleth(\n",
    "     geo_data=nyc_json,\n",
    "     name='choropleth',\n",
    "     data=DO_Brough,\n",
    "     columns=['DO_Borough', 'DOLocationID'],\n",
    "     key_on='feature.properties.BoroName',\n",
    "     fill_color= 'Blues',\n",
    "     fill_opacity=0.7,\n",
    "     line_opacity=1.0,\n",
    "     legend_name='Drop off Location No Manhattan'\n",
    ")\n",
    "folium.LayerControl().add_to(m4)\n",
    "m4"
   ]
  },
  {
   "cell_type": "markdown",
   "metadata": {},
   "source": [
    "**See `results/dropoffmapnoManhattan.html`**"
   ]
  },
  {
   "cell_type": "markdown",
   "metadata": {},
   "source": [
    "From these last two visualizations we can observe that:\n",
    "- If we exclude Manhattan, then we can see the different shades of colors between the others boroughts, with Queens being the second busiest location, folowed by Brooklyn, Bronks and Staten Island.\n",
    "- There's just one visible difference between the pickups and the dropoffs: the pick ups locations are mainly focused on Queens area, meanwhile for the drop offs, it seem that visually there's no difference between Brooklyn and Queens. This may mean that many people get to Queens with some other transportation veicle and then decide to go back to Brooklyn in taxi, more or less as much as Queens. The other two areas seems to keep being the same."
   ]
  },
  {
   "cell_type": "code",
   "execution_count": 21,
   "metadata": {},
   "outputs": [],
   "source": [
    "m3.save('results/pickupmapnoManhattan.html')\n",
    "m4.save('results/dropoffmapnoManhattan.html')"
   ]
  },
  {
   "cell_type": "markdown",
   "metadata": {},
   "source": [
    "## PICK UP/ DROP OFF BY DISTRICT"
   ]
  },
  {
   "cell_type": "markdown",
   "metadata": {},
   "source": [
    "Since we want to understand better the geographical data we have, we decided to implement a visualization by district as well, that is going to be more specific than the one by borough. To do so, we used a different geojson of New York City that we got from: http://data.beta.nyc/dataset/nyc-zoning-districts."
   ]
  },
  {
   "cell_type": "code",
   "execution_count": 22,
   "metadata": {},
   "outputs": [],
   "source": [
    "with open(os.path.join('data', 'nyu-geojson.json')) as json_file:\n",
    "    nyc_json = json.load(json_file)"
   ]
  },
  {
   "cell_type": "code",
   "execution_count": 23,
   "metadata": {},
   "outputs": [],
   "source": [
    "test2 = folium.Map([40.7, -74], zoom_start=10.4, tiles='cartodbpositron')"
   ]
  },
  {
   "cell_type": "markdown",
   "metadata": {},
   "source": [
    "First we test if the json is working, as we did previously."
   ]
  },
  {
   "cell_type": "code",
   "execution_count": 24,
   "metadata": {},
   "outputs": [
    {
     "data": {
      "text/plain": [
       "<folium.features.GeoJson at 0x1af987a20>"
      ]
     },
     "execution_count": 24,
     "metadata": {},
     "output_type": "execute_result"
    }
   ],
   "source": [
    "folium.GeoJson(nyc_json).add_to(test2)"
   ]
  },
  {
   "cell_type": "code",
   "execution_count": null,
   "metadata": {},
   "outputs": [],
   "source": [
    "test2 #to keep the file size under 25mb, this test map has been removed"
   ]
  },
  {
   "cell_type": "markdown",
   "metadata": {},
   "source": [
    "### PICK UP BY DISTRICT"
   ]
  },
  {
   "cell_type": "code",
   "execution_count": 26,
   "metadata": {},
   "outputs": [
    {
     "data": {
      "text/html": [
       "<div>\n",
       "<style scoped>\n",
       "    .dataframe tbody tr th:only-of-type {\n",
       "        vertical-align: middle;\n",
       "    }\n",
       "\n",
       "    .dataframe tbody tr th {\n",
       "        vertical-align: top;\n",
       "    }\n",
       "\n",
       "    .dataframe thead th {\n",
       "        text-align: right;\n",
       "    }\n",
       "</style>\n",
       "<table border=\"1\" class=\"dataframe\">\n",
       "  <thead>\n",
       "    <tr style=\"text-align: right;\">\n",
       "      <th></th>\n",
       "      <th>PULocationID</th>\n",
       "      <th>PU_Zone</th>\n",
       "    </tr>\n",
       "  </thead>\n",
       "  <tbody>\n",
       "    <tr>\n",
       "      <th>0</th>\n",
       "      <td>41</td>\n",
       "      <td>Central Harlem</td>\n",
       "    </tr>\n",
       "    <tr>\n",
       "      <th>1</th>\n",
       "      <td>239</td>\n",
       "      <td>Upper West Side South</td>\n",
       "    </tr>\n",
       "    <tr>\n",
       "      <th>2</th>\n",
       "      <td>262</td>\n",
       "      <td>Yorkville East</td>\n",
       "    </tr>\n",
       "    <tr>\n",
       "      <th>3</th>\n",
       "      <td>140</td>\n",
       "      <td>Lenox Hill East</td>\n",
       "    </tr>\n",
       "    <tr>\n",
       "      <th>4</th>\n",
       "      <td>246</td>\n",
       "      <td>West Chelsea/Hudson Yards</td>\n",
       "    </tr>\n",
       "  </tbody>\n",
       "</table>\n",
       "</div>"
      ],
      "text/plain": [
       "   PULocationID                    PU_Zone\n",
       "0            41             Central Harlem\n",
       "1           239      Upper West Side South\n",
       "2           262             Yorkville East\n",
       "3           140            Lenox Hill East\n",
       "4           246  West Chelsea/Hudson Yards"
      ]
     },
     "execution_count": 26,
     "metadata": {},
     "output_type": "execute_result"
    }
   ],
   "source": [
    "PU_Brough = taxi_data[['PULocationID', 'PU_Zone']]\n",
    "PU_Brough.head(5)"
   ]
  },
  {
   "cell_type": "code",
   "execution_count": 27,
   "metadata": {},
   "outputs": [
    {
     "data": {
      "text/html": [
       "<div>\n",
       "<style scoped>\n",
       "    .dataframe tbody tr th:only-of-type {\n",
       "        vertical-align: middle;\n",
       "    }\n",
       "\n",
       "    .dataframe tbody tr th {\n",
       "        vertical-align: top;\n",
       "    }\n",
       "\n",
       "    .dataframe thead th {\n",
       "        text-align: right;\n",
       "    }\n",
       "</style>\n",
       "<table border=\"1\" class=\"dataframe\">\n",
       "  <thead>\n",
       "    <tr style=\"text-align: right;\">\n",
       "      <th></th>\n",
       "      <th>PU_Zone</th>\n",
       "      <th>freq</th>\n",
       "    </tr>\n",
       "  </thead>\n",
       "  <tbody>\n",
       "    <tr>\n",
       "      <th>0</th>\n",
       "      <td>Allerton/Pelham Gardens</td>\n",
       "      <td>419</td>\n",
       "    </tr>\n",
       "    <tr>\n",
       "      <th>1</th>\n",
       "      <td>Alphabet City</td>\n",
       "      <td>116075</td>\n",
       "    </tr>\n",
       "    <tr>\n",
       "      <th>2</th>\n",
       "      <td>Arden Heights</td>\n",
       "      <td>18</td>\n",
       "    </tr>\n",
       "    <tr>\n",
       "      <th>3</th>\n",
       "      <td>Arrochar/Fort Wadsworth</td>\n",
       "      <td>180</td>\n",
       "    </tr>\n",
       "    <tr>\n",
       "      <th>4</th>\n",
       "      <td>Astoria</td>\n",
       "      <td>87169</td>\n",
       "    </tr>\n",
       "  </tbody>\n",
       "</table>\n",
       "</div>"
      ],
      "text/plain": [
       "                   PU_Zone    freq\n",
       "0  Allerton/Pelham Gardens     419\n",
       "1            Alphabet City  116075\n",
       "2            Arden Heights      18\n",
       "3  Arrochar/Fort Wadsworth     180\n",
       "4                  Astoria   87169"
      ]
     },
     "execution_count": 27,
     "metadata": {},
     "output_type": "execute_result"
    }
   ],
   "source": [
    "PU_Brough = PU_Brough.groupby('PU_Zone').size().to_frame()\n",
    "PU_Brough = PU_Brough.rename(columns = {0:'freq'}).reset_index()\n",
    "PU_Brough.head(5)"
   ]
  },
  {
   "cell_type": "code",
   "execution_count": 28,
   "metadata": {},
   "outputs": [
    {
     "data": {
      "text/plain": [
       "<folium.map.LayerControl at 0x1861c37f0>"
      ]
     },
     "execution_count": 28,
     "metadata": {},
     "output_type": "execute_result"
    }
   ],
   "source": [
    "m5 = folium.Map([40.7, -74], zoom_start=10.4, tiles='cartodbpositron')\n",
    "m5.choropleth(\n",
    "     geo_data=nyc_json,\n",
    "     name='choropleth',\n",
    "     data=PU_Brough,\n",
    "     columns=['PU_Zone', 'freq'],\n",
    "     key_on='feature.properties.zone',\n",
    "     fill_color='Blues',\n",
    "     fill_opacity=0.7,\n",
    "     line_opacity=1.0,\n",
    "     legend_name='Pick up Location'\n",
    ")\n",
    "folium.LayerControl().add_to(m5)"
   ]
  },
  {
   "cell_type": "code",
   "execution_count": null,
   "metadata": {},
   "outputs": [],
   "source": [
    "m5"
   ]
  },
  {
   "cell_type": "markdown",
   "metadata": {},
   "source": [
    "**See `results/pickupmapByDistrict.html`**"
   ]
  },
  {
   "cell_type": "markdown",
   "metadata": {},
   "source": [
    "### DROP OFF BY DISTRICT"
   ]
  },
  {
   "cell_type": "code",
   "execution_count": 30,
   "metadata": {},
   "outputs": [
    {
     "data": {
      "text/html": [
       "<div>\n",
       "<style scoped>\n",
       "    .dataframe tbody tr th:only-of-type {\n",
       "        vertical-align: middle;\n",
       "    }\n",
       "\n",
       "    .dataframe tbody tr th {\n",
       "        vertical-align: top;\n",
       "    }\n",
       "\n",
       "    .dataframe thead th {\n",
       "        text-align: right;\n",
       "    }\n",
       "</style>\n",
       "<table border=\"1\" class=\"dataframe\">\n",
       "  <thead>\n",
       "    <tr style=\"text-align: right;\">\n",
       "      <th></th>\n",
       "      <th>DOLocationID</th>\n",
       "      <th>DO_Zone</th>\n",
       "    </tr>\n",
       "  </thead>\n",
       "  <tbody>\n",
       "    <tr>\n",
       "      <th>0</th>\n",
       "      <td>24</td>\n",
       "      <td>Bloomingdale</td>\n",
       "    </tr>\n",
       "    <tr>\n",
       "      <th>1</th>\n",
       "      <td>140</td>\n",
       "      <td>Lenox Hill East</td>\n",
       "    </tr>\n",
       "    <tr>\n",
       "      <th>2</th>\n",
       "      <td>141</td>\n",
       "      <td>Lenox Hill West</td>\n",
       "    </tr>\n",
       "    <tr>\n",
       "      <th>3</th>\n",
       "      <td>257</td>\n",
       "      <td>Windsor Terrace</td>\n",
       "    </tr>\n",
       "    <tr>\n",
       "      <th>4</th>\n",
       "      <td>239</td>\n",
       "      <td>Upper West Side South</td>\n",
       "    </tr>\n",
       "  </tbody>\n",
       "</table>\n",
       "</div>"
      ],
      "text/plain": [
       "   DOLocationID                DO_Zone\n",
       "0            24           Bloomingdale\n",
       "1           140        Lenox Hill East\n",
       "2           141        Lenox Hill West\n",
       "3           257        Windsor Terrace\n",
       "4           239  Upper West Side South"
      ]
     },
     "execution_count": 30,
     "metadata": {},
     "output_type": "execute_result"
    }
   ],
   "source": [
    "DO_Brough = taxi_data[['DOLocationID', 'DO_Zone']]\n",
    "DO_Brough.head(5)"
   ]
  },
  {
   "cell_type": "code",
   "execution_count": 31,
   "metadata": {},
   "outputs": [
    {
     "data": {
      "text/html": [
       "<div>\n",
       "<style scoped>\n",
       "    .dataframe tbody tr th:only-of-type {\n",
       "        vertical-align: middle;\n",
       "    }\n",
       "\n",
       "    .dataframe tbody tr th {\n",
       "        vertical-align: top;\n",
       "    }\n",
       "\n",
       "    .dataframe thead th {\n",
       "        text-align: right;\n",
       "    }\n",
       "</style>\n",
       "<table border=\"1\" class=\"dataframe\">\n",
       "  <thead>\n",
       "    <tr style=\"text-align: right;\">\n",
       "      <th></th>\n",
       "      <th>DO_Zone</th>\n",
       "      <th>freq</th>\n",
       "    </tr>\n",
       "  </thead>\n",
       "  <tbody>\n",
       "    <tr>\n",
       "      <th>0</th>\n",
       "      <td>Allerton/Pelham Gardens</td>\n",
       "      <td>3433</td>\n",
       "    </tr>\n",
       "    <tr>\n",
       "      <th>1</th>\n",
       "      <td>Alphabet City</td>\n",
       "      <td>252158</td>\n",
       "    </tr>\n",
       "    <tr>\n",
       "      <th>2</th>\n",
       "      <td>Arden Heights</td>\n",
       "      <td>322</td>\n",
       "    </tr>\n",
       "    <tr>\n",
       "      <th>3</th>\n",
       "      <td>Arrochar/Fort Wadsworth</td>\n",
       "      <td>966</td>\n",
       "    </tr>\n",
       "    <tr>\n",
       "      <th>4</th>\n",
       "      <td>Astoria</td>\n",
       "      <td>231194</td>\n",
       "    </tr>\n",
       "  </tbody>\n",
       "</table>\n",
       "</div>"
      ],
      "text/plain": [
       "                   DO_Zone    freq\n",
       "0  Allerton/Pelham Gardens    3433\n",
       "1            Alphabet City  252158\n",
       "2            Arden Heights     322\n",
       "3  Arrochar/Fort Wadsworth     966\n",
       "4                  Astoria  231194"
      ]
     },
     "execution_count": 31,
     "metadata": {},
     "output_type": "execute_result"
    }
   ],
   "source": [
    "DO_Brough = DO_Brough.groupby('DO_Zone').size().to_frame()\n",
    "DO_Brough = DO_Brough.rename(columns = {0:'freq'}).reset_index()\n",
    "DO_Brough.head(5)"
   ]
  },
  {
   "cell_type": "code",
   "execution_count": 32,
   "metadata": {},
   "outputs": [
    {
     "data": {
      "text/plain": [
       "<folium.map.LayerControl at 0x122897898>"
      ]
     },
     "execution_count": 32,
     "metadata": {},
     "output_type": "execute_result"
    }
   ],
   "source": [
    "m6 = folium.Map([40.7, -74], zoom_start=10.4, tiles='cartodbpositron')\n",
    "m6.choropleth(\n",
    "     geo_data=nyc_json,\n",
    "     name='choropleth',\n",
    "     data=DO_Brough,\n",
    "     columns=['DO_Zone', 'freq'],\n",
    "     key_on='feature.properties.zone',\n",
    "     fill_color='Blues',\n",
    "     fill_opacity=0.7,\n",
    "     line_opacity=1.0,\n",
    "     legend_name='Drop off Location'\n",
    ")\n",
    "folium.LayerControl().add_to(m6)"
   ]
  },
  {
   "cell_type": "code",
   "execution_count": null,
   "metadata": {
    "scrolled": false
   },
   "outputs": [],
   "source": [
    "m6"
   ]
  },
  {
   "cell_type": "markdown",
   "metadata": {},
   "source": [
    "**See `results/dropoffmapByDistrict.html`**"
   ]
  },
  {
   "cell_type": "code",
   "execution_count": 34,
   "metadata": {},
   "outputs": [],
   "source": [
    "m5.save('results/pickupmapByDistrict.html')\n",
    "m6.save('results/dropoffmapByDistrict.html')"
   ]
  },
  {
   "cell_type": "code",
   "execution_count": 35,
   "metadata": {},
   "outputs": [],
   "source": [
    "del taxi_data"
   ]
  },
  {
   "cell_type": "markdown",
   "metadata": {},
   "source": [
    "With this new two visualizations we can see that Manhattan is still predominant, as we saw in the other plots. We can notice as well which are the district that are more busy, which seems to be the same for the pick ups and the drop offs. In Staten Island we have two distric (one in the pick up and one in the drop off chart) that have huge values. Those may be anomalies in the data (or some missing names in the GeoJSON, which are going to be covered with the darkest color)."
   ]
  }
 ],
 "metadata": {
  "kernelspec": {
   "display_name": "Python 3",
   "language": "python",
   "name": "python3"
  },
  "language_info": {
   "codemirror_mode": {
    "name": "ipython",
    "version": 3
   },
   "file_extension": ".py",
   "mimetype": "text/x-python",
   "name": "python",
   "nbconvert_exporter": "python",
   "pygments_lexer": "ipython3",
   "version": "3.6.5"
  },
  "widgets": {
   "application/vnd.jupyter.widget-state+json": {
    "state": {},
    "version_major": 2,
    "version_minor": 0
   }
  }
 },
 "nbformat": 4,
 "nbformat_minor": 2
}
